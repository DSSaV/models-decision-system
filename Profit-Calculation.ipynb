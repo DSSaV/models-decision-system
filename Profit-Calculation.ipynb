{
 "cells": [
  {
   "cell_type": "code",
   "execution_count": 1,
   "metadata": {},
   "outputs": [],
   "source": [
    "import pandas as pd\n",
    "import numpy as np\n",
    "import math\n",
    "import yaml"
   ]
  },
  {
   "cell_type": "markdown",
   "metadata": {},
   "source": [
    "### Help Functions"
   ]
  },
  {
   "cell_type": "code",
   "execution_count": 2,
   "metadata": {},
   "outputs": [],
   "source": [
    "def calculate_amount(unit_price, budget):\n",
    "    amount = budget / unit_price\n",
    "    return amount\n",
    "\n",
    "def calculate_profit(buy_price, sell_price):\n",
    "    profit = sell_price - buy_price\n",
    "    return profit\n",
    "\n",
    "def get_weighted_list_length(list_item, weight):\n",
    "    list_length = int(math.ceil(len(list_item) * weight))\n",
    "    return list_length\n",
    "\n",
    "def load_yaml(path):\n",
    "    with open(path, mode='r') as file:\n",
    "        return yaml.load(file, Loader=yaml.FullLoader)\n",
    "    \n",
    "def process(src):\n",
    "    return pd.read_csv(src, delimiter=',',index_col=0)"
   ]
  },
  {
   "cell_type": "markdown",
   "metadata": {},
   "source": [
    "## Multi-position investment function"
   ]
  },
  {
   "cell_type": "code",
   "execution_count": 3,
   "metadata": {},
   "outputs": [],
   "source": [
    "def multi_position_investing(input_dataframe, investment_capital, buy_weight, sell_weight):\n",
    "    \"\"\"\n",
    "    Args:\n",
    "        input_dataframe: pandas.DataFrame\n",
    "                    Column position [0] needs to be close price.\n",
    "                    All other columns need to consist of \"Buy\"/\"Sell\"/\"Hold\" decisions.\n",
    "        investment_capital: Float\n",
    "                    The amount of \"money\" able to be invested.\n",
    "        buy_weight: Float\n",
    "                    Values must be between 0-1. Represents the amount to invest from\n",
    "                    available remaining capital (in procentage). Ie, 0.5 -> 50% of remaining\n",
    "                    available capital on buy.\n",
    "        sell_weight: Float\n",
    "                    Values must be between 0-1. Represents the amount of invested capital\n",
    "                    to sell out of (in procentage). Ie, 0.5 -> 50% of invested capital on sell.\n",
    "    Returns:\n",
    "        pandas.DataFrame\n",
    "            Profit calculations appended to input_dataframe.\n",
    "    \"\"\"\n",
    "    \n",
    "    res = pd.DataFrame(index=input_dataframe.index, columns=input_dataframe.columns[1:])\n",
    "    res = res.rename(columns={\"random_forest\": \"random_forest_profit\", \"svc\":\"svc_profit\",\n",
    "                              \"logreg\":\"logreg_profit\", \"gauss_nb\": \"gauss_nb_profit\"})\n",
    "    \n",
    "    # LOOP THROUGH COLUMNS\n",
    "    for col in input_dataframe.columns[1:]:\n",
    "        current_profit = 0\n",
    "        holding_value = 0\n",
    "        resulting_col = col + \"_profit\"\n",
    "        \n",
    "        wallet = investment_capital\n",
    "        positions_close = []\n",
    "        positions_amount = []\n",
    "        investment_amount = wallet * buy_weight\n",
    "    \n",
    "        # LOOP THROUGH EACH ROW\n",
    "        for i in range(len(input_dataframe)):\n",
    "            \n",
    "            current_close_price = input_dataframe[\"close\"].iloc[i]\n",
    "            label = input_dataframe[col].iloc[i]\n",
    "            \n",
    "            # ON BUY\n",
    "            if((wallet > 0) & (label == \"buy\")):\n",
    "                # check to see if invest wallet amount or investment amount.\n",
    "                if wallet < investment_amount:\n",
    "                    amount = calculate_amount(current_close_price, wallet)\n",
    "                    positions_close.append(current_close_price)\n",
    "                    positions_amount.append(amount)\n",
    "                    # remove money from wallet\n",
    "                    wallet -= wallet\n",
    "                    investment_amount = wallet * buy_weight\n",
    "                    \n",
    "                else:\n",
    "                    amount = calculate_amount(current_close_price, investment_amount)\n",
    "                    positions_close.append(current_close_price)\n",
    "                    positions_amount.append(amount)\n",
    "                    # remove money from wallet\n",
    "                    wallet -= investment_amount\n",
    "                    investment_amount = wallet * buy_weight\n",
    "\n",
    "                # ADD NEW PROFIT TO DATAFRAME\n",
    "                res[resulting_col].iloc[i] = current_profit\n",
    "                \n",
    "\n",
    "            # ON SELL\n",
    "            elif((len(positions_close) > 0) & (label == \"sell\")):\n",
    "                n = get_weighted_list_length(positions_close, sell_weight)\n",
    "                for close_p, amount_p in zip(positions_close[:n], positions_amount[:n]):\n",
    "                    # get sell price and compare to buy price\n",
    "                    selling_price = current_close_price * amount_p\n",
    "                    buying_price = close_p * amount_p\n",
    "                    # update wallet to have money again, i.e selling_price\n",
    "                    wallet += selling_price\n",
    "                    # register profit/loss\n",
    "                    profit = calculate_profit(buying_price, selling_price)\n",
    "                    current_profit += profit\n",
    "                investment_amount = wallet * buy_weight\n",
    "                    \n",
    "                # ADD NEW PROFIT TO DATAFRAME\n",
    "                res[resulting_col].iloc[i] = current_profit\n",
    "                \n",
    "                # EMPTY POSITIONS LISTS\n",
    "                positions_close = positions_close[n:]\n",
    "                positions_amount = positions_amount[n:]\n",
    "\n",
    "            # ON HOLD\n",
    "            else:\n",
    "                # Since we are holding, do nothing except udpate current profit\n",
    "                # ADD NEW PROFIT TO DATAFRAME\n",
    "                res[resulting_col].iloc[i] = current_profit\n",
    "    \n",
    "        # SELL OFF OUT REMAINING POSITIONS\n",
    "        current_close_price = input_dataframe[\"close\"].iloc[-1]\n",
    "        for close_p, amount_p in zip(positions_close, positions_amount):\n",
    "            selling_price = current_close_price * amount_p\n",
    "            buying_price = close_p * amount_p\n",
    "            profit = calculate_profit(buying_price, selling_price)\n",
    "            current_profit += profit\n",
    "        positions_close = positions_close[n:]\n",
    "        positions_amount = positions_amount[n:]\n",
    "        res[resulting_col].iloc[-1] = current_profit\n",
    "    \n",
    "    output_dataframe = pd.concat([input_dataframe, res], axis=1)\n",
    "    \n",
    "    return output_dataframe"
   ]
  },
  {
   "cell_type": "code",
   "execution_count": 4,
   "metadata": {},
   "outputs": [],
   "source": [
    "#configs = load_yaml('profit_calculation_config.yaml')\n",
    "#configs"
   ]
  },
  {
   "cell_type": "code",
   "execution_count": 5,
   "metadata": {},
   "outputs": [],
   "source": [
    "def profiles_calculation(yaml_configs):\n",
    "    configs = load_yaml(yaml_configs)\n",
    "    profiles = configs['investing_profiles']\n",
    "    data = process(configs['data'])\n",
    "    investment_capital = configs['investment_capital']\n",
    "    profiles\n",
    "    results = []\n",
    "    for profile in profiles:\n",
    "        buy_weight = profiles[profile]['buy_weight']\n",
    "        sell_weight = profiles[profile]['sell_weight']\n",
    "        result = multi_position_investing(data, investment_capital,buy_weight, sell_weight)\n",
    "        results.append(result)\n",
    "    return results\n",
    "    \n",
    "    "
   ]
  },
  {
   "cell_type": "markdown",
   "metadata": {},
   "source": [
    "### Example use  of multi-position investment function:"
   ]
  },
  {
   "cell_type": "code",
   "execution_count": 6,
   "metadata": {
    "scrolled": false
   },
   "outputs": [
    {
     "ename": "NameError",
     "evalue": "name 'mock_frame' is not defined",
     "output_type": "error",
     "traceback": [
      "\u001b[0;31m---------------------------------------------------------------------------\u001b[0m",
      "\u001b[0;31mNameError\u001b[0m                                 Traceback (most recent call last)",
      "\u001b[0;32m<ipython-input-6-5749be29f79b>\u001b[0m in \u001b[0;36m<module>\u001b[0;34m\u001b[0m\n\u001b[0;32m----> 1\u001b[0;31m \u001b[0mmulti_example\u001b[0m \u001b[0;34m=\u001b[0m \u001b[0mmulti_position_investing\u001b[0m\u001b[0;34m(\u001b[0m\u001b[0mmock_frame\u001b[0m\u001b[0;34m,\u001b[0m \u001b[0;36m100\u001b[0m\u001b[0;34m,\u001b[0m\u001b[0;36m1\u001b[0m\u001b[0;34m,\u001b[0m\u001b[0;36m1\u001b[0m\u001b[0;34m)\u001b[0m \u001b[0;31m# 1 = 100% usage of money, 0.5 = 50% useage of money.\u001b[0m\u001b[0;34m\u001b[0m\u001b[0;34m\u001b[0m\u001b[0m\n\u001b[0m\u001b[1;32m      2\u001b[0m \u001b[0mlen\u001b[0m\u001b[0;34m(\u001b[0m\u001b[0mmulti_example\u001b[0m\u001b[0;34m)\u001b[0m\u001b[0;34m\u001b[0m\u001b[0;34m\u001b[0m\u001b[0m\n",
      "\u001b[0;31mNameError\u001b[0m: name 'mock_frame' is not defined"
     ]
    }
   ],
   "source": [
    "mock_frame = \n",
    "multi_example = multi_position_investing(mock_frame, 100,1,1) # 1 = 100% usage of money, 0.5 = 50% useage of money.\n",
    "len(multi_example)"
   ]
  },
  {
   "cell_type": "markdown",
   "metadata": {},
   "source": [
    "### Example use of profiles_calculation:"
   ]
  },
  {
   "cell_type": "code",
   "execution_count": 9,
   "metadata": {},
   "outputs": [
    {
     "data": {
      "text/plain": [
       "5"
      ]
     },
     "execution_count": 9,
     "metadata": {},
     "output_type": "execute_result"
    }
   ],
   "source": [
    "all_profiles = profiles_calculation('profit_calculation_config.yaml')\n",
    "len(all_profiles)"
   ]
  },
  {
   "cell_type": "code",
   "execution_count": 10,
   "metadata": {},
   "outputs": [
    {
     "data": {
      "text/html": [
       "<div>\n",
       "<style scoped>\n",
       "    .dataframe tbody tr th:only-of-type {\n",
       "        vertical-align: middle;\n",
       "    }\n",
       "\n",
       "    .dataframe tbody tr th {\n",
       "        vertical-align: top;\n",
       "    }\n",
       "\n",
       "    .dataframe thead th {\n",
       "        text-align: right;\n",
       "    }\n",
       "</style>\n",
       "<table border=\"1\" class=\"dataframe\">\n",
       "  <thead>\n",
       "    <tr style=\"text-align: right;\">\n",
       "      <th></th>\n",
       "      <th>close</th>\n",
       "      <th>random_forest</th>\n",
       "      <th>svc</th>\n",
       "      <th>logreg</th>\n",
       "      <th>gauss_nb</th>\n",
       "      <th>random_forest_profit</th>\n",
       "      <th>svc_profit</th>\n",
       "      <th>logreg_profit</th>\n",
       "      <th>gauss_nb_profit</th>\n",
       "    </tr>\n",
       "  </thead>\n",
       "  <tbody>\n",
       "    <tr>\n",
       "      <td>2000-02-19</td>\n",
       "      <td>0.97925</td>\n",
       "      <td>sell</td>\n",
       "      <td>sell</td>\n",
       "      <td>buy</td>\n",
       "      <td>buy</td>\n",
       "      <td>-98.8384</td>\n",
       "      <td>-88.4113</td>\n",
       "      <td>-81.557</td>\n",
       "      <td>-99.9933</td>\n",
       "    </tr>\n",
       "  </tbody>\n",
       "</table>\n",
       "</div>"
      ],
      "text/plain": [
       "              close random_forest   svc logreg gauss_nb random_forest_profit  \\\n",
       "2000-02-19  0.97925          sell  sell    buy      buy             -98.8384   \n",
       "\n",
       "           svc_profit logreg_profit gauss_nb_profit  \n",
       "2000-02-19   -88.4113       -81.557        -99.9933  "
      ]
     },
     "execution_count": 10,
     "metadata": {},
     "output_type": "execute_result"
    }
   ],
   "source": [
    "all_profiles[0].tail(1)"
   ]
  },
  {
   "cell_type": "code",
   "execution_count": 11,
   "metadata": {},
   "outputs": [
    {
     "data": {
      "text/html": [
       "<div>\n",
       "<style scoped>\n",
       "    .dataframe tbody tr th:only-of-type {\n",
       "        vertical-align: middle;\n",
       "    }\n",
       "\n",
       "    .dataframe tbody tr th {\n",
       "        vertical-align: top;\n",
       "    }\n",
       "\n",
       "    .dataframe thead th {\n",
       "        text-align: right;\n",
       "    }\n",
       "</style>\n",
       "<table border=\"1\" class=\"dataframe\">\n",
       "  <thead>\n",
       "    <tr style=\"text-align: right;\">\n",
       "      <th></th>\n",
       "      <th>close</th>\n",
       "      <th>random_forest</th>\n",
       "      <th>svc</th>\n",
       "      <th>logreg</th>\n",
       "      <th>gauss_nb</th>\n",
       "      <th>random_forest_profit</th>\n",
       "      <th>svc_profit</th>\n",
       "      <th>logreg_profit</th>\n",
       "      <th>gauss_nb_profit</th>\n",
       "    </tr>\n",
       "  </thead>\n",
       "  <tbody>\n",
       "    <tr>\n",
       "      <td>2000-02-19</td>\n",
       "      <td>0.97925</td>\n",
       "      <td>sell</td>\n",
       "      <td>sell</td>\n",
       "      <td>buy</td>\n",
       "      <td>buy</td>\n",
       "      <td>-82.0138</td>\n",
       "      <td>151.019</td>\n",
       "      <td>-45.4429</td>\n",
       "      <td>-99.9391</td>\n",
       "    </tr>\n",
       "  </tbody>\n",
       "</table>\n",
       "</div>"
      ],
      "text/plain": [
       "              close random_forest   svc logreg gauss_nb random_forest_profit  \\\n",
       "2000-02-19  0.97925          sell  sell    buy      buy             -82.0138   \n",
       "\n",
       "           svc_profit logreg_profit gauss_nb_profit  \n",
       "2000-02-19    151.019      -45.4429        -99.9391  "
      ]
     },
     "execution_count": 11,
     "metadata": {},
     "output_type": "execute_result"
    }
   ],
   "source": [
    "all_profiles[1].tail(1)"
   ]
  },
  {
   "cell_type": "code",
   "execution_count": 12,
   "metadata": {},
   "outputs": [
    {
     "data": {
      "text/html": [
       "<div>\n",
       "<style scoped>\n",
       "    .dataframe tbody tr th:only-of-type {\n",
       "        vertical-align: middle;\n",
       "    }\n",
       "\n",
       "    .dataframe tbody tr th {\n",
       "        vertical-align: top;\n",
       "    }\n",
       "\n",
       "    .dataframe thead th {\n",
       "        text-align: right;\n",
       "    }\n",
       "</style>\n",
       "<table border=\"1\" class=\"dataframe\">\n",
       "  <thead>\n",
       "    <tr style=\"text-align: right;\">\n",
       "      <th></th>\n",
       "      <th>close</th>\n",
       "      <th>random_forest</th>\n",
       "      <th>svc</th>\n",
       "      <th>logreg</th>\n",
       "      <th>gauss_nb</th>\n",
       "      <th>random_forest_profit</th>\n",
       "      <th>svc_profit</th>\n",
       "      <th>logreg_profit</th>\n",
       "      <th>gauss_nb_profit</th>\n",
       "    </tr>\n",
       "  </thead>\n",
       "  <tbody>\n",
       "    <tr>\n",
       "      <td>2000-02-19</td>\n",
       "      <td>0.97925</td>\n",
       "      <td>sell</td>\n",
       "      <td>sell</td>\n",
       "      <td>buy</td>\n",
       "      <td>buy</td>\n",
       "      <td>22.5757</td>\n",
       "      <td>459.047</td>\n",
       "      <td>1.3998</td>\n",
       "      <td>-99.2008</td>\n",
       "    </tr>\n",
       "  </tbody>\n",
       "</table>\n",
       "</div>"
      ],
      "text/plain": [
       "              close random_forest   svc logreg gauss_nb random_forest_profit  \\\n",
       "2000-02-19  0.97925          sell  sell    buy      buy              22.5757   \n",
       "\n",
       "           svc_profit logreg_profit gauss_nb_profit  \n",
       "2000-02-19    459.047        1.3998        -99.2008  "
      ]
     },
     "execution_count": 12,
     "metadata": {},
     "output_type": "execute_result"
    }
   ],
   "source": [
    "all_profiles[2].tail(1)"
   ]
  }
 ],
 "metadata": {
  "kernelspec": {
   "display_name": "Python 3",
   "language": "python",
   "name": "python3"
  },
  "language_info": {
   "codemirror_mode": {
    "name": "ipython",
    "version": 3
   },
   "file_extension": ".py",
   "mimetype": "text/x-python",
   "name": "python",
   "nbconvert_exporter": "python",
   "pygments_lexer": "ipython3",
   "version": "3.7.4"
  }
 },
 "nbformat": 4,
 "nbformat_minor": 2
}
