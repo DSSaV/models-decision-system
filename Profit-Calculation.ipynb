{
 "cells": [
  {
   "cell_type": "code",
   "execution_count": 1,
   "metadata": {},
   "outputs": [],
   "source": [
    "import pandas as pd\n",
    "import numpy as np\n",
    "import math\n",
    "import yaml"
   ]
  },
  {
   "cell_type": "markdown",
   "metadata": {},
   "source": [
    "### Help Functions"
   ]
  },
  {
   "cell_type": "code",
   "execution_count": 2,
   "metadata": {},
   "outputs": [],
   "source": [
    "def calculate_amount(unit_price, budget):\n",
    "    amount = budget / unit_price\n",
    "    return amount\n",
    "\n",
    "def calculate_profit(buy_price, sell_price):\n",
    "    profit = sell_price - buy_price\n",
    "    return profit\n",
    "\n",
    "def get_weighted_list_length(list_item, weight):\n",
    "    list_length = int(math.ceil(len(list_item) * weight))\n",
    "    return list_length\n",
    "\n",
    "def load_yaml(path):\n",
    "    with open(path, mode='r') as file:\n",
    "        return yaml.load(file, Loader=yaml.FullLoader)\n",
    "    \n",
    "def process(src):\n",
    "    return pd.read_csv(src, delimiter=',',index_col=0)"
   ]
  },
  {
   "cell_type": "markdown",
   "metadata": {},
   "source": [
    "## Weighted position investment function"
   ]
  },
  {
   "cell_type": "code",
   "execution_count": 3,
   "metadata": {},
   "outputs": [],
   "source": [
    "def weighted_position_investing(input_dataframe, investment_capital, buy_weight, sell_weight):\n",
    "    \"\"\"\n",
    "    Args:\n",
    "        input_dataframe: pandas.DataFrame\n",
    "                    Column position [0] needs to be close price.\n",
    "                    All other columns need to consist of \"Buy\"/\"Sell\"/\"Hold\" decisions.\n",
    "        investment_capital: Float\n",
    "                    The amount of \"money\" able to be invested.\n",
    "        buy_weight: Float\n",
    "                    Values must be between 0-1. Represents the amount to invest from\n",
    "                    available remaining capital (in procentage). Ie, 0.5 -> 50% of remaining\n",
    "                    available capital on buy.\n",
    "        sell_weight: Float\n",
    "                    Values must be between 0-1. Represents the amount of invested capital\n",
    "                    to sell out of (in procentage). Ie, 0.5 -> 50% of invested capital on sell.\n",
    "    Returns:\n",
    "        pandas.DataFrame\n",
    "            Profit calculations appended to input_dataframe.\n",
    "    \"\"\"\n",
    "    \n",
    "    output_dataframe = pd.DataFrame(index=input_dataframe.index, columns=input_dataframe.columns[1:])\n",
    "    output_dataframe = output_dataframe.rename(columns={\"random_forest\": \"random_forest_profit\",\"svc\":\"svc_profit\",\n",
    "                              \"logreg\":\"logreg_profit\", \"gauss_nb\": \"gauss_nb_profit\"})\n",
    "    \n",
    "    # LOOP THROUGH COLUMNS\n",
    "    for col in input_dataframe.columns[1:]:\n",
    "        current_profit = 0\n",
    "        holding_value = 0\n",
    "        resulting_col = col\n",
    "        \n",
    "        wallet = investment_capital\n",
    "        positions_close = []\n",
    "        positions_amount = []\n",
    "        investment_amount = wallet * buy_weight\n",
    "    \n",
    "        # LOOP THROUGH EACH ROW\n",
    "        for i in range(len(input_dataframe)):\n",
    "            \n",
    "            current_close_price = input_dataframe[\"close\"].iloc[i]\n",
    "            label = input_dataframe[col].iloc[i]\n",
    "            \n",
    "            # ON BUY\n",
    "            if((wallet > 0) & (label == \"buy\")):\n",
    "                # check to see if invest wallet amount or investment amount.\n",
    "                if wallet < investment_amount:\n",
    "                    amount = calculate_amount(current_close_price, wallet)\n",
    "                    positions_close.append(current_close_price)\n",
    "                    positions_amount.append(amount)\n",
    "                    # remove money from wallet\n",
    "                    wallet -= wallet\n",
    "                    investment_amount = wallet * buy_weight\n",
    "                    \n",
    "                else:\n",
    "                    amount = calculate_amount(current_close_price, investment_amount)\n",
    "                    positions_close.append(current_close_price)\n",
    "                    positions_amount.append(amount)\n",
    "                    # remove money from wallet\n",
    "                    wallet -= investment_amount\n",
    "                    investment_amount = wallet * buy_weight\n",
    "\n",
    "                # ADD NEW PROFIT TO DATAFRAME\n",
    "                output_dataframe[resulting_col].iloc[i] = current_profit\n",
    "                \n",
    "\n",
    "            # ON SELL\n",
    "            elif((len(positions_close) > 0) & (label == \"sell\")):\n",
    "                n = get_weighted_list_length(positions_close, sell_weight)\n",
    "                for close_p, amount_p in zip(positions_close[:n], positions_amount[:n]):\n",
    "                    # get sell price and compare to buy price\n",
    "                    selling_price = current_close_price * amount_p\n",
    "                    buying_price = close_p * amount_p\n",
    "                    # update wallet to have money again, i.e selling_price\n",
    "                    wallet += selling_price\n",
    "                    # register profit/loss\n",
    "                    profit = calculate_profit(buying_price, selling_price)\n",
    "                    current_profit += profit\n",
    "                investment_amount = wallet * buy_weight\n",
    "                    \n",
    "                # ADD NEW PROFIT TO DATAFRAME\n",
    "                output_dataframeres[resulting_col].iloc[i] = current_profit\n",
    "                \n",
    "                # EMPTY POSITIONS LISTS\n",
    "                positions_close = positions_close[n:]\n",
    "                positions_amount = positions_amount[n:]\n",
    "\n",
    "            # ON HOLD\n",
    "            else:\n",
    "                # Since we are holding, do nothing except udpate current profit\n",
    "                # ADD NEW PROFIT TO DATAFRAME\n",
    "                output_dataframeres[resulting_col].iloc[i] = current_profit\n",
    "    \n",
    "        # SELL OFF OUT REMAINING POSITIONS\n",
    "        current_close_price = input_dataframe[\"close\"].iloc[-1]\n",
    "        for close_p, amount_p in zip(positions_close, positions_amount):\n",
    "            selling_price = current_close_price * amount_p\n",
    "            buying_price = close_p * amount_p\n",
    "            profit = calculate_profit(buying_price, selling_price)\n",
    "            current_profit += profit\n",
    "        output_dataframe[resulting_col].iloc[-1] = current_profit\n",
    "    \n",
    "    return output_dataframe"
   ]
  },
  {
   "cell_type": "markdown",
   "metadata": {},
   "source": [
    "### Multiple profile calculations function:"
   ]
  },
  {
   "cell_type": "code",
   "execution_count": 4,
   "metadata": {},
   "outputs": [],
   "source": [
    "def multiple_profiles_calculation(yaml_configs):\n",
    "    configs = load_yaml(yaml_configs)\n",
    "    profiles = configs['investing_profiles']\n",
    "    data = process(configs['data'])\n",
    "    investment_capital = configs['investment_capital']\n",
    "    profiles\n",
    "    results = []\n",
    "    for profile in profiles:\n",
    "        buy_weight = profiles[profile]['buy_weight']\n",
    "        sell_weight = profiles[profile]['sell_weight']\n",
    "        result = weighted_position_investing(data, investment_capital,buy_weight, sell_weight)\n",
    "        results.append(result)\n",
    "    return results\n",
    "    \n",
    "    "
   ]
  },
  {
   "cell_type": "markdown",
   "metadata": {},
   "source": [
    "### Example use  of multi-position investment function:"
   ]
  },
  {
   "cell_type": "code",
   "execution_count": 5,
   "metadata": {
    "scrolled": false
   },
   "outputs": [
    {
     "ename": "KeyError",
     "evalue": "'random_forest'",
     "output_type": "error",
     "traceback": [
      "\u001b[0;31m---------------------------------------------------------------------------\u001b[0m",
      "\u001b[0;31mKeyError\u001b[0m                                  Traceback (most recent call last)",
      "\u001b[0;32m~/anaconda3/lib/python3.7/site-packages/pandas/core/indexes/base.py\u001b[0m in \u001b[0;36mget_loc\u001b[0;34m(self, key, method, tolerance)\u001b[0m\n\u001b[1;32m   2896\u001b[0m             \u001b[0;32mtry\u001b[0m\u001b[0;34m:\u001b[0m\u001b[0;34m\u001b[0m\u001b[0;34m\u001b[0m\u001b[0m\n\u001b[0;32m-> 2897\u001b[0;31m                 \u001b[0;32mreturn\u001b[0m \u001b[0mself\u001b[0m\u001b[0;34m.\u001b[0m\u001b[0m_engine\u001b[0m\u001b[0;34m.\u001b[0m\u001b[0mget_loc\u001b[0m\u001b[0;34m(\u001b[0m\u001b[0mkey\u001b[0m\u001b[0;34m)\u001b[0m\u001b[0;34m\u001b[0m\u001b[0;34m\u001b[0m\u001b[0m\n\u001b[0m\u001b[1;32m   2898\u001b[0m             \u001b[0;32mexcept\u001b[0m \u001b[0mKeyError\u001b[0m\u001b[0;34m:\u001b[0m\u001b[0;34m\u001b[0m\u001b[0;34m\u001b[0m\u001b[0m\n",
      "\u001b[0;32mpandas/_libs/index.pyx\u001b[0m in \u001b[0;36mpandas._libs.index.IndexEngine.get_loc\u001b[0;34m()\u001b[0m\n",
      "\u001b[0;32mpandas/_libs/index.pyx\u001b[0m in \u001b[0;36mpandas._libs.index.IndexEngine.get_loc\u001b[0;34m()\u001b[0m\n",
      "\u001b[0;32mpandas/_libs/hashtable_class_helper.pxi\u001b[0m in \u001b[0;36mpandas._libs.hashtable.PyObjectHashTable.get_item\u001b[0;34m()\u001b[0m\n",
      "\u001b[0;32mpandas/_libs/hashtable_class_helper.pxi\u001b[0m in \u001b[0;36mpandas._libs.hashtable.PyObjectHashTable.get_item\u001b[0;34m()\u001b[0m\n",
      "\u001b[0;31mKeyError\u001b[0m: 'random_forest'",
      "\nDuring handling of the above exception, another exception occurred:\n",
      "\u001b[0;31mKeyError\u001b[0m                                  Traceback (most recent call last)",
      "\u001b[0;32m<ipython-input-5-cd74465378df>\u001b[0m in \u001b[0;36m<module>\u001b[0;34m\u001b[0m\n\u001b[1;32m      1\u001b[0m \u001b[0mtemp_configs\u001b[0m \u001b[0;34m=\u001b[0m \u001b[0mload_yaml\u001b[0m\u001b[0;34m(\u001b[0m\u001b[0;34m'profit_calculation_config.yaml'\u001b[0m\u001b[0;34m)\u001b[0m\u001b[0;34m\u001b[0m\u001b[0;34m\u001b[0m\u001b[0m\n\u001b[1;32m      2\u001b[0m \u001b[0mtemp_data\u001b[0m \u001b[0;34m=\u001b[0m \u001b[0mprocess\u001b[0m\u001b[0;34m(\u001b[0m\u001b[0mtemp_configs\u001b[0m\u001b[0;34m[\u001b[0m\u001b[0;34m'data'\u001b[0m\u001b[0;34m]\u001b[0m\u001b[0;34m)\u001b[0m\u001b[0;34m\u001b[0m\u001b[0;34m\u001b[0m\u001b[0m\n\u001b[0;32m----> 3\u001b[0;31m \u001b[0mmulti_example\u001b[0m \u001b[0;34m=\u001b[0m \u001b[0mweighted_position_investing\u001b[0m\u001b[0;34m(\u001b[0m\u001b[0mtemp_data\u001b[0m\u001b[0;34m,\u001b[0m \u001b[0;36m100\u001b[0m\u001b[0;34m,\u001b[0m\u001b[0;36m1\u001b[0m\u001b[0;34m,\u001b[0m\u001b[0;36m1\u001b[0m\u001b[0;34m)\u001b[0m \u001b[0;31m# 1 = 100% usage of money, 0.5 = 50% useage of money.\u001b[0m\u001b[0;34m\u001b[0m\u001b[0;34m\u001b[0m\u001b[0m\n\u001b[0m\u001b[1;32m      4\u001b[0m \u001b[0mmulti_example\u001b[0m\u001b[0;34m.\u001b[0m\u001b[0mtail\u001b[0m\u001b[0;34m(\u001b[0m\u001b[0;36m1\u001b[0m\u001b[0;34m)\u001b[0m\u001b[0;34m\u001b[0m\u001b[0;34m\u001b[0m\u001b[0m\n",
      "\u001b[0;32m<ipython-input-3-aac8077e6865>\u001b[0m in \u001b[0;36mweighted_position_investing\u001b[0;34m(input_dataframe, investment_capital, buy_weight, sell_weight)\u001b[0m\n\u001b[1;32m     60\u001b[0m \u001b[0;34m\u001b[0m\u001b[0m\n\u001b[1;32m     61\u001b[0m                 \u001b[0;31m# ADD NEW PROFIT TO DATAFRAME\u001b[0m\u001b[0;34m\u001b[0m\u001b[0;34m\u001b[0m\u001b[0;34m\u001b[0m\u001b[0m\n\u001b[0;32m---> 62\u001b[0;31m                 \u001b[0moutput_dataframe\u001b[0m\u001b[0;34m[\u001b[0m\u001b[0mresulting_col\u001b[0m\u001b[0;34m]\u001b[0m\u001b[0;34m.\u001b[0m\u001b[0miloc\u001b[0m\u001b[0;34m[\u001b[0m\u001b[0mi\u001b[0m\u001b[0;34m]\u001b[0m \u001b[0;34m=\u001b[0m \u001b[0mcurrent_profit\u001b[0m\u001b[0;34m\u001b[0m\u001b[0;34m\u001b[0m\u001b[0m\n\u001b[0m\u001b[1;32m     63\u001b[0m \u001b[0;34m\u001b[0m\u001b[0m\n\u001b[1;32m     64\u001b[0m \u001b[0;34m\u001b[0m\u001b[0m\n",
      "\u001b[0;32m~/anaconda3/lib/python3.7/site-packages/pandas/core/frame.py\u001b[0m in \u001b[0;36m__getitem__\u001b[0;34m(self, key)\u001b[0m\n\u001b[1;32m   2978\u001b[0m             \u001b[0;32mif\u001b[0m \u001b[0mself\u001b[0m\u001b[0;34m.\u001b[0m\u001b[0mcolumns\u001b[0m\u001b[0;34m.\u001b[0m\u001b[0mnlevels\u001b[0m \u001b[0;34m>\u001b[0m \u001b[0;36m1\u001b[0m\u001b[0;34m:\u001b[0m\u001b[0;34m\u001b[0m\u001b[0;34m\u001b[0m\u001b[0m\n\u001b[1;32m   2979\u001b[0m                 \u001b[0;32mreturn\u001b[0m \u001b[0mself\u001b[0m\u001b[0;34m.\u001b[0m\u001b[0m_getitem_multilevel\u001b[0m\u001b[0;34m(\u001b[0m\u001b[0mkey\u001b[0m\u001b[0;34m)\u001b[0m\u001b[0;34m\u001b[0m\u001b[0;34m\u001b[0m\u001b[0m\n\u001b[0;32m-> 2980\u001b[0;31m             \u001b[0mindexer\u001b[0m \u001b[0;34m=\u001b[0m \u001b[0mself\u001b[0m\u001b[0;34m.\u001b[0m\u001b[0mcolumns\u001b[0m\u001b[0;34m.\u001b[0m\u001b[0mget_loc\u001b[0m\u001b[0;34m(\u001b[0m\u001b[0mkey\u001b[0m\u001b[0;34m)\u001b[0m\u001b[0;34m\u001b[0m\u001b[0;34m\u001b[0m\u001b[0m\n\u001b[0m\u001b[1;32m   2981\u001b[0m             \u001b[0;32mif\u001b[0m \u001b[0mis_integer\u001b[0m\u001b[0;34m(\u001b[0m\u001b[0mindexer\u001b[0m\u001b[0;34m)\u001b[0m\u001b[0;34m:\u001b[0m\u001b[0;34m\u001b[0m\u001b[0;34m\u001b[0m\u001b[0m\n\u001b[1;32m   2982\u001b[0m                 \u001b[0mindexer\u001b[0m \u001b[0;34m=\u001b[0m \u001b[0;34m[\u001b[0m\u001b[0mindexer\u001b[0m\u001b[0;34m]\u001b[0m\u001b[0;34m\u001b[0m\u001b[0;34m\u001b[0m\u001b[0m\n",
      "\u001b[0;32m~/anaconda3/lib/python3.7/site-packages/pandas/core/indexes/base.py\u001b[0m in \u001b[0;36mget_loc\u001b[0;34m(self, key, method, tolerance)\u001b[0m\n\u001b[1;32m   2897\u001b[0m                 \u001b[0;32mreturn\u001b[0m \u001b[0mself\u001b[0m\u001b[0;34m.\u001b[0m\u001b[0m_engine\u001b[0m\u001b[0;34m.\u001b[0m\u001b[0mget_loc\u001b[0m\u001b[0;34m(\u001b[0m\u001b[0mkey\u001b[0m\u001b[0;34m)\u001b[0m\u001b[0;34m\u001b[0m\u001b[0;34m\u001b[0m\u001b[0m\n\u001b[1;32m   2898\u001b[0m             \u001b[0;32mexcept\u001b[0m \u001b[0mKeyError\u001b[0m\u001b[0;34m:\u001b[0m\u001b[0;34m\u001b[0m\u001b[0;34m\u001b[0m\u001b[0m\n\u001b[0;32m-> 2899\u001b[0;31m                 \u001b[0;32mreturn\u001b[0m \u001b[0mself\u001b[0m\u001b[0;34m.\u001b[0m\u001b[0m_engine\u001b[0m\u001b[0;34m.\u001b[0m\u001b[0mget_loc\u001b[0m\u001b[0;34m(\u001b[0m\u001b[0mself\u001b[0m\u001b[0;34m.\u001b[0m\u001b[0m_maybe_cast_indexer\u001b[0m\u001b[0;34m(\u001b[0m\u001b[0mkey\u001b[0m\u001b[0;34m)\u001b[0m\u001b[0;34m)\u001b[0m\u001b[0;34m\u001b[0m\u001b[0;34m\u001b[0m\u001b[0m\n\u001b[0m\u001b[1;32m   2900\u001b[0m         \u001b[0mindexer\u001b[0m \u001b[0;34m=\u001b[0m \u001b[0mself\u001b[0m\u001b[0;34m.\u001b[0m\u001b[0mget_indexer\u001b[0m\u001b[0;34m(\u001b[0m\u001b[0;34m[\u001b[0m\u001b[0mkey\u001b[0m\u001b[0;34m]\u001b[0m\u001b[0;34m,\u001b[0m \u001b[0mmethod\u001b[0m\u001b[0;34m=\u001b[0m\u001b[0mmethod\u001b[0m\u001b[0;34m,\u001b[0m \u001b[0mtolerance\u001b[0m\u001b[0;34m=\u001b[0m\u001b[0mtolerance\u001b[0m\u001b[0;34m)\u001b[0m\u001b[0;34m\u001b[0m\u001b[0;34m\u001b[0m\u001b[0m\n\u001b[1;32m   2901\u001b[0m         \u001b[0;32mif\u001b[0m \u001b[0mindexer\u001b[0m\u001b[0;34m.\u001b[0m\u001b[0mndim\u001b[0m \u001b[0;34m>\u001b[0m \u001b[0;36m1\u001b[0m \u001b[0;32mor\u001b[0m \u001b[0mindexer\u001b[0m\u001b[0;34m.\u001b[0m\u001b[0msize\u001b[0m \u001b[0;34m>\u001b[0m \u001b[0;36m1\u001b[0m\u001b[0;34m:\u001b[0m\u001b[0;34m\u001b[0m\u001b[0;34m\u001b[0m\u001b[0m\n",
      "\u001b[0;32mpandas/_libs/index.pyx\u001b[0m in \u001b[0;36mpandas._libs.index.IndexEngine.get_loc\u001b[0;34m()\u001b[0m\n",
      "\u001b[0;32mpandas/_libs/index.pyx\u001b[0m in \u001b[0;36mpandas._libs.index.IndexEngine.get_loc\u001b[0;34m()\u001b[0m\n",
      "\u001b[0;32mpandas/_libs/hashtable_class_helper.pxi\u001b[0m in \u001b[0;36mpandas._libs.hashtable.PyObjectHashTable.get_item\u001b[0;34m()\u001b[0m\n",
      "\u001b[0;32mpandas/_libs/hashtable_class_helper.pxi\u001b[0m in \u001b[0;36mpandas._libs.hashtable.PyObjectHashTable.get_item\u001b[0;34m()\u001b[0m\n",
      "\u001b[0;31mKeyError\u001b[0m: 'random_forest'"
     ]
    }
   ],
   "source": [
    "temp_configs = load_yaml('profit_calculation_config.yaml')\n",
    "temp_data = process(temp_configs['data'])\n",
    "multi_example = weighted_position_investing(temp_data, 100,1,1) # 1 = 100% usage of money, 0.5 = 50% useage of money.\n",
    "multi_example.tail(1)"
   ]
  },
  {
   "cell_type": "markdown",
   "metadata": {},
   "source": [
    "### Example use of profiles_calculation:"
   ]
  },
  {
   "cell_type": "code",
   "execution_count": null,
   "metadata": {},
   "outputs": [],
   "source": [
    "all_profiles = multiple_profiles_calculation('profit_calculation_config.yaml')\n",
    "len(all_profiles)"
   ]
  },
  {
   "cell_type": "code",
   "execution_count": null,
   "metadata": {},
   "outputs": [],
   "source": [
    "all_profiles[0].tail(1)"
   ]
  },
  {
   "cell_type": "code",
   "execution_count": null,
   "metadata": {},
   "outputs": [],
   "source": [
    "all_profiles[1].tail(1)"
   ]
  },
  {
   "cell_type": "code",
   "execution_count": null,
   "metadata": {
    "scrolled": true
   },
   "outputs": [],
   "source": [
    "all_profiles[2].tail(1)"
   ]
  }
 ],
 "metadata": {
  "kernelspec": {
   "display_name": "Python 3",
   "language": "python",
   "name": "python3"
  },
  "language_info": {
   "codemirror_mode": {
    "name": "ipython",
    "version": 3
   },
   "file_extension": ".py",
   "mimetype": "text/x-python",
   "name": "python",
   "nbconvert_exporter": "python",
   "pygments_lexer": "ipython3",
   "version": "3.7.4"
  }
 },
 "nbformat": 4,
 "nbformat_minor": 2
}
