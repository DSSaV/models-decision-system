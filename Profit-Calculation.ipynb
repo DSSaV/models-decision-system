{
 "cells": [
  {
   "cell_type": "markdown",
   "metadata": {},
   "source": [
    "#### TODO:\n",
    "\n",
    "- make cash out function, that is, sell all holdings on last entry in dataframe."
   ]
  },
  {
   "cell_type": "code",
   "execution_count": 2,
   "metadata": {},
   "outputs": [],
   "source": [
    "import pandas as pd\n",
    "import numpy as np\n",
    "import math"
   ]
  },
  {
   "cell_type": "markdown",
   "metadata": {},
   "source": [
    "## Mock DATA"
   ]
  },
  {
   "cell_type": "code",
   "execution_count": 3,
   "metadata": {},
   "outputs": [],
   "source": [
    "dates = pd.date_range('1/1/2000', periods=50)\n",
    "mock_frame = pd.DataFrame(index=dates)\n",
    "mock_frame[\"close\"] = np.random.rand(len(mock_frame), 1)\n",
    "mock_frame[\"random_forest\"] = np.random.choice([\"buy\", \"sell\", \"hold\"], len(mock_frame))\n",
    "mock_frame[\"svc\"] = np.random.choice([\"buy\", \"sell\", \"hold\"], len(mock_frame))\n",
    "mock_frame[\"logreg\"] = np.random.choice([\"buy\", \"sell\", \"hold\"], len(mock_frame))\n",
    "mock_frame[\"gauss_nb\"] = np.random.choice([\"buy\", \"sell\", \"hold\"], len(mock_frame))"
   ]
  },
  {
   "cell_type": "markdown",
   "metadata": {},
   "source": [
    "### Help Functions"
   ]
  },
  {
   "cell_type": "code",
   "execution_count": 4,
   "metadata": {},
   "outputs": [],
   "source": [
    "def calculate_amount(unit_price, budget):\n",
    "    amount = budget / unit_price\n",
    "    return amount\n",
    "\n",
    "def calculate_profit(buy_price, sell_price):\n",
    "    profit = sell_price - buy_price\n",
    "    return profit"
   ]
  },
  {
   "cell_type": "markdown",
   "metadata": {},
   "source": [
    "## Single position investment function"
   ]
  },
  {
   "cell_type": "code",
   "execution_count": 5,
   "metadata": {},
   "outputs": [],
   "source": [
    "def single_position_investing(input_dataframe, investment_capital):\n",
    "    \n",
    "    res = pd.DataFrame(index=mock_frame.index, columns=mock_frame.columns[1:])\n",
    "    res = res.rename(columns={\"random_forest\": \"random_forest_profit\", \"svc\":\"svc_profit\",\n",
    "                              \"logreg\":\"logreg_profit\", \"gauss_nb\": \"gauss_nb_profit\"})\n",
    "    \n",
    "    # LOOP THROUGH COLUMNS\n",
    "    for col in input_dataframe.columns[1:]:\n",
    "        current_profit = 0\n",
    "        holding = False\n",
    "        holding_close = 0\n",
    "        holding_value = 0\n",
    "        holding_amount = 0\n",
    "        resulting_col = col + \"_profit\"\n",
    "        \n",
    "        wallet = investment_capital\n",
    "    \n",
    "        # LOOP THROUGH EACH ROW\n",
    "        for i in range(len(input_dataframe)):\n",
    "            close_price = input_dataframe[\"close\"].iloc[i]\n",
    "            label = input_dataframe[col].iloc[i]\n",
    "            \n",
    "            # ON BUY\n",
    "            if((holding == False) & (label == \"buy\")):\n",
    "                \n",
    "                # calc amount that can be bought at daily close price\n",
    "                holding_amount = calculate_amount(close_price, wallet)\n",
    "                # remove money from wallet\n",
    "                wallet -= wallet\n",
    "                # update holding_close to keep track of buy price\n",
    "                holding_close = close_price\n",
    "                \n",
    "                # ADD NEW PROFIT TO DATAFRAME\n",
    "                res[resulting_col].iloc[i] = current_profit\n",
    "\n",
    "                # UPDATE HOLDING VALUES\n",
    "                holding = True\n",
    "\n",
    "            # ON SELL\n",
    "            elif((holding == True) & (label == \"sell\")):\n",
    "\n",
    "                # get sell price and compare to buy price\n",
    "                selling_price = close_price * holding_amount\n",
    "                buying_price = holding_close * holding_amount\n",
    "                # update wallet to have money again, i.e selling_price\n",
    "                wallet = selling_price\n",
    "                # register profit/loss\n",
    "                profit = calculate_profit(buying_price, selling_price)\n",
    "                current_profit += profit\n",
    "                res[resulting_col].iloc[i] = current_profit\n",
    "                holding_amount = 0\n",
    "                holding = False\n",
    "\n",
    "            # ON HOLD\n",
    "            else:\n",
    "\n",
    "                # ADD NEW PROFIT TO DATAFRAME\n",
    "                res[resulting_col].iloc[i] = current_profit\n",
    "    \n",
    "    output_dataframe = pd.concat([input_dataframe, res], axis=1)\n",
    "    \n",
    "    return output_dataframe"
   ]
  },
  {
   "cell_type": "markdown",
   "metadata": {},
   "source": [
    "## Multi position investment function"
   ]
  },
  {
   "cell_type": "code",
   "execution_count": 23,
   "metadata": {},
   "outputs": [],
   "source": [
    "def multi_position_investing(input_dataframe, investment_capital, bucket_size):\n",
    "    \n",
    "    res = pd.DataFrame(index=mock_frame.index, columns=mock_frame.columns[1:])\n",
    "    res = res.rename(columns={\"random_forest\": \"random_forest_profit\", \"svc\":\"svc_profit\",\n",
    "                              \"logreg\":\"logreg_profit\", \"gauss_nb\": \"gauss_nb_profit\"})\n",
    "    \n",
    "    # LOOP THROUGH COLUMNS\n",
    "    for col in input_dataframe.columns[1:]:\n",
    "        current_profit = 0\n",
    "        holding_value = 0\n",
    "        resulting_col = col + \"_profit\"\n",
    "        \n",
    "        wallet = investment_capital\n",
    "        positions_close = []\n",
    "        positions_amount = []\n",
    "        investment_amount = wallet / bucket_size\n",
    "    \n",
    "        # LOOP THROUGH EACH ROW\n",
    "        for i in range(len(input_dataframe)):\n",
    "            \n",
    "            current_close_price = input_dataframe[\"close\"].iloc[i]\n",
    "            label = input_dataframe[col].iloc[i]\n",
    "            \n",
    "            # ON BUY\n",
    "            if((wallet > 0) & (label == \"buy\")):\n",
    "                # check to see if invest wallet amount or investment amount.\n",
    "                if wallet < investment_amount:\n",
    "                    amount = calculate_amount(current_close_price, wallet)\n",
    "                    positions_close.append(current_close_price)\n",
    "                    positions_amount.append(amount)\n",
    "                    # remove money from wallet\n",
    "                    wallet -= wallet\n",
    "                    investment_amount = wallet / bucket_size\n",
    "                    \n",
    "                else:\n",
    "                    amount = calculate_amount(current_close_price, investment_amount)\n",
    "                    positions_close.append(current_close_price)\n",
    "                    positions_amount.append(amount)\n",
    "                    # remove money from wallet\n",
    "                    wallet -= investment_amount\n",
    "                    investment_amount = wallet / bucket_size\n",
    "\n",
    "                # ADD NEW PROFIT TO DATAFRAME\n",
    "                res[resulting_col].iloc[i] = current_profit\n",
    "                \n",
    "\n",
    "            # ON SELL\n",
    "            elif((len(positions_close) > 0) & (label == \"sell\")):\n",
    "                for close_p, amount_p in zip(positions_close, positions_amount):\n",
    "                    # get sell price and compare to buy price\n",
    "                    selling_price = current_close_price * amount_p\n",
    "                    buying_price = close_p * amount_p\n",
    "                    # update wallet to have money again, i.e selling_price\n",
    "                    wallet += selling_price\n",
    "                    # register profit/loss\n",
    "                    profit = calculate_profit(buying_price, selling_price)\n",
    "                    current_profit += profit\n",
    "                investment_amount = wallet / bucket_size\n",
    "                    \n",
    "                # ADD NEW PROFIT TO DATAFRAME\n",
    "                res[resulting_col].iloc[i] = current_profit\n",
    "                \n",
    "                # EMPTY POSITIONS LISTS\n",
    "                positions_close = []\n",
    "                positions_amount = []\n",
    "\n",
    "            # ON HOLD\n",
    "            else:\n",
    "                # Since we are holding, do nothing except udpate current profit\n",
    "                # ADD NEW PROFIT TO DATAFRAME\n",
    "                res[resulting_col].iloc[i] = current_profit\n",
    "                \n",
    "    output_dataframe = pd.concat([input_dataframe, res], axis=1)\n",
    "    \n",
    "    return output_dataframe"
   ]
  },
  {
   "cell_type": "markdown",
   "metadata": {},
   "source": [
    "### Example use Single:"
   ]
  },
  {
   "cell_type": "code",
   "execution_count": 24,
   "metadata": {
    "scrolled": false
   },
   "outputs": [
    {
     "data": {
      "text/html": [
       "<div>\n",
       "<style scoped>\n",
       "    .dataframe tbody tr th:only-of-type {\n",
       "        vertical-align: middle;\n",
       "    }\n",
       "\n",
       "    .dataframe tbody tr th {\n",
       "        vertical-align: top;\n",
       "    }\n",
       "\n",
       "    .dataframe thead th {\n",
       "        text-align: right;\n",
       "    }\n",
       "</style>\n",
       "<table border=\"1\" class=\"dataframe\">\n",
       "  <thead>\n",
       "    <tr style=\"text-align: right;\">\n",
       "      <th></th>\n",
       "      <th>close</th>\n",
       "      <th>random_forest</th>\n",
       "      <th>svc</th>\n",
       "      <th>logreg</th>\n",
       "      <th>gauss_nb</th>\n",
       "      <th>random_forest_profit</th>\n",
       "      <th>svc_profit</th>\n",
       "      <th>logreg_profit</th>\n",
       "      <th>gauss_nb_profit</th>\n",
       "    </tr>\n",
       "  </thead>\n",
       "  <tbody>\n",
       "    <tr>\n",
       "      <td>2000-02-19</td>\n",
       "      <td>0.690431</td>\n",
       "      <td>buy</td>\n",
       "      <td>sell</td>\n",
       "      <td>sell</td>\n",
       "      <td>sell</td>\n",
       "      <td>1641.57</td>\n",
       "      <td>94.7279</td>\n",
       "      <td>-62.6449</td>\n",
       "      <td>95282.3</td>\n",
       "    </tr>\n",
       "  </tbody>\n",
       "</table>\n",
       "</div>"
      ],
      "text/plain": [
       "               close random_forest   svc logreg gauss_nb random_forest_profit  \\\n",
       "2000-02-19  0.690431           buy  sell   sell     sell              1641.57   \n",
       "\n",
       "           svc_profit logreg_profit gauss_nb_profit  \n",
       "2000-02-19    94.7279      -62.6449         95282.3  "
      ]
     },
     "execution_count": 24,
     "metadata": {},
     "output_type": "execute_result"
    }
   ],
   "source": [
    "results = single_position_investing(mock_frame, 100)\n",
    "results.tail(1)"
   ]
  },
  {
   "cell_type": "markdown",
   "metadata": {},
   "source": [
    "### Example use Multi:"
   ]
  },
  {
   "cell_type": "code",
   "execution_count": 25,
   "metadata": {
    "scrolled": false
   },
   "outputs": [
    {
     "data": {
      "text/html": [
       "<div>\n",
       "<style scoped>\n",
       "    .dataframe tbody tr th:only-of-type {\n",
       "        vertical-align: middle;\n",
       "    }\n",
       "\n",
       "    .dataframe tbody tr th {\n",
       "        vertical-align: top;\n",
       "    }\n",
       "\n",
       "    .dataframe thead th {\n",
       "        text-align: right;\n",
       "    }\n",
       "</style>\n",
       "<table border=\"1\" class=\"dataframe\">\n",
       "  <thead>\n",
       "    <tr style=\"text-align: right;\">\n",
       "      <th></th>\n",
       "      <th>close</th>\n",
       "      <th>random_forest</th>\n",
       "      <th>svc</th>\n",
       "      <th>logreg</th>\n",
       "      <th>gauss_nb</th>\n",
       "      <th>random_forest_profit</th>\n",
       "      <th>svc_profit</th>\n",
       "      <th>logreg_profit</th>\n",
       "      <th>gauss_nb_profit</th>\n",
       "    </tr>\n",
       "  </thead>\n",
       "  <tbody>\n",
       "    <tr>\n",
       "      <td>2000-02-19</td>\n",
       "      <td>0.690431</td>\n",
       "      <td>buy</td>\n",
       "      <td>sell</td>\n",
       "      <td>sell</td>\n",
       "      <td>sell</td>\n",
       "      <td>1641.57</td>\n",
       "      <td>94.7279</td>\n",
       "      <td>-62.6449</td>\n",
       "      <td>95282.3</td>\n",
       "    </tr>\n",
       "  </tbody>\n",
       "</table>\n",
       "</div>"
      ],
      "text/plain": [
       "               close random_forest   svc logreg gauss_nb random_forest_profit  \\\n",
       "2000-02-19  0.690431           buy  sell   sell     sell              1641.57   \n",
       "\n",
       "           svc_profit logreg_profit gauss_nb_profit  \n",
       "2000-02-19    94.7279      -62.6449         95282.3  "
      ]
     },
     "execution_count": 25,
     "metadata": {},
     "output_type": "execute_result"
    }
   ],
   "source": [
    "results2 = multi_position_investing(mock_frame, 100,1)\n",
    "results2.tail(1)"
   ]
  },
  {
   "cell_type": "code",
   "execution_count": 9,
   "metadata": {},
   "outputs": [
    {
     "data": {
      "text/html": [
       "<div>\n",
       "<style scoped>\n",
       "    .dataframe tbody tr th:only-of-type {\n",
       "        vertical-align: middle;\n",
       "    }\n",
       "\n",
       "    .dataframe tbody tr th {\n",
       "        vertical-align: top;\n",
       "    }\n",
       "\n",
       "    .dataframe thead th {\n",
       "        text-align: right;\n",
       "    }\n",
       "</style>\n",
       "<table border=\"1\" class=\"dataframe\">\n",
       "  <thead>\n",
       "    <tr style=\"text-align: right;\">\n",
       "      <th></th>\n",
       "      <th>random_forest_profit</th>\n",
       "      <th>random_forest_profit2</th>\n",
       "    </tr>\n",
       "  </thead>\n",
       "  <tbody>\n",
       "    <tr>\n",
       "      <td>2000-02-15</td>\n",
       "      <td>5561.55</td>\n",
       "      <td>5561.55</td>\n",
       "    </tr>\n",
       "    <tr>\n",
       "      <td>2000-02-16</td>\n",
       "      <td>5561.55</td>\n",
       "      <td>5561.55</td>\n",
       "    </tr>\n",
       "    <tr>\n",
       "      <td>2000-02-17</td>\n",
       "      <td>1641.57</td>\n",
       "      <td>1641.57</td>\n",
       "    </tr>\n",
       "    <tr>\n",
       "      <td>2000-02-18</td>\n",
       "      <td>1641.57</td>\n",
       "      <td>1641.57</td>\n",
       "    </tr>\n",
       "    <tr>\n",
       "      <td>2000-02-19</td>\n",
       "      <td>1641.57</td>\n",
       "      <td>1641.57</td>\n",
       "    </tr>\n",
       "  </tbody>\n",
       "</table>\n",
       "</div>"
      ],
      "text/plain": [
       "           random_forest_profit random_forest_profit2\n",
       "2000-02-15              5561.55               5561.55\n",
       "2000-02-16              5561.55               5561.55\n",
       "2000-02-17              1641.57               1641.57\n",
       "2000-02-18              1641.57               1641.57\n",
       "2000-02-19              1641.57               1641.57"
      ]
     },
     "execution_count": 9,
     "metadata": {},
     "output_type": "execute_result"
    }
   ],
   "source": [
    "view_res = pd.DataFrame(results['random_forest_profit'])\n",
    "view_res['random_forest_profit2'] = results2['random_forest_profit']\n",
    "view_res.tail()"
   ]
  }
 ],
 "metadata": {
  "kernelspec": {
   "display_name": "Python 3",
   "language": "python",
   "name": "python3"
  },
  "language_info": {
   "codemirror_mode": {
    "name": "ipython",
    "version": 3
   },
   "file_extension": ".py",
   "mimetype": "text/x-python",
   "name": "python",
   "nbconvert_exporter": "python",
   "pygments_lexer": "ipython3",
   "version": "3.7.4"
  }
 },
 "nbformat": 4,
 "nbformat_minor": 2
}
