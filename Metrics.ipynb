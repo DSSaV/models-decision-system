{
 "cells": [
  {
   "cell_type": "markdown",
   "metadata": {},
   "source": [
    "# Imports and Functions"
   ]
  },
  {
   "cell_type": "code",
   "execution_count": 1,
   "metadata": {},
   "outputs": [],
   "source": [
    "#  IMPORTS FOR REGRESSION\n",
    "#  https://towardsdatascience.com/what-are-the-best-metrics-to-evaluate-your-regression-model-418ca481755b\n",
    "from sklearn.metrics import mean_squared_error, mean_absolute_error, r2_score, explained_variance_score\n",
    "import math\n",
    "\n",
    "#  IMPORTS FOR CLASSIFICAITON\n",
    "#  https://towardsdatascience.com/the-5-classification-evaluation-metrics-you-must-know-aa97784ff226\n",
    "from sklearn.metrics import accuracy_score, confusion_matrix, precision_recall_fscore_support"
   ]
  },
  {
   "cell_type": "code",
   "execution_count": 2,
   "metadata": {},
   "outputs": [],
   "source": [
    "def regression_metrics(y_true, y_pred, n_datapoints=None, n_features=None):\n",
    "    \"\"\"Returns regression relevant metrics.\n",
    "    Args:\n",
    "        y_true: 1d array-like, or label indicator array / sparse matrix\n",
    "                Ground truth (correct) target values.\n",
    "        y_pred: 1d array-like, or label indicator array / sparse matrix\n",
    "                Predicted/estimated target values.\n",
    "        n_datapoints: Int, default None\n",
    "                Number of datapoints in dataset.\n",
    "        n_features: Int, default None\n",
    "                Number of features in dataset.\n",
    "    Returns:\n",
    "        Metrics calculations.\n",
    "    \"\"\"\n",
    "    \n",
    "    mse = mean_squared_error(y_true, y_pred) # lower values are better.\n",
    "    rmse = math.sqrt(mse) # lower values are better.\n",
    "    mae = mean_absolute_error(y_true, y_pred) # lower values are better.\n",
    "    r2 = r2_score(y_true, y_pred) # higher is better, values 0-1. watch out for overfitting.\n",
    "    n = n_datapoints\n",
    "    p = n_features\n",
    "    \n",
    "    if n_datapoints is None or n_features is None:\n",
    "        return mse, rmse, mae, r2\n",
    "    \n",
    "    else:\n",
    "        # higher is better, values 0-1. should be somewhat close to r2 values\n",
    "        adj_r2 = (1 - (1 - r2) * ((n - 1) / (n - p - 1)))\n",
    "        return mse, rmse, mae, r2, adj_r2\n"
   ]
  },
  {
   "cell_type": "code",
   "execution_count": 3,
   "metadata": {},
   "outputs": [],
   "source": [
    "def classification_metrics(y_true, y_pred, f1_average):\n",
    "    \"\"\"Returns classification relevant metrics.\n",
    "    Args:\n",
    "        y_true: 1d array-like, or label indicator array / sparse matrix\n",
    "                Ground truth (correct) target values.\n",
    "        y_pred: 1d array-like, or label indicator array / sparse matrix\n",
    "                Predicted/estimated target values.\n",
    "        f1_average: This parameter is required for multiclass/multilabel targets.\n",
    "                    If None, the scores for each class are returned. Otherwise,\n",
    "                    this determines the type of averaging performed on the data:\n",
    "                    'binary', 'micro', 'macro', 'weighted' or 'samples'.\n",
    "                    See link for details: https://scikit-learn.org/stable/modules/generated/sklearn.metrics.f1_score.html#sklearn.metrics.f1_score\n",
    "    Returns:\n",
    "        Metrics calculations.\n",
    "    \"\"\"\n",
    "    \n",
    "    a_s = accuracy_score(y_true, y_pred)\n",
    "    precision, recall, f1score, support = precision_recall_fscore_support(y_true, y_pred, average=f1_average)\n",
    "    c_m = confusion_matrix(y_true, y_pred)\n",
    "    \n",
    "    return a_s, precision, recall, f1score, c_m"
   ]
  },
  {
   "cell_type": "code",
   "execution_count": 4,
   "metadata": {},
   "outputs": [],
   "source": [
    "#  Categorical Crossentropy & AUC"
   ]
  },
  {
   "cell_type": "markdown",
   "metadata": {},
   "source": [
    "# Testing Regression Metrics"
   ]
  },
  {
   "cell_type": "code",
   "execution_count": 5,
   "metadata": {
    "scrolled": true
   },
   "outputs": [
    {
     "name": "stdout",
     "output_type": "stream",
     "text": [
      "mean_squared_error:  1.34375\n",
      "root_mean_squared_error:  1.159202311936963\n",
      "mean_absolute_error 0.9375\n",
      "r2_score:  0.9127567841744865\n",
      "adjusted_r2_score 0.8982162482035676\n"
     ]
    }
   ],
   "source": [
    "test_true = [3, -0.5, 2, 7, 8, 11, 7, 11]\n",
    "test_pred = [2.5, 0.0, 2, 8, 9, 13, 5, 10.5]\n",
    "\n",
    "a, b, c, cc, ccc = regression_metrics(test_true, test_pred, len(test_true), 1)\n",
    "\n",
    "print(\"mean_squared_error: \",a)\n",
    "print(\"root_mean_squared_error: \",b)\n",
    "print(\"mean_absolute_error\",c)\n",
    "print(\"r2_score: \",cc)\n",
    "print(\"adjusted_r2_score\",ccc)"
   ]
  },
  {
   "cell_type": "code",
   "execution_count": 6,
   "metadata": {},
   "outputs": [
    {
     "name": "stdout",
     "output_type": "stream",
     "text": [
      "mean_squared_error:  1.34375\n",
      "root_mean_squared_error:  1.159202311936963\n",
      "mean_absolute_error 0.9375\n",
      "r2_score:  0.9127567841744865\n"
     ]
    }
   ],
   "source": [
    "test_true = [3, -0.5, 2, 7, 8, 11, 7, 11]\n",
    "test_pred = [2.5, 0.0, 2, 8, 9, 13, 5, 10.5]\n",
    "\n",
    "a, b, c, cc = regression_metrics(test_true, test_pred)\n",
    "\n",
    "print(\"mean_squared_error: \",a)\n",
    "print(\"root_mean_squared_error: \",b)\n",
    "print(\"mean_absolute_error\",c)\n",
    "print(\"r2_score: \",cc)\n"
   ]
  },
  {
   "cell_type": "markdown",
   "metadata": {},
   "source": [
    "# Testing Classification Metrics"
   ]
  },
  {
   "cell_type": "code",
   "execution_count": 7,
   "metadata": {},
   "outputs": [
    {
     "name": "stdout",
     "output_type": "stream",
     "text": [
      "accuracy_score:  0.3333333333333333\n",
      "precision:  0.2222222222222222\n",
      "recall 0.3333333333333333\n",
      "f1_score:  0.26666666666666666\n",
      "confusion_matrix:\n",
      " [[2 0 0]\n",
      " [1 0 1]\n",
      " [0 2 0]]\n"
     ]
    }
   ],
   "source": [
    "test_true_c = [0, 1, 2, 0, 1, 2]\n",
    "test_pred_c = [0, 2, 1, 0, 0, 1]\n",
    "\n",
    "d, e, f, g, h= classification_metrics(test_true_c, test_pred_c, \"weighted\")\n",
    "\n",
    "print(\"accuracy_score: \",d)\n",
    "print(\"precision: \",e)\n",
    "print(\"recall\",f)\n",
    "print(\"f1_score: \",g)\n",
    "print(\"confusion_matrix:\\n\",h)\n"
   ]
  }
 ],
 "metadata": {
  "kernelspec": {
   "display_name": "Python 3",
   "language": "python",
   "name": "python3"
  },
  "language_info": {
   "codemirror_mode": {
    "name": "ipython",
    "version": 3
   },
   "file_extension": ".py",
   "mimetype": "text/x-python",
   "name": "python",
   "nbconvert_exporter": "python",
   "pygments_lexer": "ipython3",
   "version": "3.7.4"
  }
 },
 "nbformat": 4,
 "nbformat_minor": 2
}
