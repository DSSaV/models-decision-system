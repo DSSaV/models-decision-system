{
 "cells": [
  {
   "cell_type": "markdown",
   "metadata": {},
   "source": [
    "# Imports and Functions"
   ]
  },
  {
   "cell_type": "code",
   "execution_count": 61,
   "metadata": {},
   "outputs": [],
   "source": [
    "#  IMPORTS FOR REGRESSION\n",
    "#  https://towardsdatascience.com/the-5-classification-evaluation-metrics-you-must-know-aa97784ff226\n",
    "from sklearn.metrics import mean_squared_error, mean_absolute_error, r2_score, explained_variance_score\n",
    "from sklearn.metrics import max_error\n",
    "import math\n",
    "\n",
    "#  IMPORTS FOR CLASSIFICAITON\n",
    "#  https://towardsdatascience.com/the-5-classification-evaluation-metrics-you-must-know-aa97784ff226\n",
    "from sklearn.metrics import accuracy_score, log_loss, confusion_matrix, precision_recall_fscore_support"
   ]
  },
  {
   "cell_type": "code",
   "execution_count": 84,
   "metadata": {},
   "outputs": [],
   "source": [
    "def regression_metrics(y_true, y_pred, n_datapoints=None, n_features=None):\n",
    "    mse = mean_squared_error(y_true, y_pred)\n",
    "    rmse = math.sqrt(mse)\n",
    "    mae = mean_absolute_error(y_true, y_pred)\n",
    "    r2 = r2_score(y_true, y_pred)\n",
    "    n = n_datapoints\n",
    "    p = n_features\n",
    "    if n_datapoints is None or n_features is None:\n",
    "        return mse, rmse, mae, r2        \n",
    "    else:\n",
    "        adj_r2 = (1 - (1 - r2) * ((n - 1) / (n - p - 1))) # n = number of data points, p = is number of features\n",
    "        return mse, rmse, mae, r2, adj_r2\n"
   ]
  },
  {
   "cell_type": "code",
   "execution_count": 64,
   "metadata": {},
   "outputs": [],
   "source": [
    "def classification_metrics(y_true, y_pred, f1_average):\n",
    "    a_s = accuracy_score(y_true, y_pred)\n",
    "    precision, recall, f1score, s = precision_recall_fscore_support(y_true, y_pred, average=f1_average)\n",
    "    c_m = confusion_matrix(y_true, y_pred)\n",
    "    return a_s, precision, recall, f1score, c_m"
   ]
  },
  {
   "cell_type": "code",
   "execution_count": null,
   "metadata": {},
   "outputs": [],
   "source": [
    "#  Categorical Crossentropy & AUC"
   ]
  },
  {
   "cell_type": "markdown",
   "metadata": {},
   "source": [
    "# Testing Regression Metrics"
   ]
  },
  {
   "cell_type": "code",
   "execution_count": 85,
   "metadata": {
    "scrolled": true
   },
   "outputs": [
    {
     "name": "stdout",
     "output_type": "stream",
     "text": [
      "1.34375\n",
      "1.159202311936963\n",
      "0.9375\n",
      "0.9127567841744865\n",
      "0.9070670092293442\n"
     ]
    }
   ],
   "source": [
    "test_true = [3, -0.5, 2, 7, 8, 11, 7, 11]\n",
    "test_pred = [2.5, 0.0, 2, 8, 9, 13, 5, 10.5]\n",
    "\n",
    "a, b, c, cc, ccc = regression_metrics(test_true, test_pred, 50, 3)\n",
    "\n",
    "print(a)\n",
    "print(b)\n",
    "print(c)\n",
    "print(cc)\n",
    "print(ccc)"
   ]
  },
  {
   "cell_type": "code",
   "execution_count": 86,
   "metadata": {},
   "outputs": [
    {
     "name": "stdout",
     "output_type": "stream",
     "text": [
      "1.34375\n",
      "1.159202311936963\n",
      "0.9375\n",
      "0.9127567841744865\n"
     ]
    }
   ],
   "source": [
    "test_true = [3, -0.5, 2, 7, 8, 11, 7, 11]\n",
    "test_pred = [2.5, 0.0, 2, 8, 9, 13, 5, 10.5]\n",
    "\n",
    "a, b, c, cc = regression_metrics(test_true, test_pred)\n",
    "\n",
    "print(a)\n",
    "print(b)\n",
    "print(c)\n",
    "print(cc)\n"
   ]
  },
  {
   "cell_type": "markdown",
   "metadata": {},
   "source": [
    "# Testing Classification Metrics"
   ]
  },
  {
   "cell_type": "code",
   "execution_count": 66,
   "metadata": {},
   "outputs": [
    {
     "name": "stdout",
     "output_type": "stream",
     "text": [
      "0.3333333333333333\n",
      "0.2222222222222222\n",
      "0.3333333333333333\n",
      "0.26666666666666666\n",
      "[[2 0 0]\n",
      " [1 0 1]\n",
      " [0 2 0]]\n"
     ]
    }
   ],
   "source": [
    "test_true_c = [0, 1, 2, 0, 1, 2]\n",
    "test_pred_c = [0, 2, 1, 0, 0, 1]\n",
    "\n",
    "d, e, f, g, h= classification_metrics(test_true_c, test_pred_c, \"weighted\")\n",
    "\n",
    "print(d)\n",
    "print(e)\n",
    "print(f)\n",
    "print(g)\n",
    "print(h)\n"
   ]
  }
 ],
 "metadata": {
  "kernelspec": {
   "display_name": "Python 3",
   "language": "python",
   "name": "python3"
  },
  "language_info": {
   "codemirror_mode": {
    "name": "ipython",
    "version": 3
   },
   "file_extension": ".py",
   "mimetype": "text/x-python",
   "name": "python",
   "nbconvert_exporter": "python",
   "pygments_lexer": "ipython3",
   "version": "3.7.4"
  }
 },
 "nbformat": 4,
 "nbformat_minor": 2
}
