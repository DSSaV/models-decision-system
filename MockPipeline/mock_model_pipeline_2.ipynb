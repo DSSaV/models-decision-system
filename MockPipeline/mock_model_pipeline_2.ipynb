{
 "cells": [
  {
   "cell_type": "code",
   "execution_count": 1,
   "metadata": {
    "scrolled": false
   },
   "outputs": [],
   "source": [
    "#!pip install ipynb --upgrade"
   ]
  },
  {
   "cell_type": "code",
   "execution_count": 2,
   "metadata": {},
   "outputs": [],
   "source": [
    "#!pip install --upgrade pip"
   ]
  },
  {
   "cell_type": "code",
   "execution_count": 3,
   "metadata": {
    "scrolled": true
   },
   "outputs": [],
   "source": [
    "#!pip install keras-tcn\n",
    "#!pip install tensorflow\n",
    "#!pip install ipynb\n",
    "#!pip install plotly"
   ]
  },
  {
   "cell_type": "code",
   "execution_count": 4,
   "metadata": {},
   "outputs": [],
   "source": [
    "import pickle\n",
    "import time\n",
    "import os\n",
    "import yaml\n",
    "import sys\n",
    "import pandas as pd\n",
    "import numpy as np\n",
    "from sklearn.model_selection import TimeSeriesSplit\n",
    "sys.path.append('C:/Users/Alex-/Desktop/Beslutsstödssystem/models-decision-system')\n",
    "os.chdir(\"..\")\n",
    "import Decision\n",
    "import Models\n",
    "\n",
    "os.chdir(\"MockPipeline\")\n",
    "\n",
    "os.chdir(\"../../pipeline\")\n",
    "import ipynb.fs.full.processing as processing\n",
    "import ipynb.fs.full.features as features\n",
    "import ipynb.fs.full.training as training\n",
    "import ipynb.fs.full.analysis as analysis\n",
    "import ipynb.fs.full.storage as storage\n",
    "import ipynb.fs.full.visualize as visualize\n",
    "os.chdir(\"../models-decision-system/MockPipeline\")"
   ]
  },
  {
   "cell_type": "code",
   "execution_count": 5,
   "metadata": {},
   "outputs": [],
   "source": [
    "import os"
   ]
  },
  {
   "cell_type": "code",
   "execution_count": 6,
   "metadata": {},
   "outputs": [],
   "source": [
    "def load_yaml(path):\n",
    "    with open(path, mode='r') as file:\n",
    "        return yaml.load(file, Loader=yaml.FullLoader)"
   ]
  },
  {
   "cell_type": "code",
   "execution_count": 7,
   "metadata": {},
   "outputs": [],
   "source": [
    "settings = load_yaml('mock_settings.yaml')"
   ]
  },
  {
   "cell_type": "code",
   "execution_count": 8,
   "metadata": {},
   "outputs": [],
   "source": [
    "dataframe = processing.create_dataframe(settings)"
   ]
  },
  {
   "cell_type": "markdown",
   "metadata": {},
   "source": [
    "dataset = features.add(dataframe, settings['features'])"
   ]
  },
  {
   "cell_type": "markdown",
   "metadata": {
    "scrolled": true
   },
   "source": [
    "dataset"
   ]
  },
  {
   "cell_type": "markdown",
   "metadata": {},
   "source": [
    "data_linreg = features.split(dataset, 'linreg', settings['ensemble']['models'][0]['linreg'])"
   ]
  },
  {
   "cell_type": "markdown",
   "metadata": {},
   "source": [
    "linreg = Models.train_model(data_linreg, 'linreg', settings['ensemble']['models'][0])"
   ]
  },
  {
   "cell_type": "markdown",
   "metadata": {},
   "source": [
    "data_lstm = features.split(dataset, 'lstm', settings['ensemble']['models'][1]['lstm'])"
   ]
  },
  {
   "cell_type": "markdown",
   "metadata": {},
   "source": [
    "settings['ensemble']['models'][1]['lstm']['layers']"
   ]
  },
  {
   "cell_type": "markdown",
   "metadata": {
    "scrolled": true
   },
   "source": [
    "lstm = Models.train_model(data_lstm, 'lstm', settings['ensemble']['models'][1]['lstm'])"
   ]
  },
  {
   "cell_type": "markdown",
   "metadata": {},
   "source": [
    "from sklearn.svm import LinearSVC\n",
    "from sklearn.pipeline import make_pipeline\n",
    "from sklearn.model_selection import TimeSeriesSplit\n",
    "import numpy as np\n",
    "from sklearn import preprocessing\n",
    "from sklearn import utils"
   ]
  },
  {
   "cell_type": "code",
   "execution_count": 9,
   "metadata": {},
   "outputs": [],
   "source": [
    "df = pd.read_csv(\"../MockData.csv\")\n",
    "df_dec = pd.read_csv(\"../decision.csv\")"
   ]
  },
  {
   "cell_type": "code",
   "execution_count": 10,
   "metadata": {},
   "outputs": [],
   "source": [
    "df_dec = df_dec.set_index(\"DateTime\")\n",
    "df = df.set_index(\"DateTime\")"
   ]
  },
  {
   "cell_type": "code",
   "execution_count": 11,
   "metadata": {},
   "outputs": [],
   "source": [
    "from sklearn.svm import SVC, LinearSVC\n",
    "from sklearn.model_selection import train_test_split"
   ]
  },
  {
   "cell_type": "code",
   "execution_count": 12,
   "metadata": {
    "scrolled": true
   },
   "outputs": [
    {
     "data": {
      "text/html": [
       "<div>\n",
       "<style scoped>\n",
       "    .dataframe tbody tr th:only-of-type {\n",
       "        vertical-align: middle;\n",
       "    }\n",
       "\n",
       "    .dataframe tbody tr th {\n",
       "        vertical-align: top;\n",
       "    }\n",
       "\n",
       "    .dataframe thead th {\n",
       "        text-align: right;\n",
       "    }\n",
       "</style>\n",
       "<table border=\"1\" class=\"dataframe\">\n",
       "  <thead>\n",
       "    <tr style=\"text-align: right;\">\n",
       "      <th></th>\n",
       "      <th>Close</th>\n",
       "      <th>RoC</th>\n",
       "      <th>S%D</th>\n",
       "      <th>PSY12</th>\n",
       "      <th>ASY5</th>\n",
       "    </tr>\n",
       "    <tr>\n",
       "      <th>DateTime</th>\n",
       "      <th></th>\n",
       "      <th></th>\n",
       "      <th></th>\n",
       "      <th></th>\n",
       "      <th></th>\n",
       "    </tr>\n",
       "  </thead>\n",
       "  <tbody>\n",
       "    <tr>\n",
       "      <th>2010-01-27</th>\n",
       "      <td>0.817467</td>\n",
       "      <td>0.279074</td>\n",
       "      <td>0.239967</td>\n",
       "      <td>0.272727</td>\n",
       "      <td>0.452398</td>\n",
       "    </tr>\n",
       "    <tr>\n",
       "      <th>2010-01-28</th>\n",
       "      <td>0.802634</td>\n",
       "      <td>0.256945</td>\n",
       "      <td>0.173515</td>\n",
       "      <td>0.272727</td>\n",
       "      <td>0.376690</td>\n",
       "    </tr>\n",
       "    <tr>\n",
       "      <th>2010-01-29</th>\n",
       "      <td>0.779823</td>\n",
       "      <td>0.260848</td>\n",
       "      <td>0.136936</td>\n",
       "      <td>0.272727</td>\n",
       "      <td>0.291014</td>\n",
       "    </tr>\n",
       "    <tr>\n",
       "      <th>2010-01-31</th>\n",
       "      <td>0.782677</td>\n",
       "      <td>0.276472</td>\n",
       "      <td>0.108876</td>\n",
       "      <td>0.363636</td>\n",
       "      <td>0.304610</td>\n",
       "    </tr>\n",
       "    <tr>\n",
       "      <th>2010-02-01</th>\n",
       "      <td>0.793195</td>\n",
       "      <td>0.281944</td>\n",
       "      <td>0.078999</td>\n",
       "      <td>0.363636</td>\n",
       "      <td>0.385942</td>\n",
       "    </tr>\n",
       "    <tr>\n",
       "      <th>...</th>\n",
       "      <td>...</td>\n",
       "      <td>...</td>\n",
       "      <td>...</td>\n",
       "      <td>...</td>\n",
       "      <td>...</td>\n",
       "    </tr>\n",
       "    <tr>\n",
       "      <th>2019-12-26</th>\n",
       "      <td>0.159700</td>\n",
       "      <td>0.475611</td>\n",
       "      <td>0.395299</td>\n",
       "      <td>0.727273</td>\n",
       "      <td>0.525453</td>\n",
       "    </tr>\n",
       "    <tr>\n",
       "      <th>2019-12-27</th>\n",
       "      <td>0.175454</td>\n",
       "      <td>0.565530</td>\n",
       "      <td>0.421044</td>\n",
       "      <td>0.818182</td>\n",
       "      <td>0.586624</td>\n",
       "    </tr>\n",
       "    <tr>\n",
       "      <th>2019-12-29</th>\n",
       "      <td>0.177701</td>\n",
       "      <td>0.567630</td>\n",
       "      <td>0.451166</td>\n",
       "      <td>0.818182</td>\n",
       "      <td>0.585169</td>\n",
       "    </tr>\n",
       "    <tr>\n",
       "      <th>2019-12-30</th>\n",
       "      <td>0.182196</td>\n",
       "      <td>0.573355</td>\n",
       "      <td>0.476617</td>\n",
       "      <td>0.818182</td>\n",
       "      <td>0.607446</td>\n",
       "    </tr>\n",
       "    <tr>\n",
       "      <th>2019-12-31</th>\n",
       "      <td>0.188129</td>\n",
       "      <td>0.580239</td>\n",
       "      <td>0.504131</td>\n",
       "      <td>0.818182</td>\n",
       "      <td>0.624929</td>\n",
       "    </tr>\n",
       "  </tbody>\n",
       "</table>\n",
       "<p>3106 rows × 5 columns</p>\n",
       "</div>"
      ],
      "text/plain": [
       "               Close       RoC       S%D     PSY12      ASY5\n",
       "DateTime                                                    \n",
       "2010-01-27  0.817467  0.279074  0.239967  0.272727  0.452398\n",
       "2010-01-28  0.802634  0.256945  0.173515  0.272727  0.376690\n",
       "2010-01-29  0.779823  0.260848  0.136936  0.272727  0.291014\n",
       "2010-01-31  0.782677  0.276472  0.108876  0.363636  0.304610\n",
       "2010-02-01  0.793195  0.281944  0.078999  0.363636  0.385942\n",
       "...              ...       ...       ...       ...       ...\n",
       "2019-12-26  0.159700  0.475611  0.395299  0.727273  0.525453\n",
       "2019-12-27  0.175454  0.565530  0.421044  0.818182  0.586624\n",
       "2019-12-29  0.177701  0.567630  0.451166  0.818182  0.585169\n",
       "2019-12-30  0.182196  0.573355  0.476617  0.818182  0.607446\n",
       "2019-12-31  0.188129  0.580239  0.504131  0.818182  0.624929\n",
       "\n",
       "[3106 rows x 5 columns]"
      ]
     },
     "execution_count": 12,
     "metadata": {},
     "output_type": "execute_result"
    }
   ],
   "source": [
    "df"
   ]
  },
  {
   "cell_type": "code",
   "execution_count": 13,
   "metadata": {
    "scrolled": true
   },
   "outputs": [
    {
     "data": {
      "text/html": [
       "<div>\n",
       "<style scoped>\n",
       "    .dataframe tbody tr th:only-of-type {\n",
       "        vertical-align: middle;\n",
       "    }\n",
       "\n",
       "    .dataframe tbody tr th {\n",
       "        vertical-align: top;\n",
       "    }\n",
       "\n",
       "    .dataframe thead th {\n",
       "        text-align: right;\n",
       "    }\n",
       "</style>\n",
       "<table border=\"1\" class=\"dataframe\">\n",
       "  <thead>\n",
       "    <tr style=\"text-align: right;\">\n",
       "      <th></th>\n",
       "      <th>Forecast</th>\n",
       "      <th>Actual</th>\n",
       "      <th>f_momentum</th>\n",
       "      <th>a_momentum</th>\n",
       "      <th>Invest next day</th>\n",
       "    </tr>\n",
       "    <tr>\n",
       "      <th>DateTime</th>\n",
       "      <th></th>\n",
       "      <th></th>\n",
       "      <th></th>\n",
       "      <th></th>\n",
       "      <th></th>\n",
       "    </tr>\n",
       "  </thead>\n",
       "  <tbody>\n",
       "    <tr>\n",
       "      <th>2018-05-22</th>\n",
       "      <td>0.330828</td>\n",
       "      <td>0.296319</td>\n",
       "      <td>NaN</td>\n",
       "      <td>NaN</td>\n",
       "      <td>Hold</td>\n",
       "    </tr>\n",
       "    <tr>\n",
       "      <th>2018-05-23</th>\n",
       "      <td>0.333239</td>\n",
       "      <td>0.299195</td>\n",
       "      <td>NaN</td>\n",
       "      <td>NaN</td>\n",
       "      <td>Hold</td>\n",
       "    </tr>\n",
       "    <tr>\n",
       "      <th>2018-05-24</th>\n",
       "      <td>0.328026</td>\n",
       "      <td>0.282542</td>\n",
       "      <td>-0.002801</td>\n",
       "      <td>-0.013777</td>\n",
       "      <td>Sell</td>\n",
       "    </tr>\n",
       "    <tr>\n",
       "      <th>2018-05-25</th>\n",
       "      <td>0.322993</td>\n",
       "      <td>0.291667</td>\n",
       "      <td>-0.010246</td>\n",
       "      <td>-0.007529</td>\n",
       "      <td>Hold</td>\n",
       "    </tr>\n",
       "    <tr>\n",
       "      <th>2018-05-27</th>\n",
       "      <td>0.310946</td>\n",
       "      <td>0.277665</td>\n",
       "      <td>-0.017081</td>\n",
       "      <td>-0.004877</td>\n",
       "      <td>Buy</td>\n",
       "    </tr>\n",
       "    <tr>\n",
       "      <th>...</th>\n",
       "      <td>...</td>\n",
       "      <td>...</td>\n",
       "      <td>...</td>\n",
       "      <td>...</td>\n",
       "      <td>...</td>\n",
       "    </tr>\n",
       "    <tr>\n",
       "      <th>2019-12-24</th>\n",
       "      <td>0.168590</td>\n",
       "      <td>0.158172</td>\n",
       "      <td>-0.001180</td>\n",
       "      <td>0.000607</td>\n",
       "      <td>Hold</td>\n",
       "    </tr>\n",
       "    <tr>\n",
       "      <th>2019-12-25</th>\n",
       "      <td>0.167789</td>\n",
       "      <td>0.159700</td>\n",
       "      <td>-0.000904</td>\n",
       "      <td>0.003124</td>\n",
       "      <td>Hold</td>\n",
       "    </tr>\n",
       "    <tr>\n",
       "      <th>2019-12-26</th>\n",
       "      <td>0.166317</td>\n",
       "      <td>0.175454</td>\n",
       "      <td>-0.002273</td>\n",
       "      <td>0.017282</td>\n",
       "      <td>Hold</td>\n",
       "    </tr>\n",
       "    <tr>\n",
       "      <th>2019-12-27</th>\n",
       "      <td>0.165540</td>\n",
       "      <td>0.177701</td>\n",
       "      <td>-0.002249</td>\n",
       "      <td>0.018002</td>\n",
       "      <td>Buy</td>\n",
       "    </tr>\n",
       "    <tr>\n",
       "      <th>2019-12-29</th>\n",
       "      <td>0.173773</td>\n",
       "      <td>0.182196</td>\n",
       "      <td>0.007456</td>\n",
       "      <td>0.006742</td>\n",
       "      <td>Hold</td>\n",
       "    </tr>\n",
       "  </tbody>\n",
       "</table>\n",
       "<p>503 rows × 5 columns</p>\n",
       "</div>"
      ],
      "text/plain": [
       "            Forecast    Actual  f_momentum  a_momentum Invest next day\n",
       "DateTime                                                              \n",
       "2018-05-22  0.330828  0.296319         NaN         NaN            Hold\n",
       "2018-05-23  0.333239  0.299195         NaN         NaN            Hold\n",
       "2018-05-24  0.328026  0.282542   -0.002801   -0.013777            Sell\n",
       "2018-05-25  0.322993  0.291667   -0.010246   -0.007529            Hold\n",
       "2018-05-27  0.310946  0.277665   -0.017081   -0.004877             Buy\n",
       "...              ...       ...         ...         ...             ...\n",
       "2019-12-24  0.168590  0.158172   -0.001180    0.000607            Hold\n",
       "2019-12-25  0.167789  0.159700   -0.000904    0.003124            Hold\n",
       "2019-12-26  0.166317  0.175454   -0.002273    0.017282            Hold\n",
       "2019-12-27  0.165540  0.177701   -0.002249    0.018002             Buy\n",
       "2019-12-29  0.173773  0.182196    0.007456    0.006742            Hold\n",
       "\n",
       "[503 rows x 5 columns]"
      ]
     },
     "execution_count": 13,
     "metadata": {},
     "output_type": "execute_result"
    }
   ],
   "source": [
    "df_dec"
   ]
  },
  {
   "cell_type": "code",
   "execution_count": null,
   "metadata": {},
   "outputs": [],
   "source": []
  },
  {
   "cell_type": "code",
   "execution_count": 14,
   "metadata": {},
   "outputs": [],
   "source": [
    "col = \"Invest next day\"\n",
    "conditions = [df_dec[col] == \"Buy\"]\n",
    "choices = [\"1\"]\n",
    "df_dec[\"buy\"] = np.select(conditions, choices, default=\"0\")\n",
    "conditions = [df_dec[col] == \"Sell\"]\n",
    "choices = [\"1\"]\n",
    "df_dec[\"sell\"] = np.select(conditions, choices, default=\"0\")\n",
    "conditions = [df_dec[col] == \"Hold\"]\n",
    "choices = [\"1\"]\n",
    "df_dec[\"hold\"] = np.select(conditions, choices, default=\"0\")"
   ]
  },
  {
   "cell_type": "code",
   "execution_count": 15,
   "metadata": {},
   "outputs": [
    {
     "data": {
      "text/html": [
       "<div>\n",
       "<style scoped>\n",
       "    .dataframe tbody tr th:only-of-type {\n",
       "        vertical-align: middle;\n",
       "    }\n",
       "\n",
       "    .dataframe tbody tr th {\n",
       "        vertical-align: top;\n",
       "    }\n",
       "\n",
       "    .dataframe thead th {\n",
       "        text-align: right;\n",
       "    }\n",
       "</style>\n",
       "<table border=\"1\" class=\"dataframe\">\n",
       "  <thead>\n",
       "    <tr style=\"text-align: right;\">\n",
       "      <th></th>\n",
       "      <th>Forecast</th>\n",
       "      <th>Actual</th>\n",
       "      <th>f_momentum</th>\n",
       "      <th>a_momentum</th>\n",
       "      <th>Invest next day</th>\n",
       "      <th>buy</th>\n",
       "      <th>sell</th>\n",
       "      <th>hold</th>\n",
       "    </tr>\n",
       "    <tr>\n",
       "      <th>DateTime</th>\n",
       "      <th></th>\n",
       "      <th></th>\n",
       "      <th></th>\n",
       "      <th></th>\n",
       "      <th></th>\n",
       "      <th></th>\n",
       "      <th></th>\n",
       "      <th></th>\n",
       "    </tr>\n",
       "  </thead>\n",
       "  <tbody>\n",
       "    <tr>\n",
       "      <th>2018-05-22</th>\n",
       "      <td>0.330828</td>\n",
       "      <td>0.296319</td>\n",
       "      <td>NaN</td>\n",
       "      <td>NaN</td>\n",
       "      <td>Hold</td>\n",
       "      <td>0</td>\n",
       "      <td>0</td>\n",
       "      <td>1</td>\n",
       "    </tr>\n",
       "    <tr>\n",
       "      <th>2018-05-23</th>\n",
       "      <td>0.333239</td>\n",
       "      <td>0.299195</td>\n",
       "      <td>NaN</td>\n",
       "      <td>NaN</td>\n",
       "      <td>Hold</td>\n",
       "      <td>0</td>\n",
       "      <td>0</td>\n",
       "      <td>1</td>\n",
       "    </tr>\n",
       "    <tr>\n",
       "      <th>2018-05-24</th>\n",
       "      <td>0.328026</td>\n",
       "      <td>0.282542</td>\n",
       "      <td>-0.002801</td>\n",
       "      <td>-0.013777</td>\n",
       "      <td>Sell</td>\n",
       "      <td>0</td>\n",
       "      <td>1</td>\n",
       "      <td>0</td>\n",
       "    </tr>\n",
       "    <tr>\n",
       "      <th>2018-05-25</th>\n",
       "      <td>0.322993</td>\n",
       "      <td>0.291667</td>\n",
       "      <td>-0.010246</td>\n",
       "      <td>-0.007529</td>\n",
       "      <td>Hold</td>\n",
       "      <td>0</td>\n",
       "      <td>0</td>\n",
       "      <td>1</td>\n",
       "    </tr>\n",
       "    <tr>\n",
       "      <th>2018-05-27</th>\n",
       "      <td>0.310946</td>\n",
       "      <td>0.277665</td>\n",
       "      <td>-0.017081</td>\n",
       "      <td>-0.004877</td>\n",
       "      <td>Buy</td>\n",
       "      <td>1</td>\n",
       "      <td>0</td>\n",
       "      <td>0</td>\n",
       "    </tr>\n",
       "    <tr>\n",
       "      <th>...</th>\n",
       "      <td>...</td>\n",
       "      <td>...</td>\n",
       "      <td>...</td>\n",
       "      <td>...</td>\n",
       "      <td>...</td>\n",
       "      <td>...</td>\n",
       "      <td>...</td>\n",
       "      <td>...</td>\n",
       "    </tr>\n",
       "    <tr>\n",
       "      <th>2019-12-24</th>\n",
       "      <td>0.168590</td>\n",
       "      <td>0.158172</td>\n",
       "      <td>-0.001180</td>\n",
       "      <td>0.000607</td>\n",
       "      <td>Hold</td>\n",
       "      <td>0</td>\n",
       "      <td>0</td>\n",
       "      <td>1</td>\n",
       "    </tr>\n",
       "    <tr>\n",
       "      <th>2019-12-25</th>\n",
       "      <td>0.167789</td>\n",
       "      <td>0.159700</td>\n",
       "      <td>-0.000904</td>\n",
       "      <td>0.003124</td>\n",
       "      <td>Hold</td>\n",
       "      <td>0</td>\n",
       "      <td>0</td>\n",
       "      <td>1</td>\n",
       "    </tr>\n",
       "    <tr>\n",
       "      <th>2019-12-26</th>\n",
       "      <td>0.166317</td>\n",
       "      <td>0.175454</td>\n",
       "      <td>-0.002273</td>\n",
       "      <td>0.017282</td>\n",
       "      <td>Hold</td>\n",
       "      <td>0</td>\n",
       "      <td>0</td>\n",
       "      <td>1</td>\n",
       "    </tr>\n",
       "    <tr>\n",
       "      <th>2019-12-27</th>\n",
       "      <td>0.165540</td>\n",
       "      <td>0.177701</td>\n",
       "      <td>-0.002249</td>\n",
       "      <td>0.018002</td>\n",
       "      <td>Buy</td>\n",
       "      <td>1</td>\n",
       "      <td>0</td>\n",
       "      <td>0</td>\n",
       "    </tr>\n",
       "    <tr>\n",
       "      <th>2019-12-29</th>\n",
       "      <td>0.173773</td>\n",
       "      <td>0.182196</td>\n",
       "      <td>0.007456</td>\n",
       "      <td>0.006742</td>\n",
       "      <td>Hold</td>\n",
       "      <td>0</td>\n",
       "      <td>0</td>\n",
       "      <td>1</td>\n",
       "    </tr>\n",
       "  </tbody>\n",
       "</table>\n",
       "<p>503 rows × 8 columns</p>\n",
       "</div>"
      ],
      "text/plain": [
       "            Forecast    Actual  f_momentum  a_momentum Invest next day buy  \\\n",
       "DateTime                                                                     \n",
       "2018-05-22  0.330828  0.296319         NaN         NaN            Hold   0   \n",
       "2018-05-23  0.333239  0.299195         NaN         NaN            Hold   0   \n",
       "2018-05-24  0.328026  0.282542   -0.002801   -0.013777            Sell   0   \n",
       "2018-05-25  0.322993  0.291667   -0.010246   -0.007529            Hold   0   \n",
       "2018-05-27  0.310946  0.277665   -0.017081   -0.004877             Buy   1   \n",
       "...              ...       ...         ...         ...             ...  ..   \n",
       "2019-12-24  0.168590  0.158172   -0.001180    0.000607            Hold   0   \n",
       "2019-12-25  0.167789  0.159700   -0.000904    0.003124            Hold   0   \n",
       "2019-12-26  0.166317  0.175454   -0.002273    0.017282            Hold   0   \n",
       "2019-12-27  0.165540  0.177701   -0.002249    0.018002             Buy   1   \n",
       "2019-12-29  0.173773  0.182196    0.007456    0.006742            Hold   0   \n",
       "\n",
       "           sell hold  \n",
       "DateTime              \n",
       "2018-05-22    0    1  \n",
       "2018-05-23    0    1  \n",
       "2018-05-24    1    0  \n",
       "2018-05-25    0    1  \n",
       "2018-05-27    0    0  \n",
       "...         ...  ...  \n",
       "2019-12-24    0    1  \n",
       "2019-12-25    0    1  \n",
       "2019-12-26    0    1  \n",
       "2019-12-27    0    0  \n",
       "2019-12-29    0    1  \n",
       "\n",
       "[503 rows x 8 columns]"
      ]
     },
     "execution_count": 15,
     "metadata": {},
     "output_type": "execute_result"
    }
   ],
   "source": [
    "df_dec"
   ]
  },
  {
   "cell_type": "code",
   "execution_count": 16,
   "metadata": {},
   "outputs": [],
   "source": [
    "df[\"buy\"] = df_dec[\"buy\"]\n",
    "df[\"sell\"] = df_dec[\"sell\"]\n",
    "df[\"hold\"] = df_dec[\"hold\"]"
   ]
  },
  {
   "cell_type": "code",
   "execution_count": 17,
   "metadata": {},
   "outputs": [
    {
     "data": {
      "text/html": [
       "<div>\n",
       "<style scoped>\n",
       "    .dataframe tbody tr th:only-of-type {\n",
       "        vertical-align: middle;\n",
       "    }\n",
       "\n",
       "    .dataframe tbody tr th {\n",
       "        vertical-align: top;\n",
       "    }\n",
       "\n",
       "    .dataframe thead th {\n",
       "        text-align: right;\n",
       "    }\n",
       "</style>\n",
       "<table border=\"1\" class=\"dataframe\">\n",
       "  <thead>\n",
       "    <tr style=\"text-align: right;\">\n",
       "      <th></th>\n",
       "      <th>Close</th>\n",
       "      <th>RoC</th>\n",
       "      <th>S%D</th>\n",
       "      <th>PSY12</th>\n",
       "      <th>ASY5</th>\n",
       "      <th>buy</th>\n",
       "      <th>sell</th>\n",
       "      <th>hold</th>\n",
       "    </tr>\n",
       "    <tr>\n",
       "      <th>DateTime</th>\n",
       "      <th></th>\n",
       "      <th></th>\n",
       "      <th></th>\n",
       "      <th></th>\n",
       "      <th></th>\n",
       "      <th></th>\n",
       "      <th></th>\n",
       "      <th></th>\n",
       "    </tr>\n",
       "  </thead>\n",
       "  <tbody>\n",
       "    <tr>\n",
       "      <th>2018-05-22</th>\n",
       "      <td>0.314006</td>\n",
       "      <td>0.480472</td>\n",
       "      <td>0.194738</td>\n",
       "      <td>0.363636</td>\n",
       "      <td>0.479935</td>\n",
       "      <td>0</td>\n",
       "      <td>0</td>\n",
       "      <td>1</td>\n",
       "    </tr>\n",
       "    <tr>\n",
       "      <th>2018-05-23</th>\n",
       "      <td>0.296319</td>\n",
       "      <td>0.444085</td>\n",
       "      <td>0.198627</td>\n",
       "      <td>0.363636</td>\n",
       "      <td>0.432865</td>\n",
       "      <td>0</td>\n",
       "      <td>0</td>\n",
       "      <td>1</td>\n",
       "    </tr>\n",
       "    <tr>\n",
       "      <th>2018-05-24</th>\n",
       "      <td>0.299195</td>\n",
       "      <td>0.411007</td>\n",
       "      <td>0.185304</td>\n",
       "      <td>0.363636</td>\n",
       "      <td>0.462282</td>\n",
       "      <td>0</td>\n",
       "      <td>1</td>\n",
       "      <td>0</td>\n",
       "    </tr>\n",
       "    <tr>\n",
       "      <th>2018-05-25</th>\n",
       "      <td>0.282542</td>\n",
       "      <td>0.349541</td>\n",
       "      <td>0.151715</td>\n",
       "      <td>0.272727</td>\n",
       "      <td>0.400889</td>\n",
       "      <td>0</td>\n",
       "      <td>0</td>\n",
       "      <td>1</td>\n",
       "    </tr>\n",
       "    <tr>\n",
       "      <th>2018-05-27</th>\n",
       "      <td>0.291667</td>\n",
       "      <td>0.366831</td>\n",
       "      <td>0.125065</td>\n",
       "      <td>0.272727</td>\n",
       "      <td>0.414903</td>\n",
       "      <td>1</td>\n",
       "      <td>0</td>\n",
       "      <td>0</td>\n",
       "    </tr>\n",
       "    <tr>\n",
       "      <th>...</th>\n",
       "      <td>...</td>\n",
       "      <td>...</td>\n",
       "      <td>...</td>\n",
       "      <td>...</td>\n",
       "      <td>...</td>\n",
       "      <td>...</td>\n",
       "      <td>...</td>\n",
       "      <td>...</td>\n",
       "    </tr>\n",
       "    <tr>\n",
       "      <th>2019-12-24</th>\n",
       "      <td>0.156576</td>\n",
       "      <td>0.526441</td>\n",
       "      <td>0.519878</td>\n",
       "      <td>0.727273</td>\n",
       "      <td>0.477280</td>\n",
       "      <td>0</td>\n",
       "      <td>0</td>\n",
       "      <td>1</td>\n",
       "    </tr>\n",
       "    <tr>\n",
       "      <th>2019-12-25</th>\n",
       "      <td>0.158172</td>\n",
       "      <td>0.504520</td>\n",
       "      <td>0.453905</td>\n",
       "      <td>0.727273</td>\n",
       "      <td>0.476746</td>\n",
       "      <td>0</td>\n",
       "      <td>0</td>\n",
       "      <td>1</td>\n",
       "    </tr>\n",
       "    <tr>\n",
       "      <th>2019-12-26</th>\n",
       "      <td>0.159700</td>\n",
       "      <td>0.475611</td>\n",
       "      <td>0.395299</td>\n",
       "      <td>0.727273</td>\n",
       "      <td>0.525453</td>\n",
       "      <td>0</td>\n",
       "      <td>0</td>\n",
       "      <td>1</td>\n",
       "    </tr>\n",
       "    <tr>\n",
       "      <th>2019-12-27</th>\n",
       "      <td>0.175454</td>\n",
       "      <td>0.565530</td>\n",
       "      <td>0.421044</td>\n",
       "      <td>0.818182</td>\n",
       "      <td>0.586624</td>\n",
       "      <td>1</td>\n",
       "      <td>0</td>\n",
       "      <td>0</td>\n",
       "    </tr>\n",
       "    <tr>\n",
       "      <th>2019-12-29</th>\n",
       "      <td>0.177701</td>\n",
       "      <td>0.567630</td>\n",
       "      <td>0.451166</td>\n",
       "      <td>0.818182</td>\n",
       "      <td>0.585169</td>\n",
       "      <td>0</td>\n",
       "      <td>0</td>\n",
       "      <td>1</td>\n",
       "    </tr>\n",
       "  </tbody>\n",
       "</table>\n",
       "<p>503 rows × 8 columns</p>\n",
       "</div>"
      ],
      "text/plain": [
       "               Close       RoC       S%D     PSY12      ASY5 buy sell hold\n",
       "DateTime                                                                  \n",
       "2018-05-22  0.314006  0.480472  0.194738  0.363636  0.479935   0    0    1\n",
       "2018-05-23  0.296319  0.444085  0.198627  0.363636  0.432865   0    0    1\n",
       "2018-05-24  0.299195  0.411007  0.185304  0.363636  0.462282   0    1    0\n",
       "2018-05-25  0.282542  0.349541  0.151715  0.272727  0.400889   0    0    1\n",
       "2018-05-27  0.291667  0.366831  0.125065  0.272727  0.414903   1    0    0\n",
       "...              ...       ...       ...       ...       ...  ..  ...  ...\n",
       "2019-12-24  0.156576  0.526441  0.519878  0.727273  0.477280   0    0    1\n",
       "2019-12-25  0.158172  0.504520  0.453905  0.727273  0.476746   0    0    1\n",
       "2019-12-26  0.159700  0.475611  0.395299  0.727273  0.525453   0    0    1\n",
       "2019-12-27  0.175454  0.565530  0.421044  0.818182  0.586624   1    0    0\n",
       "2019-12-29  0.177701  0.567630  0.451166  0.818182  0.585169   0    0    1\n",
       "\n",
       "[503 rows x 8 columns]"
      ]
     },
     "execution_count": 17,
     "metadata": {},
     "output_type": "execute_result"
    }
   ],
   "source": [
    "df = df.dropna()\n",
    "df"
   ]
  },
  {
   "cell_type": "code",
   "execution_count": 18,
   "metadata": {},
   "outputs": [
    {
     "data": {
      "text/plain": [
       "Index(['Close', 'RoC', 'S%D', 'PSY12', 'ASY5'], dtype='object')"
      ]
     },
     "execution_count": 18,
     "metadata": {},
     "output_type": "execute_result"
    }
   ],
   "source": [
    "df.columns[:5]"
   ]
  },
  {
   "cell_type": "code",
   "execution_count": 19,
   "metadata": {},
   "outputs": [
    {
     "data": {
      "text/html": [
       "<div>\n",
       "<style scoped>\n",
       "    .dataframe tbody tr th:only-of-type {\n",
       "        vertical-align: middle;\n",
       "    }\n",
       "\n",
       "    .dataframe tbody tr th {\n",
       "        vertical-align: top;\n",
       "    }\n",
       "\n",
       "    .dataframe thead th {\n",
       "        text-align: right;\n",
       "    }\n",
       "</style>\n",
       "<table border=\"1\" class=\"dataframe\">\n",
       "  <thead>\n",
       "    <tr style=\"text-align: right;\">\n",
       "      <th></th>\n",
       "      <th>Close</th>\n",
       "      <th>RoC</th>\n",
       "      <th>S%D</th>\n",
       "      <th>PSY12</th>\n",
       "      <th>ASY5</th>\n",
       "      <th>buy</th>\n",
       "      <th>sell</th>\n",
       "      <th>hold</th>\n",
       "    </tr>\n",
       "    <tr>\n",
       "      <th>DateTime</th>\n",
       "      <th></th>\n",
       "      <th></th>\n",
       "      <th></th>\n",
       "      <th></th>\n",
       "      <th></th>\n",
       "      <th></th>\n",
       "      <th></th>\n",
       "      <th></th>\n",
       "    </tr>\n",
       "  </thead>\n",
       "  <tbody>\n",
       "    <tr>\n",
       "      <th>2018-05-22</th>\n",
       "      <td>0.314006</td>\n",
       "      <td>0.480472</td>\n",
       "      <td>0.194738</td>\n",
       "      <td>0.363636</td>\n",
       "      <td>0.479935</td>\n",
       "      <td>0</td>\n",
       "      <td>0</td>\n",
       "      <td>1</td>\n",
       "    </tr>\n",
       "    <tr>\n",
       "      <th>2018-05-23</th>\n",
       "      <td>0.296319</td>\n",
       "      <td>0.444085</td>\n",
       "      <td>0.198627</td>\n",
       "      <td>0.363636</td>\n",
       "      <td>0.432865</td>\n",
       "      <td>0</td>\n",
       "      <td>0</td>\n",
       "      <td>1</td>\n",
       "    </tr>\n",
       "    <tr>\n",
       "      <th>2018-05-24</th>\n",
       "      <td>0.299195</td>\n",
       "      <td>0.411007</td>\n",
       "      <td>0.185304</td>\n",
       "      <td>0.363636</td>\n",
       "      <td>0.462282</td>\n",
       "      <td>0</td>\n",
       "      <td>1</td>\n",
       "      <td>0</td>\n",
       "    </tr>\n",
       "    <tr>\n",
       "      <th>2018-05-25</th>\n",
       "      <td>0.282542</td>\n",
       "      <td>0.349541</td>\n",
       "      <td>0.151715</td>\n",
       "      <td>0.272727</td>\n",
       "      <td>0.400889</td>\n",
       "      <td>0</td>\n",
       "      <td>0</td>\n",
       "      <td>1</td>\n",
       "    </tr>\n",
       "    <tr>\n",
       "      <th>2018-05-27</th>\n",
       "      <td>0.291667</td>\n",
       "      <td>0.366831</td>\n",
       "      <td>0.125065</td>\n",
       "      <td>0.272727</td>\n",
       "      <td>0.414903</td>\n",
       "      <td>1</td>\n",
       "      <td>0</td>\n",
       "      <td>0</td>\n",
       "    </tr>\n",
       "    <tr>\n",
       "      <th>...</th>\n",
       "      <td>...</td>\n",
       "      <td>...</td>\n",
       "      <td>...</td>\n",
       "      <td>...</td>\n",
       "      <td>...</td>\n",
       "      <td>...</td>\n",
       "      <td>...</td>\n",
       "      <td>...</td>\n",
       "    </tr>\n",
       "    <tr>\n",
       "      <th>2019-12-24</th>\n",
       "      <td>0.156576</td>\n",
       "      <td>0.526441</td>\n",
       "      <td>0.519878</td>\n",
       "      <td>0.727273</td>\n",
       "      <td>0.477280</td>\n",
       "      <td>0</td>\n",
       "      <td>0</td>\n",
       "      <td>1</td>\n",
       "    </tr>\n",
       "    <tr>\n",
       "      <th>2019-12-25</th>\n",
       "      <td>0.158172</td>\n",
       "      <td>0.504520</td>\n",
       "      <td>0.453905</td>\n",
       "      <td>0.727273</td>\n",
       "      <td>0.476746</td>\n",
       "      <td>0</td>\n",
       "      <td>0</td>\n",
       "      <td>1</td>\n",
       "    </tr>\n",
       "    <tr>\n",
       "      <th>2019-12-26</th>\n",
       "      <td>0.159700</td>\n",
       "      <td>0.475611</td>\n",
       "      <td>0.395299</td>\n",
       "      <td>0.727273</td>\n",
       "      <td>0.525453</td>\n",
       "      <td>0</td>\n",
       "      <td>0</td>\n",
       "      <td>1</td>\n",
       "    </tr>\n",
       "    <tr>\n",
       "      <th>2019-12-27</th>\n",
       "      <td>0.175454</td>\n",
       "      <td>0.565530</td>\n",
       "      <td>0.421044</td>\n",
       "      <td>0.818182</td>\n",
       "      <td>0.586624</td>\n",
       "      <td>1</td>\n",
       "      <td>0</td>\n",
       "      <td>0</td>\n",
       "    </tr>\n",
       "    <tr>\n",
       "      <th>2019-12-29</th>\n",
       "      <td>0.177701</td>\n",
       "      <td>0.567630</td>\n",
       "      <td>0.451166</td>\n",
       "      <td>0.818182</td>\n",
       "      <td>0.585169</td>\n",
       "      <td>0</td>\n",
       "      <td>0</td>\n",
       "      <td>1</td>\n",
       "    </tr>\n",
       "  </tbody>\n",
       "</table>\n",
       "<p>503 rows × 8 columns</p>\n",
       "</div>"
      ],
      "text/plain": [
       "               Close       RoC       S%D     PSY12      ASY5 buy sell hold\n",
       "DateTime                                                                  \n",
       "2018-05-22  0.314006  0.480472  0.194738  0.363636  0.479935   0    0    1\n",
       "2018-05-23  0.296319  0.444085  0.198627  0.363636  0.432865   0    0    1\n",
       "2018-05-24  0.299195  0.411007  0.185304  0.363636  0.462282   0    1    0\n",
       "2018-05-25  0.282542  0.349541  0.151715  0.272727  0.400889   0    0    1\n",
       "2018-05-27  0.291667  0.366831  0.125065  0.272727  0.414903   1    0    0\n",
       "...              ...       ...       ...       ...       ...  ..  ...  ...\n",
       "2019-12-24  0.156576  0.526441  0.519878  0.727273  0.477280   0    0    1\n",
       "2019-12-25  0.158172  0.504520  0.453905  0.727273  0.476746   0    0    1\n",
       "2019-12-26  0.159700  0.475611  0.395299  0.727273  0.525453   0    0    1\n",
       "2019-12-27  0.175454  0.565530  0.421044  0.818182  0.586624   1    0    0\n",
       "2019-12-29  0.177701  0.567630  0.451166  0.818182  0.585169   0    0    1\n",
       "\n",
       "[503 rows x 8 columns]"
      ]
     },
     "execution_count": 19,
     "metadata": {},
     "output_type": "execute_result"
    }
   ],
   "source": [
    "df"
   ]
  },
  {
   "cell_type": "code",
   "execution_count": 20,
   "metadata": {},
   "outputs": [],
   "source": [
    "def foofoofoo(lblz):\n",
    "    container = []\n",
    "    for row in lblz:\n",
    "        word = ''\n",
    "        for value in row:\n",
    "            word = word + str(value)\n",
    "        container.append(word)\n",
    "    return container"
   ]
  },
  {
   "cell_type": "code",
   "execution_count": 21,
   "metadata": {},
   "outputs": [],
   "source": [
    "labels = df[[\"buy\", \"sell\", \"hold\"]].to_numpy()"
   ]
  },
  {
   "cell_type": "code",
   "execution_count": 22,
   "metadata": {},
   "outputs": [],
   "source": [
    "labels = foofoofoo(labels)"
   ]
  },
  {
   "cell_type": "code",
   "execution_count": 23,
   "metadata": {
    "scrolled": false
   },
   "outputs": [],
   "source": [
    "forecast_days = 1\n",
    "#df['Label'] = df['Close'].shift(-forecast_days)\n",
    "df_dec.dropna()\n",
    "data = df\n",
    "data = data.dropna(how=\"any\")\n",
    "x = data[df.columns[:5]].to_numpy()\n",
    "y = data[df.columns[-4]].to_numpy()\n",
    "y2 = data[df.columns[-3:]].to_numpy()"
   ]
  },
  {
   "cell_type": "markdown",
   "metadata": {},
   "source": [
    "## Dataset y\n"
   ]
  },
  {
   "cell_type": "code",
   "execution_count": 24,
   "metadata": {},
   "outputs": [],
   "source": [
    "def create_split(x, y):\n",
    "    tss = TimeSeriesSplit(n_splits=5)\n",
    "    for train_index, test_index in tss.split(x):\n",
    "        x_train, x_test = x[train_index], x[test_index]\n",
    "        y_train, y_test = y[train_index], y[test_index]\n",
    "    return x_train, y_train, x_test, y_test"
   ]
  },
  {
   "cell_type": "code",
   "execution_count": 25,
   "metadata": {},
   "outputs": [],
   "source": [
    "x_train, y_train, x_test, y_test = create_split(x, y)\n",
    "x_train_2, y_train_2, x_test_2, y_test_2 = create_split(x, y2)"
   ]
  },
  {
   "cell_type": "code",
   "execution_count": 26,
   "metadata": {},
   "outputs": [],
   "source": [
    "y_test_2 = foofoofoo(y_test_2)\n",
    "y_train_2 = foofoofoo(y_train_2)"
   ]
  },
  {
   "cell_type": "markdown",
   "metadata": {},
   "source": [
    "## Dataset y2"
   ]
  },
  {
   "cell_type": "code",
   "execution_count": 27,
   "metadata": {},
   "outputs": [],
   "source": [
    "#from sklearn.multiclass import OneVsRestClassifier\n",
    "#from sklearn.svm import LinearSVC\n",
    "#OneVsRestClassifier(LinearSVC(random_state=0)).fit(x, y).predict(x)"
   ]
  },
  {
   "cell_type": "code",
   "execution_count": 28,
   "metadata": {},
   "outputs": [],
   "source": [
    "from sklearn.preprocessing import MinMaxScaler"
   ]
  },
  {
   "cell_type": "code",
   "execution_count": 29,
   "metadata": {},
   "outputs": [],
   "source": [
    "scaler = MinMaxScaler(feature_range=(0,1))\n",
    "\n",
    "x_train = scaler.fit_transform(x_train)\n",
    "x_test= scaler.transform(x_test)"
   ]
  },
  {
   "cell_type": "code",
   "execution_count": 30,
   "metadata": {},
   "outputs": [],
   "source": [
    "x = scaler.transform(x)"
   ]
  },
  {
   "cell_type": "markdown",
   "metadata": {},
   "source": [
    "lab_enc = preprocessing.LabelEncoder()\n",
    "encoded = lab_enc.fit_transform(y_train)\n",
    "print(training_scores_encoded)\n",
    "print(utils.multiclass.type_of_target(y_train))\n",
    "print(utils.multiclass.type_of_target(y_train.astype('int')))\n",
    "print(utils.multiclass.type_of_target(training_scores_encoded))"
   ]
  },
  {
   "cell_type": "code",
   "execution_count": 31,
   "metadata": {},
   "outputs": [],
   "source": [
    "from sklearn import datasets\n",
    "from sklearn.model_selection import train_test_split\n",
    "from sklearn.model_selection import GridSearchCV, RandomizedSearchCV\n",
    "from sklearn.metrics import classification_report\n",
    "from sklearn.ensemble import RandomForestClassifier\n",
    "from sklearn.svm import SVC\n",
    "from sklearn.linear_model import LogisticRegression\n",
    "from pprint import pprint\n",
    "from sklearn import metrics"
   ]
  },
  {
   "cell_type": "markdown",
   "metadata": {},
   "source": [
    "# Gridsearch random forest\n",
    "\n",
    "https://towardsdatascience.com/hyperparameter-tuning-the-random-forest-in-python-using-scikit-learn-28d2aa77dd74\n"
   ]
  },
  {
   "cell_type": "markdown",
   "metadata": {},
   "source": [
    "### Functions"
   ]
  },
  {
   "cell_type": "code",
   "execution_count": 32,
   "metadata": {},
   "outputs": [],
   "source": [
    "def random_search(settings):\n",
    "    \n",
    "    # CREATE THE CORRECT MODEL TYPE\n",
    "    model = select_model(settings)\n",
    "\n",
    "    # CREATE THE RANDOMIZED SEARCH CV\n",
    "    rscv = RandomizedSearchCV(estimator=model,\n",
    "                                  param_distributions=settings['random_params'],\n",
    "                                  n_iter=100,\n",
    "                                  cv = 3,\n",
    "                                  verbose=2,\n",
    "                                  random_state=42,\n",
    "                                  n_jobs=-1)\n",
    "\n",
    "    # FIT THE RANDOM SEARCH\n",
    "    rscv.fit(settings[\"x\"], settings[\"y\"])\n",
    "    \n",
    "    # SELECT THE BEST ESTIMATOR\n",
    "    best_random = rscv.best_estimator_\n",
    "\n",
    "    \n",
    "    \n",
    "    return rscvm, rscv.best_params_"
   ]
  },
  {
   "cell_type": "code",
   "execution_count": 33,
   "metadata": {},
   "outputs": [],
   "source": [
    "def grid_search(model, dataset, settings):\n",
    "\n",
    "    \n",
    "    # SELECT MODEL\n",
    "    model = select_model(settings)\n",
    "\n",
    "    # CREATE GRID SEARCH CV\n",
    "    grid_search = GridSearchCV(estimator = model, param_grid = settings[\"grid_params\"], \n",
    "                          cv = settings[\"cv\"], n_jobs = settings[\"n_jobs\"], verbose = 2)\n",
    "    grid_search.fit(dataset[\"x\"], dataset[\"y\"])\n",
    "    best_grid = grid_search.best_estimator_\n",
    "\n",
    "    return best_grid"
   ]
  },
  {
   "cell_type": "code",
   "execution_count": 34,
   "metadata": {},
   "outputs": [],
   "source": [
    "def select_model(settings):\n",
    "    \"\"\"Select a classification model type. \n",
    "    Supported models:\n",
    "    Random Forest Classifier (default)\"\"\"\n",
    "    if(settings[\"model\"] == \"rfc\"):\n",
    "        model = RandomForestClassifier()\n",
    "    else:\n",
    "        model = RandomForestClassifier()\n",
    "    return model"
   ]
  },
  {
   "cell_type": "code",
   "execution_count": 35,
   "metadata": {},
   "outputs": [],
   "source": [
    "def grid_search_model(model, dataset, settings):\n",
    "    \"\"\"Runs a grid search on the given model to define the best parameters for the model. \n",
    "    \n",
    "    Parameters:\n",
    "    -----------\n",
    "    model: sklearn model \n",
    "    unfitted model\n",
    "    dataset: dict\n",
    "    Dictionary that contains x_train, y_train, features and labels\n",
    "    \n",
    "    Returns:\n",
    "    --------\n",
    "    model: sklearn model\n",
    "    Same type of model as the input model, with optimized parameters\n",
    "    \"\"\"\n",
    "    # CREATE GRID SEARCH CV\n",
    "    grid_search = GridSearchCV(estimator = model, param_grid = settings[\"grid_params\"], \n",
    "                          cv = settings[\"cv\"], n_jobs = settings[\"n_jobs\"], verbose = 2)\n",
    "    \n",
    "    # FIT GRIDSEARCH\n",
    "    grid_search.fit(dataset[\"features\"], dataset[\"labels\"])\n",
    "    \n",
    "    # PICK OUT THE BEST MODEL FROM GRID SEARCH\n",
    "    model = grid_search.best_estimator_\n",
    "    \n",
    "    # RUN MODEL ON BEST PARAMS   \n",
    "    model.fit(dataset[\"x_train\"], dataset[\"y_train\"])\n",
    "    \n",
    "    # RETURN MODEL WITH BEST PARAMS    \n",
    "    return model"
   ]
  },
  {
   "cell_type": "code",
   "execution_count": 36,
   "metadata": {},
   "outputs": [],
   "source": [
    "from sklearn import preprocessing\n",
    "def evaluate(model, test_features, test_labels, encode=True):\n",
    "    \"\"\"Evaluate a classifcation model, for example Random Forest Classification\n",
    "    \n",
    "    Parameters:\n",
    "    model: sklearn classification model\n",
    "    test_features: np.array of features\n",
    "    test_labels: np.array of labels \n",
    "    encode (default=True): boolean, encodes values to int if set to true\n",
    "    \n",
    "    Returns:\n",
    "    accuracy: float, metrics.accuracy_score\n",
    "    precision: float, metrics.precision_score\n",
    "    recall: float, metrics.precision_score\n",
    "    confusion: \n",
    "    \"\"\"\n",
    "    # PREDICT\n",
    "    predict = model.predict(test_features)\n",
    "    predict_proba = model.predict_proba(test_features)\n",
    "\n",
    "    # OPTIONAL ENCODING\n",
    "    if(encode == True):\n",
    "        le = preprocessing.LabelEncoder()\n",
    "        le.fit(test_labels)\n",
    "        test_labels = le.transform(test_labels)\n",
    "        predictions = le.transform(predict)\n",
    "        \n",
    "    #binary_labels = preprocessing.binarize(test_labels.reshape(-1, 1))\n",
    "    # CREATE CONFUSION MATRIX\n",
    "    #confusion = metrics.confusion_matrix(test_labels, predictions, labels=[0,1,2])\n",
    "    \n",
    "    # PULL ACCURACY FROM METRICS\n",
    "    class_report = metrics.classification_report(test_labels, predict)\n",
    "    roc_auc = metrics.roc_auc_score(test_labels, predict_proba, multi_class='ovo', average='macro')\n",
    "    \n",
    "    # RETURN THE CREATED SCORES\n",
    "    return class_report, roc_auc"
   ]
  },
  {
   "cell_type": "code",
   "execution_count": 37,
   "metadata": {},
   "outputs": [],
   "source": [
    "# C:\\Users\\Alex-\\Desktop\\Beslutsstödssystem\\models-decision-system\\MockPipeline\n",
    "import pickle\n",
    "def load_pickle(path):\n",
    "    return pickle.load(open(path, 'rb'))"
   ]
  },
  {
   "cell_type": "code",
   "execution_count": 38,
   "metadata": {},
   "outputs": [],
   "source": [
    "%matplotlib notebook\n",
    "#new_data = load_pickle(\"cls-dataset.pickle\")\n",
    "x_test = pickle.load(open(\"test-dataset.pickle\", 'rb'))"
   ]
  },
  {
   "cell_type": "code",
   "execution_count": 39,
   "metadata": {},
   "outputs": [],
   "source": [
    "y_test = pd.read_csv(\"sick-dataset.csv\")"
   ]
  },
  {
   "cell_type": "code",
   "execution_count": 40,
   "metadata": {},
   "outputs": [],
   "source": [
    "y_test = y_test[\"label\"]"
   ]
  },
  {
   "cell_type": "code",
   "execution_count": 41,
   "metadata": {},
   "outputs": [
    {
     "data": {
      "text/plain": [
       "array([[1.19671188, 1.17790008, 1.08383954],\n",
       "       [1.20023295, 1.17430663, 1.1292845 ],\n",
       "       [1.20894363, 1.17983079, 1.13130617],\n",
       "       ...,\n",
       "       [1.12289069, 1.10927844, 1.22247922],\n",
       "       [1.12372512, 1.10002017, 1.19581151],\n",
       "       [1.12451024, 1.08441639, 1.1518805 ]])"
      ]
     },
     "execution_count": 41,
     "metadata": {},
     "output_type": "execute_result"
    }
   ],
   "source": [
    "x_test"
   ]
  },
  {
   "cell_type": "code",
   "execution_count": 42,
   "metadata": {},
   "outputs": [],
   "source": [
    "train_data = pd.read_csv(\"train-dataset.csv\")"
   ]
  },
  {
   "cell_type": "code",
   "execution_count": 43,
   "metadata": {
    "scrolled": true
   },
   "outputs": [
    {
     "data": {
      "text/html": [
       "<div>\n",
       "<style scoped>\n",
       "    .dataframe tbody tr th:only-of-type {\n",
       "        vertical-align: middle;\n",
       "    }\n",
       "\n",
       "    .dataframe tbody tr th {\n",
       "        vertical-align: top;\n",
       "    }\n",
       "\n",
       "    .dataframe thead th {\n",
       "        text-align: right;\n",
       "    }\n",
       "</style>\n",
       "<table border=\"1\" class=\"dataframe\">\n",
       "  <thead>\n",
       "    <tr style=\"text-align: right;\">\n",
       "      <th></th>\n",
       "      <th>Unnamed: 0</th>\n",
       "      <th>linreg_0</th>\n",
       "      <th>lstm_1</th>\n",
       "      <th>tcn_2</th>\n",
       "      <th>label</th>\n",
       "    </tr>\n",
       "  </thead>\n",
       "  <tbody>\n",
       "    <tr>\n",
       "      <th>0</th>\n",
       "      <td>0</td>\n",
       "      <td>1.415416</td>\n",
       "      <td>1.416899</td>\n",
       "      <td>1.155509</td>\n",
       "      <td>2</td>\n",
       "    </tr>\n",
       "    <tr>\n",
       "      <th>1</th>\n",
       "      <td>1</td>\n",
       "      <td>1.411079</td>\n",
       "      <td>1.406109</td>\n",
       "      <td>1.231431</td>\n",
       "      <td>1</td>\n",
       "    </tr>\n",
       "    <tr>\n",
       "      <th>2</th>\n",
       "      <td>2</td>\n",
       "      <td>1.419329</td>\n",
       "      <td>1.404692</td>\n",
       "      <td>1.114336</td>\n",
       "      <td>1</td>\n",
       "    </tr>\n",
       "    <tr>\n",
       "      <th>3</th>\n",
       "      <td>3</td>\n",
       "      <td>1.433976</td>\n",
       "      <td>1.415452</td>\n",
       "      <td>1.147940</td>\n",
       "      <td>2</td>\n",
       "    </tr>\n",
       "    <tr>\n",
       "      <th>4</th>\n",
       "      <td>4</td>\n",
       "      <td>1.422778</td>\n",
       "      <td>1.413148</td>\n",
       "      <td>1.328912</td>\n",
       "      <td>1</td>\n",
       "    </tr>\n",
       "    <tr>\n",
       "      <th>...</th>\n",
       "      <td>...</td>\n",
       "      <td>...</td>\n",
       "      <td>...</td>\n",
       "      <td>...</td>\n",
       "      <td>...</td>\n",
       "    </tr>\n",
       "    <tr>\n",
       "      <th>2065</th>\n",
       "      <td>2065</td>\n",
       "      <td>1.195438</td>\n",
       "      <td>1.116277</td>\n",
       "      <td>1.085387</td>\n",
       "      <td>1</td>\n",
       "    </tr>\n",
       "    <tr>\n",
       "      <th>2066</th>\n",
       "      <td>2066</td>\n",
       "      <td>1.201720</td>\n",
       "      <td>1.120028</td>\n",
       "      <td>1.138446</td>\n",
       "      <td>2</td>\n",
       "    </tr>\n",
       "    <tr>\n",
       "      <th>2067</th>\n",
       "      <td>2067</td>\n",
       "      <td>1.202334</td>\n",
       "      <td>1.129956</td>\n",
       "      <td>1.153759</td>\n",
       "      <td>1</td>\n",
       "    </tr>\n",
       "    <tr>\n",
       "      <th>2068</th>\n",
       "      <td>2068</td>\n",
       "      <td>1.206246</td>\n",
       "      <td>1.134536</td>\n",
       "      <td>1.143560</td>\n",
       "      <td>0</td>\n",
       "    </tr>\n",
       "    <tr>\n",
       "      <th>2069</th>\n",
       "      <td>2069</td>\n",
       "      <td>1.202334</td>\n",
       "      <td>1.137246</td>\n",
       "      <td>1.153453</td>\n",
       "      <td>1</td>\n",
       "    </tr>\n",
       "  </tbody>\n",
       "</table>\n",
       "<p>2070 rows × 5 columns</p>\n",
       "</div>"
      ],
      "text/plain": [
       "      Unnamed: 0  linreg_0    lstm_1     tcn_2  label\n",
       "0              0  1.415416  1.416899  1.155509      2\n",
       "1              1  1.411079  1.406109  1.231431      1\n",
       "2              2  1.419329  1.404692  1.114336      1\n",
       "3              3  1.433976  1.415452  1.147940      2\n",
       "4              4  1.422778  1.413148  1.328912      1\n",
       "...          ...       ...       ...       ...    ...\n",
       "2065        2065  1.195438  1.116277  1.085387      1\n",
       "2066        2066  1.201720  1.120028  1.138446      2\n",
       "2067        2067  1.202334  1.129956  1.153759      1\n",
       "2068        2068  1.206246  1.134536  1.143560      0\n",
       "2069        2069  1.202334  1.137246  1.153453      1\n",
       "\n",
       "[2070 rows x 5 columns]"
      ]
     },
     "execution_count": 43,
     "metadata": {},
     "output_type": "execute_result"
    }
   ],
   "source": [
    "train_data"
   ]
  },
  {
   "cell_type": "code",
   "execution_count": 44,
   "metadata": {},
   "outputs": [
    {
     "data": {
      "text/plain": [
       "'label'"
      ]
     },
     "execution_count": 44,
     "metadata": {},
     "output_type": "execute_result"
    }
   ],
   "source": [
    "train_data.columns[4]"
   ]
  },
  {
   "cell_type": "code",
   "execution_count": 45,
   "metadata": {},
   "outputs": [],
   "source": [
    "x_train = train_data[train_data.columns[1:4]].to_numpy()"
   ]
  },
  {
   "cell_type": "code",
   "execution_count": 46,
   "metadata": {},
   "outputs": [
    {
     "data": {
      "text/plain": [
       "array([[1.41541576, 1.4168985 , 1.1555091 ],\n",
       "       [1.41107941, 1.4061091 , 1.2314305 ],\n",
       "       [1.41932869, 1.4046925 , 1.1143359 ],\n",
       "       ...,\n",
       "       [1.20233412, 1.1299561 , 1.1537595 ],\n",
       "       [1.2062462 , 1.1345357 , 1.14356   ],\n",
       "       [1.20233363, 1.1372457 , 1.1534529 ]])"
      ]
     },
     "execution_count": 46,
     "metadata": {},
     "output_type": "execute_result"
    }
   ],
   "source": [
    "x_train"
   ]
  },
  {
   "cell_type": "code",
   "execution_count": 47,
   "metadata": {},
   "outputs": [],
   "source": [
    "y_train = train_data[train_data.columns[4]].to_numpy()"
   ]
  },
  {
   "cell_type": "code",
   "execution_count": 48,
   "metadata": {},
   "outputs": [
    {
     "data": {
      "text/plain": [
       "array([[0.981647  , 0.36637611, 0.14569776, 0.14285714, 0.47564914],\n",
       "       [0.88785604, 0.28644626, 0.15063355, 0.14285714, 0.36914824],\n",
       "       [0.90311048, 0.21378626, 0.13372386, 0.14285714, 0.43570668],\n",
       "       ...,\n",
       "       [0.16338935, 0.35569824, 0.40025716, 0.71428571, 0.57863884],\n",
       "       [0.24693124, 0.55321847, 0.43293462, 0.85714286, 0.71704691],\n",
       "       [0.25884877, 0.55783172, 0.471166  , 0.85714286, 0.71375575]])"
      ]
     },
     "execution_count": 48,
     "metadata": {},
     "output_type": "execute_result"
    }
   ],
   "source": [
    "x"
   ]
  },
  {
   "cell_type": "markdown",
   "metadata": {},
   "source": [
    "# Random search grid"
   ]
  },
  {
   "cell_type": "code",
   "execution_count": null,
   "metadata": {},
   "outputs": [],
   "source": []
  },
  {
   "cell_type": "code",
   "execution_count": 49,
   "metadata": {},
   "outputs": [],
   "source": [
    "x = np.concatenate((x_train, x_test))\n",
    "y = np.concatenate((y_train, y_test))"
   ]
  },
  {
   "cell_type": "code",
   "execution_count": null,
   "metadata": {},
   "outputs": [],
   "source": []
  },
  {
   "cell_type": "code",
   "execution_count": 50,
   "metadata": {},
   "outputs": [],
   "source": [
    "dataset = {\"x_train\": x_train, \n",
    "           \"y_train\": y_train,\n",
    "           \"x_test\": x_test,\n",
    "           \"y_test\": y_test,\n",
    "           \"features\": x,\n",
    "           \"labels\": y\n",
    "          }"
   ]
  },
  {
   "cell_type": "markdown",
   "metadata": {},
   "source": [
    "## Random forest"
   ]
  },
  {
   "cell_type": "code",
   "execution_count": 51,
   "metadata": {},
   "outputs": [],
   "source": [
    "grid_settings = {\n",
    "    \"cv\": 3, # number of folds\n",
    "    \"n_jobs\": -1, # processors to use during grid search\n",
    "    'grid_params': { # parameters for grid search (specific to each model)\n",
    "        'n_estimators': [10, 50, 100, 500], # int, default=100\n",
    "        'max_features': ['log2', 'sqrt'], # {“sqrt”, “log2”}, int or float, default=”auto”\n",
    "        'max_depth': [10,100, None], # int, default=None\n",
    "        'min_samples_split': [3, 10], # int or float, default=2\n",
    "        'min_samples_leaf': [2, 4], # int or float, default=1\n",
    "        'bootstrap': [True, False], # bool, default=True\n",
    "        \"class_weight\": [\"balanced\"], # {“balanced”, “balanced_subsample”}, dict or list of dicts, default=None\n",
    "        \"random_state\": [42]\n",
    "    }\n",
    "}"
   ]
  },
  {
   "cell_type": "code",
   "execution_count": 52,
   "metadata": {
    "scrolled": true
   },
   "outputs": [
    {
     "name": "stdout",
     "output_type": "stream",
     "text": [
      "Fitting 3 folds for each of 192 candidates, totalling 576 fits\n"
     ]
    },
    {
     "name": "stderr",
     "output_type": "stream",
     "text": [
      "[Parallel(n_jobs=-1)]: Using backend LokyBackend with 12 concurrent workers.\n",
      "[Parallel(n_jobs=-1)]: Done  17 tasks      | elapsed:    2.0s\n",
      "[Parallel(n_jobs=-1)]: Done 138 tasks      | elapsed:    8.7s\n",
      "[Parallel(n_jobs=-1)]: Done 341 tasks      | elapsed:   21.2s\n",
      "[Parallel(n_jobs=-1)]: Done 576 out of 576 | elapsed:   40.0s finished\n"
     ]
    }
   ],
   "source": [
    "rfc = RandomForestClassifier()\n",
    "rfc_model = grid_search_model(rfc, dataset, grid_settings)"
   ]
  },
  {
   "cell_type": "code",
   "execution_count": 53,
   "metadata": {},
   "outputs": [
    {
     "data": {
      "text/plain": [
       "RandomForestClassifier(class_weight='balanced', max_depth=100,\n",
       "                       max_features='log2', min_samples_leaf=2,\n",
       "                       min_samples_split=3, n_estimators=500, random_state=42)"
      ]
     },
     "execution_count": 53,
     "metadata": {},
     "output_type": "execute_result"
    }
   ],
   "source": [
    "rfc_model"
   ]
  },
  {
   "cell_type": "code",
   "execution_count": 96,
   "metadata": {
    "scrolled": false
   },
   "outputs": [
    {
     "name": "stdout",
     "output_type": "stream",
     "text": [
      "              precision    recall  f1-score   support\n",
      "\n",
      "           0       0.19      0.46      0.27       119\n",
      "           1       0.19      0.13      0.16       114\n",
      "           2       0.62      0.41      0.50       385\n",
      "\n",
      "    accuracy                           0.37       618\n",
      "   macro avg       0.34      0.33      0.31       618\n",
      "weighted avg       0.46      0.37      0.39       618\n",
      "\n",
      "0.4855959608723872\n"
     ]
    }
   ],
   "source": [
    "rfc_model.fit(x_train, y_train)\n",
    "class_repo, roc_auc = evaluate(rfc_model, x_test, y_test)\n",
    "print(class_repo)\n",
    "print(roc_auc)"
   ]
  },
  {
   "cell_type": "markdown",
   "metadata": {},
   "source": [
    "0 = buy\n",
    "1 = sell\n",
    "2 = hold"
   ]
  },
  {
   "cell_type": "markdown",
   "metadata": {},
   "source": [
    "## Logistical Regression"
   ]
  },
  {
   "cell_type": "code",
   "execution_count": 92,
   "metadata": {},
   "outputs": [],
   "source": [
    "grid_settings = {\n",
    "    \"cv\": 3, # number of folds\n",
    "    \"n_jobs\": -1, # processors to use during grid search\n",
    "    'grid_params': {\n",
    "        \"C\": [0.001, 0.1, 1, 10, 100],\n",
    "        \"penalty\": [\"l1\", \"l2\", \"elasticnet\", \"none\"],\n",
    "        \"solver\": [\"lbfgs\", \"sag\", \"newton-cg\"],\n",
    "        \"multi_class\": [\"auto\", \"multinomial\", \"ovo\", \"ovr\"], # \n",
    "        \"max_iter\": [100,1000],\n",
    "        \"random_state\": [0],\n",
    "        \"class_weight\": [\"balanced\"]\n",
    "    }\n",
    "}\n"
   ]
  },
  {
   "cell_type": "markdown",
   "metadata": {},
   "source": [
    "'grid_params': {\n",
    "        \"C\": [0.001, 0.1, 1, 10, 100, 1000],\n",
    "        \"penalty\": [\"l1\", \"l2\", \"elasticnet\", \"none\"],\n",
    "        \"solver\": [\"lbfgs\", \"sag\", \"newton-cg\"],\n",
    "        \"multi_class\": [\"auto\", \"multinomial\", \"ovo\", \"ovr\"], # \n",
    "        \"max_iter\": [100,1000, 10000],\n",
    "        \"random_state\": [0],\n",
    "        \"class_weight\": [\"balanced\"]\n",
    "    }"
   ]
  },
  {
   "cell_type": "code",
   "execution_count": 93,
   "metadata": {
    "scrolled": true
   },
   "outputs": [
    {
     "name": "stdout",
     "output_type": "stream",
     "text": [
      "Fitting 3 folds for each of 480 candidates, totalling 1440 fits\n"
     ]
    },
    {
     "name": "stderr",
     "output_type": "stream",
     "text": [
      "[Parallel(n_jobs=-1)]: Using backend LokyBackend with 12 concurrent workers.\n",
      "[Parallel(n_jobs=-1)]: Done  17 tasks      | elapsed:    0.0s\n",
      "[Parallel(n_jobs=-1)]: Done 900 tasks      | elapsed:    1.3s\n",
      "[Parallel(n_jobs=-1)]: Done 1440 out of 1440 | elapsed:    2.0s finished\n",
      "C:\\ProgramData\\Anaconda3\\lib\\site-packages\\sklearn\\linear_model\\_logistic.py:1320: UserWarning: Setting penalty='none' will ignore the C and l1_ratio parameters\n",
      "  warnings.warn(\n",
      "C:\\ProgramData\\Anaconda3\\lib\\site-packages\\sklearn\\linear_model\\_logistic.py:1320: UserWarning: Setting penalty='none' will ignore the C and l1_ratio parameters\n",
      "  warnings.warn(\n"
     ]
    }
   ],
   "source": [
    "logreg = LogisticRegression()\n",
    "logreg_model = grid_search_model(logreg, dataset, grid_settings)"
   ]
  },
  {
   "cell_type": "code",
   "execution_count": 94,
   "metadata": {},
   "outputs": [
    {
     "data": {
      "text/plain": [
       "LogisticRegression(C=0.001, class_weight='balanced', multi_class='ovr',\n",
       "                   penalty='none', random_state=0)"
      ]
     },
     "execution_count": 94,
     "metadata": {},
     "output_type": "execute_result"
    }
   ],
   "source": [
    "logreg_model"
   ]
  },
  {
   "cell_type": "code",
   "execution_count": 95,
   "metadata": {},
   "outputs": [
    {
     "name": "stdout",
     "output_type": "stream",
     "text": [
      "              precision    recall  f1-score   support\n",
      "\n",
      "           0       0.19      0.60      0.28       119\n",
      "           1       0.21      0.27      0.24       114\n",
      "           2       0.54      0.13      0.21       385\n",
      "\n",
      "    accuracy                           0.24       618\n",
      "   macro avg       0.31      0.33      0.24       618\n",
      "weighted avg       0.41      0.24      0.23       618\n",
      "\n",
      "0.47078378400802107\n"
     ]
    },
    {
     "name": "stderr",
     "output_type": "stream",
     "text": [
      "C:\\ProgramData\\Anaconda3\\lib\\site-packages\\sklearn\\linear_model\\_logistic.py:1320: UserWarning: Setting penalty='none' will ignore the C and l1_ratio parameters\n",
      "  warnings.warn(\n"
     ]
    }
   ],
   "source": [
    "logreg_model.fit(x_train, y_train)\n",
    "class_repo, roc_auc = evaluate(logreg_model, x_test, y_test)\n",
    "print(class_repo)\n",
    "print(roc_auc)"
   ]
  },
  {
   "cell_type": "markdown",
   "metadata": {},
   "source": [
    "## SVC"
   ]
  },
  {
   "cell_type": "code",
   "execution_count": 59,
   "metadata": {},
   "outputs": [],
   "source": [
    "grid_settings = {\n",
    "    \"cv\": 3, # number of folds\n",
    "    \"n_jobs\": -1, # processors to use during grid search\n",
    "    \"grid_params\":{\n",
    "        \"C\": [0.1, 1,10,100,1000],\n",
    "        \"kernel\": [\"linear\", \"rbf\", \"sigmoid\"]\n",
    "    }\n",
    "}"
   ]
  },
  {
   "cell_type": "code",
   "execution_count": 60,
   "metadata": {},
   "outputs": [
    {
     "name": "stdout",
     "output_type": "stream",
     "text": [
      "Fitting 3 folds for each of 15 candidates, totalling 45 fits\n"
     ]
    },
    {
     "name": "stderr",
     "output_type": "stream",
     "text": [
      "[Parallel(n_jobs=-1)]: Using backend LokyBackend with 12 concurrent workers.\n",
      "[Parallel(n_jobs=-1)]: Done  17 tasks      | elapsed:    0.6s\n",
      "[Parallel(n_jobs=-1)]: Done  45 out of  45 | elapsed:   28.5s remaining:    0.0s\n",
      "[Parallel(n_jobs=-1)]: Done  45 out of  45 | elapsed:   28.5s finished\n"
     ]
    }
   ],
   "source": [
    "svc = SVC(probability=True)\n",
    "svc_model = grid_search_model(svc, dataset, grid_settings)"
   ]
  },
  {
   "cell_type": "code",
   "execution_count": 61,
   "metadata": {},
   "outputs": [
    {
     "data": {
      "text/plain": [
       "SVC(C=0.1, kernel='linear', probability=True)"
      ]
     },
     "execution_count": 61,
     "metadata": {},
     "output_type": "execute_result"
    }
   ],
   "source": [
    "svc_model"
   ]
  },
  {
   "cell_type": "code",
   "execution_count": 62,
   "metadata": {
    "scrolled": false
   },
   "outputs": [
    {
     "name": "stdout",
     "output_type": "stream",
     "text": [
      "              precision    recall  f1-score   support\n",
      "\n",
      "           0       0.00      0.00      0.00       119\n",
      "           1       0.00      0.00      0.00       114\n",
      "           2       0.62      1.00      0.77       385\n",
      "\n",
      "    accuracy                           0.62       618\n",
      "   macro avg       0.21      0.33      0.26       618\n",
      "weighted avg       0.39      0.62      0.48       618\n",
      "\n",
      "0.43101984015296707\n"
     ]
    },
    {
     "name": "stderr",
     "output_type": "stream",
     "text": [
      "C:\\ProgramData\\Anaconda3\\lib\\site-packages\\sklearn\\metrics\\_classification.py:1221: UndefinedMetricWarning: Precision and F-score are ill-defined and being set to 0.0 in labels with no predicted samples. Use `zero_division` parameter to control this behavior.\n",
      "  _warn_prf(average, modifier, msg_start, len(result))\n"
     ]
    }
   ],
   "source": [
    "svc_model.fit(x_train, y_train)\n",
    "class_repo, roc_auc = evaluate(svc_model, x_test, y_test)\n",
    "print(class_repo)\n",
    "print(roc_auc)"
   ]
  },
  {
   "cell_type": "markdown",
   "metadata": {},
   "source": [
    "## GaussianNB"
   ]
  },
  {
   "cell_type": "code",
   "execution_count": 63,
   "metadata": {},
   "outputs": [],
   "source": [
    "from sklearn.naive_bayes import GaussianNB\n",
    "grid_settings = {\n",
    "    \"cv\": 3, # number of folds\n",
    "    \"n_jobs\": -1, # processors to use during grid search\n",
    "    \"grid_params\":{\n",
    "        \"var_smoothing\": [1e-9, 1e-10, 1e-5]\n",
    "    }\n",
    "}"
   ]
  },
  {
   "cell_type": "code",
   "execution_count": 64,
   "metadata": {},
   "outputs": [
    {
     "name": "stdout",
     "output_type": "stream",
     "text": [
      "Fitting 3 folds for each of 3 candidates, totalling 9 fits\n"
     ]
    },
    {
     "name": "stderr",
     "output_type": "stream",
     "text": [
      "[Parallel(n_jobs=-1)]: Using backend LokyBackend with 12 concurrent workers.\n",
      "[Parallel(n_jobs=-1)]: Done   6 out of   9 | elapsed:    0.0s remaining:    0.0s\n",
      "[Parallel(n_jobs=-1)]: Done   9 out of   9 | elapsed:    0.0s finished\n"
     ]
    }
   ],
   "source": [
    "gnb = GaussianNB()\n",
    "gnb_model = grid_search_model(gnb, dataset, grid_settings)"
   ]
  },
  {
   "cell_type": "code",
   "execution_count": 65,
   "metadata": {},
   "outputs": [
    {
     "data": {
      "text/plain": [
       "GaussianNB()"
      ]
     },
     "execution_count": 65,
     "metadata": {},
     "output_type": "execute_result"
    }
   ],
   "source": [
    "gnb_model"
   ]
  },
  {
   "cell_type": "code",
   "execution_count": 66,
   "metadata": {
    "scrolled": true
   },
   "outputs": [
    {
     "name": "stdout",
     "output_type": "stream",
     "text": [
      "              precision    recall  f1-score   support\n",
      "\n",
      "           0       0.00      0.00      0.00       119\n",
      "           1       0.00      0.00      0.00       114\n",
      "           2       0.62      1.00      0.77       385\n",
      "\n",
      "    accuracy                           0.62       618\n",
      "   macro avg       0.21      0.33      0.26       618\n",
      "weighted avg       0.39      0.62      0.48       618\n",
      "\n",
      "0.433910119071552\n"
     ]
    },
    {
     "name": "stderr",
     "output_type": "stream",
     "text": [
      "C:\\ProgramData\\Anaconda3\\lib\\site-packages\\sklearn\\metrics\\_classification.py:1221: UndefinedMetricWarning: Precision and F-score are ill-defined and being set to 0.0 in labels with no predicted samples. Use `zero_division` parameter to control this behavior.\n",
      "  _warn_prf(average, modifier, msg_start, len(result))\n"
     ]
    }
   ],
   "source": [
    "gnb_model.fit(x_train, y_train)\n",
    "class_repo, roc_auc = evaluate(gnb_model, x_test, y_test)\n",
    "print(class_repo)\n",
    "print(roc_auc)"
   ]
  },
  {
   "cell_type": "markdown",
   "metadata": {},
   "source": [
    "# Complemntary NB"
   ]
  },
  {
   "cell_type": "code",
   "execution_count": 67,
   "metadata": {},
   "outputs": [],
   "source": [
    "from sklearn.naive_bayes import ComplementNB\n",
    "grid_settings = {\n",
    "    \"cv\": 3, # number of folds\n",
    "    \"n_jobs\": -1, # processors to use during grid search\n",
    "    \"grid_params\":{\n",
    "\n",
    "        \"alpha\": [0.5, 1],\n",
    "        \"norm\": [True, False],\n",
    "        \n",
    "    }\n",
    "}"
   ]
  },
  {
   "cell_type": "code",
   "execution_count": 68,
   "metadata": {},
   "outputs": [
    {
     "name": "stdout",
     "output_type": "stream",
     "text": [
      "Fitting 3 folds for each of 4 candidates, totalling 12 fits\n"
     ]
    },
    {
     "name": "stderr",
     "output_type": "stream",
     "text": [
      "[Parallel(n_jobs=-1)]: Using backend LokyBackend with 12 concurrent workers.\n",
      "[Parallel(n_jobs=-1)]: Done   3 out of  12 | elapsed:    0.0s remaining:    0.0s\n",
      "[Parallel(n_jobs=-1)]: Done  10 out of  12 | elapsed:    0.0s remaining:    0.0s\n",
      "[Parallel(n_jobs=-1)]: Done  12 out of  12 | elapsed:    0.0s finished\n"
     ]
    }
   ],
   "source": [
    "cnb = ComplementNB()\n",
    "cnb_model = grid_search_model(cnb, dataset, grid_settings)"
   ]
  },
  {
   "cell_type": "code",
   "execution_count": 69,
   "metadata": {},
   "outputs": [
    {
     "data": {
      "text/plain": [
       "ComplementNB()"
      ]
     },
     "execution_count": 69,
     "metadata": {},
     "output_type": "execute_result"
    }
   ],
   "source": [
    "cnb"
   ]
  },
  {
   "cell_type": "code",
   "execution_count": 70,
   "metadata": {},
   "outputs": [
    {
     "name": "stdout",
     "output_type": "stream",
     "text": [
      "              precision    recall  f1-score   support\n",
      "\n",
      "           0       0.19      0.95      0.32       119\n",
      "           1       0.33      0.03      0.05       114\n",
      "           2       0.47      0.02      0.04       385\n",
      "\n",
      "    accuracy                           0.20       618\n",
      "   macro avg       0.33      0.33      0.14       618\n",
      "weighted avg       0.39      0.20      0.09       618\n",
      "\n",
      "0.4381860878322621\n"
     ]
    }
   ],
   "source": [
    "cnb_model.fit(x_train, y_train)\n",
    "class_repo, roc_auc = evaluate(cnb_model, x_test, y_test)\n",
    "print(class_repo)\n",
    "print(roc_auc)"
   ]
  },
  {
   "cell_type": "markdown",
   "metadata": {},
   "source": [
    "## 3-way confusion matrix\n",
    "\n",
    "| | pred buy | pred sell | pred hold |\n",
    "| --------- |:---------:|:---------:|----------:|        \n",
    "| true buy  | | | |\n",
    "| true sell | | | |\n",
    "| true hold | | | |"
   ]
  },
  {
   "cell_type": "markdown",
   "metadata": {},
   "source": [
    "| Tables        | Are           | Cool  |\n",
    "| ------------- |:-------------:| -----:|\n",
    "| col 3 is      | right-aligned | $1600 |\n",
    "| col 2 is      | centered      |   $12 |\n",
    "| zebra stripes | are neat      |    $1 |"
   ]
  },
  {
   "cell_type": "markdown",
   "metadata": {},
   "source": [
    "### Create random search"
   ]
  },
  {
   "cell_type": "code",
   "execution_count": 71,
   "metadata": {},
   "outputs": [
    {
     "ename": "NameError",
     "evalue": "name 'random_grid' is not defined",
     "output_type": "error",
     "traceback": [
      "\u001b[1;31m---------------------------------------------------------------------------\u001b[0m",
      "\u001b[1;31mNameError\u001b[0m                                 Traceback (most recent call last)",
      "\u001b[1;32m<ipython-input-71-a590ce5299ed>\u001b[0m in \u001b[0;36m<module>\u001b[1;34m\u001b[0m\n\u001b[0;32m      2\u001b[0m \u001b[1;33m\u001b[0m\u001b[0m\n\u001b[0;32m      3\u001b[0m rf_random = RandomizedSearchCV(estimator=rfc,\n\u001b[1;32m----> 4\u001b[1;33m                               \u001b[0mparam_distributions\u001b[0m\u001b[1;33m=\u001b[0m\u001b[0mrandom_grid\u001b[0m\u001b[1;33m,\u001b[0m\u001b[1;33m\u001b[0m\u001b[1;33m\u001b[0m\u001b[0m\n\u001b[0m\u001b[0;32m      5\u001b[0m                               \u001b[0mn_iter\u001b[0m\u001b[1;33m=\u001b[0m\u001b[1;36m100\u001b[0m\u001b[1;33m,\u001b[0m\u001b[1;33m\u001b[0m\u001b[1;33m\u001b[0m\u001b[0m\n\u001b[0;32m      6\u001b[0m                               \u001b[0mcv\u001b[0m \u001b[1;33m=\u001b[0m \u001b[1;36m3\u001b[0m\u001b[1;33m,\u001b[0m\u001b[1;33m\u001b[0m\u001b[1;33m\u001b[0m\u001b[0m\n",
      "\u001b[1;31mNameError\u001b[0m: name 'random_grid' is not defined"
     ]
    }
   ],
   "source": [
    "\n",
    "rfc = RandomForestClassifier()\n",
    "\n",
    "rf_random = RandomizedSearchCV(estimator=rfc,\n",
    "                              param_distributions=random_grid,\n",
    "                              n_iter=100,\n",
    "                              cv = 3,\n",
    "                              verbose=2,\n",
    "                              random_state=42,\n",
    "                              n_jobs=-1)\n",
    "\n",
    "rf_random.fit(x_train_2, y_train_2)"
   ]
  },
  {
   "cell_type": "code",
   "execution_count": null,
   "metadata": {},
   "outputs": [],
   "source": []
  },
  {
   "cell_type": "code",
   "execution_count": null,
   "metadata": {},
   "outputs": [],
   "source": []
  },
  {
   "cell_type": "code",
   "execution_count": null,
   "metadata": {},
   "outputs": [],
   "source": [
    "base_model = RandomForestClassifier(random_state=4)\n",
    "base_model.fit(x_train_2, y_train_2)\n",
    "base_accuracy = evaluate(base_model, x_test_2, y_test_2)\n",
    "print(\"==========================\")\n",
    "best_random = rf_random.best_estimator_\n",
    "random_accuracy = evaluate(best_random, x_test_2, y_test_2)"
   ]
  },
  {
   "cell_type": "code",
   "execution_count": null,
   "metadata": {},
   "outputs": [],
   "source": [
    "base_model.n_estimators"
   ]
  },
  {
   "cell_type": "code",
   "execution_count": null,
   "metadata": {
    "scrolled": true
   },
   "outputs": [],
   "source": [
    "rf_random.best_params_"
   ]
  },
  {
   "cell_type": "markdown",
   "metadata": {},
   "source": [
    "#### Create gridsearch params from best values in random search"
   ]
  },
  {
   "cell_type": "code",
   "execution_count": null,
   "metadata": {},
   "outputs": [],
   "source": [
    "param_grid = {\n",
    "    'bootstrap': [True],\n",
    "    'max_depth': [80, 100, 110],\n",
    "    'max_features': [2, 3, 'sqrt'],\n",
    "    'min_samples_leaf': [3, 4, 5],\n",
    "    'min_samples_split': [2,3,4],\n",
    "    'n_estimators': [1400, 1600, 2500]\n",
    "}"
   ]
  },
  {
   "cell_type": "code",
   "execution_count": null,
   "metadata": {},
   "outputs": [],
   "source": [
    "#n = np.linspace(0.8 * rf_random.best_params_[\"n_estimators\"], 1.2 * rf_random.best_params_[\"n_estimators\"], num=5)\n",
    "#ms = np.linspace(0.7 * rf_random.best_params_[\"min_samples_split\"], 1.3 * rf_random.best_params_[\"min_samples_split\"], num=3)\n",
    "#ml = np.linspace(0.8 * rf_random.best_params_[\"min_samples_leaf\"], 1.2 * rf_random.best_params_[\"min_samples_leaf\"], num=4)\n",
    "#*md = np.linspace(0.8 * rf_random.best_params_[\"max_depth\"], 1.2 * rf_random.best_params_[\"max_depth\"], num=4)"
   ]
  },
  {
   "cell_type": "code",
   "execution_count": null,
   "metadata": {},
   "outputs": [],
   "source": [
    "# Create the parameter grid based on the results of random search \n",
    "# Create a based model\n",
    "\n",
    "rf = RandomForestClassifier()# Instantiate the grid search model\n",
    "grid_search = GridSearchCV(estimator = rf, param_grid = param_grid, \n",
    "                          cv = 3, n_jobs = -1, verbose = 2)\n",
    "grid_search.fit(x_train_2, y_train_2)"
   ]
  },
  {
   "cell_type": "code",
   "execution_count": null,
   "metadata": {},
   "outputs": [],
   "source": [
    "grid_search.fit(x_train_2, y_train_2)\n",
    "\n",
    "grid_search.best_params_"
   ]
  },
  {
   "cell_type": "code",
   "execution_count": null,
   "metadata": {},
   "outputs": [],
   "source": [
    "best_grid = grid_search.best_estimator_\n",
    "grid_accuracy = evaluate(best_grid, x_test_2, y_test_2)"
   ]
  },
  {
   "cell_type": "code",
   "execution_count": null,
   "metadata": {},
   "outputs": [],
   "source": [
    "best_grid_model = best_grid"
   ]
  },
  {
   "cell_type": "code",
   "execution_count": null,
   "metadata": {},
   "outputs": [],
   "source": [
    "best_grid_model.fit(x_train_2, y_train_2)\n",
    "model_output = evaluate(best_grid_model, x_test_2, y_test_2)"
   ]
  },
  {
   "cell_type": "code",
   "execution_count": null,
   "metadata": {},
   "outputs": [],
   "source": [
    "model_output"
   ]
  },
  {
   "cell_type": "code",
   "execution_count": null,
   "metadata": {},
   "outputs": [],
   "source": [
    "bootstrap = grid_search.best_params_[\"bootstrap\"]\n",
    "max_depth = grid_search.best_params_[\"max_depth\"]\n",
    "max_features = grid_search.best_params_[\"max_features\"]\n",
    "min_samples_leaf = grid_search.best_params_[\"min_samples_leaf\"]\n",
    "min_samples_split = grid_search.best_params_[\"min_samples_split\"]\n",
    "n_estimators = grid_search.best_params_[\"n_estimators\"]"
   ]
  },
  {
   "cell_type": "code",
   "execution_count": null,
   "metadata": {},
   "outputs": [],
   "source": [
    "rfc = RandomForestClassifier(bootstrap=bootstrap, \n",
    "                             max_depth=max_depth, \n",
    "                             max_features=max_features, \n",
    "                             min_samples_leaf=min_samples_leaf,\n",
    "                            min_samples_split=min_samples_split,\n",
    "                            n_estimators=n_estimators)\n",
    "rfc.fit(x_train_2, y_train_2)\n",
    "model_output = evaluate(rfc, x_test_2, y_test_2)"
   ]
  },
  {
   "cell_type": "code",
   "execution_count": null,
   "metadata": {},
   "outputs": [],
   "source": [
    "model_output[3]"
   ]
  },
  {
   "cell_type": "code",
   "execution_count": null,
   "metadata": {},
   "outputs": [],
   "source": []
  },
  {
   "cell_type": "code",
   "execution_count": null,
   "metadata": {},
   "outputs": [],
   "source": [
    "{'bootstrap': True,\n",
    " 'max_depth': 70,\n",
    " 'max_features': 'auto',\n",
    " 'min_samples_leaf': 4,\n",
    " 'min_samples_split': 10,\n",
    " 'n_estimators': 400}"
   ]
  },
  {
   "cell_type": "markdown",
   "metadata": {},
   "source": [
    "## random forest"
   ]
  },
  {
   "cell_type": "code",
   "execution_count": null,
   "metadata": {},
   "outputs": [],
   "source": [
    "y_train"
   ]
  },
  {
   "cell_type": "code",
   "execution_count": null,
   "metadata": {
    "scrolled": true
   },
   "outputs": [],
   "source": [
    "\n",
    "\n",
    "clf = RandomForestClassifier(max_depth=5, \n",
    "                             random_state=0, \n",
    "                             n_estimators=100,\n",
    "                             class_weight=\"balanced\"\n",
    "                             #class_weight=\"[{0: 1, 1: 1}, {0: 1, 1: 1}, {0: 1, 1: 0}]\"\n",
    "                            )\n",
    "clf.fit(x_train_2,y_train_2)\n",
    "predict = clf.predict(x_test_2)"
   ]
  },
  {
   "cell_type": "code",
   "execution_count": null,
   "metadata": {
    "scrolled": true
   },
   "outputs": [],
   "source": [
    "predict"
   ]
  },
  {
   "cell_type": "code",
   "execution_count": null,
   "metadata": {},
   "outputs": [],
   "source": [
    "def svc(x_train, y_train, x_test, y_test):\n",
    "    tuned_parameters = [{'kernel': ['rbf'], 'gamma': [1e-3, 1e-4, 0.06, 'scale'],\n",
    "                     'C': [1, 10, 15, 100, 1000]},\n",
    "                    {'kernel': ['linear'], 'C': [1, 10, 100, 1000, 10000]}]\n",
    "    scores = ['precision', 'recall']\n",
    "    \n",
    "    for score in scores:\n",
    "        print(\"# Tuning hyper-parameters for %s\" % score)\n",
    "        print()\n",
    "\n",
    "        clf = GridSearchCV(\n",
    "            SVC(max_iter=10000, random_state=5, class_weight=\"balanced\", decision_function_shape='ovo'), \n",
    "            tuned_parameters, \n",
    "            scoring='%s_macro' % score,\n",
    "            cv = 5\n",
    "        )\n",
    "        clf.fit(x_train, y_train)\n",
    "\n",
    "        print(\"Best parameters set found on development set:\")\n",
    "        print()\n",
    "        print(clf.best_params_)\n",
    "        print()\n",
    "        print(\"Grid scores on development set:\")\n",
    "        print()\n",
    "        means = clf.cv_results_['mean_test_score']\n",
    "        stds = clf.cv_results_['std_test_score']\n",
    "        for mean, std, params in zip(means, stds, clf.cv_results_['params']):\n",
    "            print(\"%0.3f (+/-%0.03f) for %r\"\n",
    "                  % (mean, std * 2, params))\n",
    "        print()\n",
    "\n",
    "        print(\"Detailed classification report:\")\n",
    "        print()\n",
    "        print(\"The model is trained on the full development set.\")\n",
    "        print(\"The scores are computed on the full evaluation set.\")\n",
    "        print()\n",
    "        y_true, y_pred = y_test, clf.predict(x_test)\n",
    "        print(classification_report(y_true, y_pred))\n",
    "        print(y_pred)\n",
    "        return y_true, y_pred"
   ]
  },
  {
   "cell_type": "code",
   "execution_count": null,
   "metadata": {
    "scrolled": true
   },
   "outputs": [],
   "source": [
    "y_true, y_pred = svc(x_train, y_train_2, x_test, y_test_2)"
   ]
  },
  {
   "cell_type": "code",
   "execution_count": null,
   "metadata": {},
   "outputs": [],
   "source": [
    "#data_eurusd = pd.read_csv(\"../EURUSD1m.csv\")\n",
    "data_mock = pd.read_csv(\"../MockData.csv\")"
   ]
  },
  {
   "cell_type": "code",
   "execution_count": null,
   "metadata": {},
   "outputs": [],
   "source": [
    "data_eurusd.head()"
   ]
  },
  {
   "cell_type": "code",
   "execution_count": null,
   "metadata": {},
   "outputs": [],
   "source": [
    "data_lstm = features.split(dataset, 'lstm', settings['ensemble']['models'][1]['lstm'])"
   ]
  },
  {
   "cell_type": "code",
   "execution_count": null,
   "metadata": {},
   "outputs": [],
   "source": []
  },
  {
   "cell_type": "code",
   "execution_count": null,
   "metadata": {},
   "outputs": [],
   "source": [
    "os.chdir(\"..\")\n",
    "import Models"
   ]
  }
 ],
 "metadata": {
  "kernelspec": {
   "display_name": "Python 3",
   "language": "python",
   "name": "python3"
  },
  "language_info": {
   "codemirror_mode": {
    "name": "ipython",
    "version": 3
   },
   "file_extension": ".py",
   "mimetype": "text/x-python",
   "name": "python",
   "nbconvert_exporter": "python",
   "pygments_lexer": "ipython3",
   "version": "3.8.3"
  }
 },
 "nbformat": 4,
 "nbformat_minor": 2
}
