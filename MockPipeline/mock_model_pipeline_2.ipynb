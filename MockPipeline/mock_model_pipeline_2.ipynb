{
 "cells": [
  {
   "cell_type": "code",
   "execution_count": 1,
   "metadata": {
    "scrolled": false
   },
   "outputs": [],
   "source": [
    "#!pip install ipynb --upgrade"
   ]
  },
  {
   "cell_type": "code",
   "execution_count": 2,
   "metadata": {},
   "outputs": [],
   "source": [
    "#!pip install --upgrade pip"
   ]
  },
  {
   "cell_type": "code",
   "execution_count": 3,
   "metadata": {
    "scrolled": true
   },
   "outputs": [],
   "source": [
    "#!pip install keras-tcn\n",
    "#!pip install tensorflow\n",
    "#!pip install ipynb\n",
    "#!pip install plotly"
   ]
  },
  {
   "cell_type": "code",
   "execution_count": 4,
   "metadata": {},
   "outputs": [],
   "source": [
    "import pickle\n",
    "import time\n",
    "import os\n",
    "import yaml\n",
    "import sys\n",
    "import pandas as pd\n",
    "\n",
    "sys.path.append('C:/Users/Alex-/Desktop/Beslutsstödssystem/models-decision-system')\n",
    "os.chdir(\"..\")\n",
    "import Decision\n",
    "import Models\n",
    "\n",
    "os.chdir(\"MockPipeline\")\n",
    "\n",
    "os.chdir(\"../../pipeline\")\n",
    "import ipynb.fs.full.processing as processing\n",
    "import ipynb.fs.full.features as features\n",
    "import ipynb.fs.full.training as training\n",
    "import ipynb.fs.full.analysis as analysis\n",
    "import ipynb.fs.full.storage as storage\n",
    "import ipynb.fs.full.visualize as visualize\n",
    "os.chdir(\"../models-decision-system/MockPipeline\")"
   ]
  },
  {
   "cell_type": "code",
   "execution_count": 5,
   "metadata": {},
   "outputs": [],
   "source": [
    "import os"
   ]
  },
  {
   "cell_type": "code",
   "execution_count": 6,
   "metadata": {},
   "outputs": [],
   "source": [
    "def load_yaml(path):\n",
    "    with open(path, mode='r') as file:\n",
    "        return yaml.load(file, Loader=yaml.FullLoader)"
   ]
  },
  {
   "cell_type": "code",
   "execution_count": 7,
   "metadata": {},
   "outputs": [],
   "source": [
    "settings = load_yaml('mock_settings.yaml')"
   ]
  },
  {
   "cell_type": "code",
   "execution_count": 8,
   "metadata": {},
   "outputs": [
    {
     "data": {
      "text/plain": [
       "{'linreg': {'split': {'train': 0.8, 'test': 0.2}}}"
      ]
     },
     "execution_count": 8,
     "metadata": {},
     "output_type": "execute_result"
    }
   ],
   "source": [
    "settings['ensemble']['models'][0]"
   ]
  },
  {
   "cell_type": "code",
   "execution_count": 9,
   "metadata": {},
   "outputs": [],
   "source": [
    "dataframe = processing.create_dataframe(settings)"
   ]
  },
  {
   "cell_type": "code",
   "execution_count": 10,
   "metadata": {},
   "outputs": [],
   "source": [
    "dataset = features.add(dataframe, settings['features'])"
   ]
  },
  {
   "cell_type": "code",
   "execution_count": 11,
   "metadata": {
    "scrolled": true
   },
   "outputs": [
    {
     "data": {
      "text/html": [
       "<div>\n",
       "<style scoped>\n",
       "    .dataframe tbody tr th:only-of-type {\n",
       "        vertical-align: middle;\n",
       "    }\n",
       "\n",
       "    .dataframe tbody tr th {\n",
       "        vertical-align: top;\n",
       "    }\n",
       "\n",
       "    .dataframe thead th {\n",
       "        text-align: right;\n",
       "    }\n",
       "</style>\n",
       "<table border=\"1\" class=\"dataframe\">\n",
       "  <thead>\n",
       "    <tr style=\"text-align: right;\">\n",
       "      <th></th>\n",
       "      <th>Close</th>\n",
       "      <th>Momentum</th>\n",
       "      <th>SD</th>\n",
       "      <th>Label</th>\n",
       "    </tr>\n",
       "    <tr>\n",
       "      <th>Date_Timestamp</th>\n",
       "      <th></th>\n",
       "      <th></th>\n",
       "      <th></th>\n",
       "      <th></th>\n",
       "    </tr>\n",
       "  </thead>\n",
       "  <tbody>\n",
       "    <tr>\n",
       "      <th>2010-02-01</th>\n",
       "      <td>1.39200</td>\n",
       "      <td>-0.04649</td>\n",
       "      <td>14.842308</td>\n",
       "      <td>1.39737</td>\n",
       "    </tr>\n",
       "    <tr>\n",
       "      <th>2010-02-02</th>\n",
       "      <td>1.39737</td>\n",
       "      <td>-0.03928</td>\n",
       "      <td>13.972612</td>\n",
       "      <td>1.38969</td>\n",
       "    </tr>\n",
       "    <tr>\n",
       "      <th>2010-02-03</th>\n",
       "      <td>1.38969</td>\n",
       "      <td>-0.05070</td>\n",
       "      <td>11.302307</td>\n",
       "      <td>1.37395</td>\n",
       "    </tr>\n",
       "    <tr>\n",
       "      <th>2010-02-04</th>\n",
       "      <td>1.37395</td>\n",
       "      <td>-0.05393</td>\n",
       "      <td>11.014429</td>\n",
       "      <td>1.36763</td>\n",
       "    </tr>\n",
       "    <tr>\n",
       "      <th>2010-02-05</th>\n",
       "      <td>1.36763</td>\n",
       "      <td>-0.04356</td>\n",
       "      <td>11.636518</td>\n",
       "      <td>1.36409</td>\n",
       "    </tr>\n",
       "    <tr>\n",
       "      <th>...</th>\n",
       "      <td>...</td>\n",
       "      <td>...</td>\n",
       "      <td>...</td>\n",
       "      <td>...</td>\n",
       "    </tr>\n",
       "    <tr>\n",
       "      <th>2019-12-25</th>\n",
       "      <td>1.10944</td>\n",
       "      <td>0.00301</td>\n",
       "      <td>54.215370</td>\n",
       "      <td>1.11012</td>\n",
       "    </tr>\n",
       "    <tr>\n",
       "      <th>2019-12-26</th>\n",
       "      <td>1.11012</td>\n",
       "      <td>0.00089</td>\n",
       "      <td>50.207241</td>\n",
       "      <td>1.11713</td>\n",
       "    </tr>\n",
       "    <tr>\n",
       "      <th>2019-12-27</th>\n",
       "      <td>1.11713</td>\n",
       "      <td>0.00388</td>\n",
       "      <td>49.232845</td>\n",
       "      <td>1.11813</td>\n",
       "    </tr>\n",
       "    <tr>\n",
       "      <th>2019-12-29</th>\n",
       "      <td>1.11813</td>\n",
       "      <td>-0.00020</td>\n",
       "      <td>49.353172</td>\n",
       "      <td>1.12013</td>\n",
       "    </tr>\n",
       "    <tr>\n",
       "      <th>2019-12-30</th>\n",
       "      <td>1.12013</td>\n",
       "      <td>0.00839</td>\n",
       "      <td>51.141382</td>\n",
       "      <td>1.12277</td>\n",
       "    </tr>\n",
       "  </tbody>\n",
       "</table>\n",
       "<p>3101 rows × 4 columns</p>\n",
       "</div>"
      ],
      "text/plain": [
       "                  Close  Momentum         SD    Label\n",
       "Date_Timestamp                                       \n",
       "2010-02-01      1.39200  -0.04649  14.842308  1.39737\n",
       "2010-02-02      1.39737  -0.03928  13.972612  1.38969\n",
       "2010-02-03      1.38969  -0.05070  11.302307  1.37395\n",
       "2010-02-04      1.37395  -0.05393  11.014429  1.36763\n",
       "2010-02-05      1.36763  -0.04356  11.636518  1.36409\n",
       "...                 ...       ...        ...      ...\n",
       "2019-12-25      1.10944   0.00301  54.215370  1.11012\n",
       "2019-12-26      1.11012   0.00089  50.207241  1.11713\n",
       "2019-12-27      1.11713   0.00388  49.232845  1.11813\n",
       "2019-12-29      1.11813  -0.00020  49.353172  1.12013\n",
       "2019-12-30      1.12013   0.00839  51.141382  1.12277\n",
       "\n",
       "[3101 rows x 4 columns]"
      ]
     },
     "execution_count": 11,
     "metadata": {},
     "output_type": "execute_result"
    }
   ],
   "source": [
    "dataset"
   ]
  },
  {
   "cell_type": "code",
   "execution_count": 12,
   "metadata": {},
   "outputs": [],
   "source": [
    "data_linreg = features.split(dataset, 'linreg', settings['ensemble']['models'][0]['linreg'])"
   ]
  },
  {
   "cell_type": "code",
   "execution_count": 13,
   "metadata": {},
   "outputs": [],
   "source": [
    "linreg = Models.train_model(data_linreg, 'linreg', settings['ensemble']['models'][0])"
   ]
  },
  {
   "cell_type": "code",
   "execution_count": 14,
   "metadata": {},
   "outputs": [],
   "source": [
    "data_lstm = features.split(dataset, 'lstm', settings['ensemble']['models'][1]['lstm'])"
   ]
  },
  {
   "cell_type": "code",
   "execution_count": 15,
   "metadata": {},
   "outputs": [
    {
     "data": {
      "text/plain": [
       "[{'lstm': {'value': 120, 'activation': 'relu'}},\n",
       " {'dropout': {'value': 0.15}},\n",
       " {'dense': {'value': 50, 'activation': 'relu'}},\n",
       " {'dense': {'value': 1}}]"
      ]
     },
     "execution_count": 15,
     "metadata": {},
     "output_type": "execute_result"
    }
   ],
   "source": [
    "settings['ensemble']['models'][1]['lstm']['layers']"
   ]
  },
  {
   "cell_type": "code",
   "execution_count": 16,
   "metadata": {
    "scrolled": true
   },
   "outputs": [
    {
     "name": "stdout",
     "output_type": "stream",
     "text": [
      "Epoch 1/7\n",
      "233/233 [==============================] - 1s 4ms/step - loss: 0.0284 - val_loss: 8.6914e-04\n",
      "Epoch 2/7\n",
      "233/233 [==============================] - 1s 3ms/step - loss: 0.0057 - val_loss: 0.0023\n",
      "Epoch 3/7\n",
      "233/233 [==============================] - 1s 3ms/step - loss: 0.0046 - val_loss: 8.7527e-04\n",
      "Epoch 4/7\n",
      "233/233 [==============================] - 1s 3ms/step - loss: 0.0033 - val_loss: 0.0015\n",
      "Epoch 5/7\n",
      "233/233 [==============================] - 1s 3ms/step - loss: 0.0030 - val_loss: 0.0011\n",
      "Epoch 6/7\n",
      "233/233 [==============================] - 1s 3ms/step - loss: 0.0024 - val_loss: 0.0018\n",
      "Epoch 7/7\n",
      "233/233 [==============================] - 1s 3ms/step - loss: 0.0022 - val_loss: 8.2397e-04\n"
     ]
    }
   ],
   "source": [
    "lstm = Models.train_model(data_lstm, 'lstm', settings['ensemble']['models'][1]['lstm'])"
   ]
  },
  {
   "cell_type": "code",
   "execution_count": 17,
   "metadata": {},
   "outputs": [],
   "source": [
    "from sklearn.svm import LinearSVC\n",
    "from sklearn.pipeline import make_pipeline\n",
    "from sklearn.model_selection import TimeSeriesSplit\n",
    "import numpy as np\n",
    "from sklearn import preprocessing\n",
    "from sklearn import utils"
   ]
  },
  {
   "cell_type": "code",
   "execution_count": 18,
   "metadata": {},
   "outputs": [],
   "source": [
    "df = pd.read_csv(\"../MockData.csv\")\n",
    "df_dec = pd.read_csv(\"../decision.csv\")"
   ]
  },
  {
   "cell_type": "code",
   "execution_count": 19,
   "metadata": {},
   "outputs": [],
   "source": [
    "df_dec = df_dec.set_index(\"DateTime\")\n",
    "df = df.set_index(\"DateTime\")"
   ]
  },
  {
   "cell_type": "code",
   "execution_count": 20,
   "metadata": {},
   "outputs": [],
   "source": [
    "from sklearn.svm import SVC, LinearSVC\n",
    "from sklearn.model_selection import train_test_split"
   ]
  },
  {
   "cell_type": "code",
   "execution_count": 21,
   "metadata": {
    "scrolled": true
   },
   "outputs": [
    {
     "data": {
      "text/html": [
       "<div>\n",
       "<style scoped>\n",
       "    .dataframe tbody tr th:only-of-type {\n",
       "        vertical-align: middle;\n",
       "    }\n",
       "\n",
       "    .dataframe tbody tr th {\n",
       "        vertical-align: top;\n",
       "    }\n",
       "\n",
       "    .dataframe thead th {\n",
       "        text-align: right;\n",
       "    }\n",
       "</style>\n",
       "<table border=\"1\" class=\"dataframe\">\n",
       "  <thead>\n",
       "    <tr style=\"text-align: right;\">\n",
       "      <th></th>\n",
       "      <th>Close</th>\n",
       "      <th>RoC</th>\n",
       "      <th>S%D</th>\n",
       "      <th>PSY12</th>\n",
       "      <th>ASY5</th>\n",
       "    </tr>\n",
       "    <tr>\n",
       "      <th>DateTime</th>\n",
       "      <th></th>\n",
       "      <th></th>\n",
       "      <th></th>\n",
       "      <th></th>\n",
       "      <th></th>\n",
       "    </tr>\n",
       "  </thead>\n",
       "  <tbody>\n",
       "    <tr>\n",
       "      <th>2010-01-27</th>\n",
       "      <td>0.817467</td>\n",
       "      <td>0.279074</td>\n",
       "      <td>0.239967</td>\n",
       "      <td>0.272727</td>\n",
       "      <td>0.452398</td>\n",
       "    </tr>\n",
       "    <tr>\n",
       "      <th>2010-01-28</th>\n",
       "      <td>0.802634</td>\n",
       "      <td>0.256945</td>\n",
       "      <td>0.173515</td>\n",
       "      <td>0.272727</td>\n",
       "      <td>0.376690</td>\n",
       "    </tr>\n",
       "    <tr>\n",
       "      <th>2010-01-29</th>\n",
       "      <td>0.779823</td>\n",
       "      <td>0.260848</td>\n",
       "      <td>0.136936</td>\n",
       "      <td>0.272727</td>\n",
       "      <td>0.291014</td>\n",
       "    </tr>\n",
       "    <tr>\n",
       "      <th>2010-01-31</th>\n",
       "      <td>0.782677</td>\n",
       "      <td>0.276472</td>\n",
       "      <td>0.108876</td>\n",
       "      <td>0.363636</td>\n",
       "      <td>0.304610</td>\n",
       "    </tr>\n",
       "    <tr>\n",
       "      <th>2010-02-01</th>\n",
       "      <td>0.793195</td>\n",
       "      <td>0.281944</td>\n",
       "      <td>0.078999</td>\n",
       "      <td>0.363636</td>\n",
       "      <td>0.385942</td>\n",
       "    </tr>\n",
       "    <tr>\n",
       "      <th>...</th>\n",
       "      <td>...</td>\n",
       "      <td>...</td>\n",
       "      <td>...</td>\n",
       "      <td>...</td>\n",
       "      <td>...</td>\n",
       "    </tr>\n",
       "    <tr>\n",
       "      <th>2019-12-26</th>\n",
       "      <td>0.159700</td>\n",
       "      <td>0.475611</td>\n",
       "      <td>0.395299</td>\n",
       "      <td>0.727273</td>\n",
       "      <td>0.525453</td>\n",
       "    </tr>\n",
       "    <tr>\n",
       "      <th>2019-12-27</th>\n",
       "      <td>0.175454</td>\n",
       "      <td>0.565530</td>\n",
       "      <td>0.421044</td>\n",
       "      <td>0.818182</td>\n",
       "      <td>0.586624</td>\n",
       "    </tr>\n",
       "    <tr>\n",
       "      <th>2019-12-29</th>\n",
       "      <td>0.177701</td>\n",
       "      <td>0.567630</td>\n",
       "      <td>0.451166</td>\n",
       "      <td>0.818182</td>\n",
       "      <td>0.585169</td>\n",
       "    </tr>\n",
       "    <tr>\n",
       "      <th>2019-12-30</th>\n",
       "      <td>0.182196</td>\n",
       "      <td>0.573355</td>\n",
       "      <td>0.476617</td>\n",
       "      <td>0.818182</td>\n",
       "      <td>0.607446</td>\n",
       "    </tr>\n",
       "    <tr>\n",
       "      <th>2019-12-31</th>\n",
       "      <td>0.188129</td>\n",
       "      <td>0.580239</td>\n",
       "      <td>0.504131</td>\n",
       "      <td>0.818182</td>\n",
       "      <td>0.624929</td>\n",
       "    </tr>\n",
       "  </tbody>\n",
       "</table>\n",
       "<p>3106 rows × 5 columns</p>\n",
       "</div>"
      ],
      "text/plain": [
       "               Close       RoC       S%D     PSY12      ASY5\n",
       "DateTime                                                    \n",
       "2010-01-27  0.817467  0.279074  0.239967  0.272727  0.452398\n",
       "2010-01-28  0.802634  0.256945  0.173515  0.272727  0.376690\n",
       "2010-01-29  0.779823  0.260848  0.136936  0.272727  0.291014\n",
       "2010-01-31  0.782677  0.276472  0.108876  0.363636  0.304610\n",
       "2010-02-01  0.793195  0.281944  0.078999  0.363636  0.385942\n",
       "...              ...       ...       ...       ...       ...\n",
       "2019-12-26  0.159700  0.475611  0.395299  0.727273  0.525453\n",
       "2019-12-27  0.175454  0.565530  0.421044  0.818182  0.586624\n",
       "2019-12-29  0.177701  0.567630  0.451166  0.818182  0.585169\n",
       "2019-12-30  0.182196  0.573355  0.476617  0.818182  0.607446\n",
       "2019-12-31  0.188129  0.580239  0.504131  0.818182  0.624929\n",
       "\n",
       "[3106 rows x 5 columns]"
      ]
     },
     "execution_count": 21,
     "metadata": {},
     "output_type": "execute_result"
    }
   ],
   "source": [
    "df"
   ]
  },
  {
   "cell_type": "code",
   "execution_count": 22,
   "metadata": {
    "scrolled": true
   },
   "outputs": [
    {
     "data": {
      "text/html": [
       "<div>\n",
       "<style scoped>\n",
       "    .dataframe tbody tr th:only-of-type {\n",
       "        vertical-align: middle;\n",
       "    }\n",
       "\n",
       "    .dataframe tbody tr th {\n",
       "        vertical-align: top;\n",
       "    }\n",
       "\n",
       "    .dataframe thead th {\n",
       "        text-align: right;\n",
       "    }\n",
       "</style>\n",
       "<table border=\"1\" class=\"dataframe\">\n",
       "  <thead>\n",
       "    <tr style=\"text-align: right;\">\n",
       "      <th></th>\n",
       "      <th>Forecast</th>\n",
       "      <th>Actual</th>\n",
       "      <th>f_momentum</th>\n",
       "      <th>a_momentum</th>\n",
       "      <th>Invest next day</th>\n",
       "    </tr>\n",
       "    <tr>\n",
       "      <th>DateTime</th>\n",
       "      <th></th>\n",
       "      <th></th>\n",
       "      <th></th>\n",
       "      <th></th>\n",
       "      <th></th>\n",
       "    </tr>\n",
       "  </thead>\n",
       "  <tbody>\n",
       "    <tr>\n",
       "      <th>2018-05-22</th>\n",
       "      <td>0.330828</td>\n",
       "      <td>0.296319</td>\n",
       "      <td>NaN</td>\n",
       "      <td>NaN</td>\n",
       "      <td>Hold</td>\n",
       "    </tr>\n",
       "    <tr>\n",
       "      <th>2018-05-23</th>\n",
       "      <td>0.333239</td>\n",
       "      <td>0.299195</td>\n",
       "      <td>NaN</td>\n",
       "      <td>NaN</td>\n",
       "      <td>Hold</td>\n",
       "    </tr>\n",
       "    <tr>\n",
       "      <th>2018-05-24</th>\n",
       "      <td>0.328026</td>\n",
       "      <td>0.282542</td>\n",
       "      <td>-0.002801</td>\n",
       "      <td>-0.013777</td>\n",
       "      <td>Sell</td>\n",
       "    </tr>\n",
       "    <tr>\n",
       "      <th>2018-05-25</th>\n",
       "      <td>0.322993</td>\n",
       "      <td>0.291667</td>\n",
       "      <td>-0.010246</td>\n",
       "      <td>-0.007529</td>\n",
       "      <td>Hold</td>\n",
       "    </tr>\n",
       "    <tr>\n",
       "      <th>2018-05-27</th>\n",
       "      <td>0.310946</td>\n",
       "      <td>0.277665</td>\n",
       "      <td>-0.017081</td>\n",
       "      <td>-0.004877</td>\n",
       "      <td>Buy</td>\n",
       "    </tr>\n",
       "    <tr>\n",
       "      <th>...</th>\n",
       "      <td>...</td>\n",
       "      <td>...</td>\n",
       "      <td>...</td>\n",
       "      <td>...</td>\n",
       "      <td>...</td>\n",
       "    </tr>\n",
       "    <tr>\n",
       "      <th>2019-12-24</th>\n",
       "      <td>0.168590</td>\n",
       "      <td>0.158172</td>\n",
       "      <td>-0.001180</td>\n",
       "      <td>0.000607</td>\n",
       "      <td>Hold</td>\n",
       "    </tr>\n",
       "    <tr>\n",
       "      <th>2019-12-25</th>\n",
       "      <td>0.167789</td>\n",
       "      <td>0.159700</td>\n",
       "      <td>-0.000904</td>\n",
       "      <td>0.003124</td>\n",
       "      <td>Hold</td>\n",
       "    </tr>\n",
       "    <tr>\n",
       "      <th>2019-12-26</th>\n",
       "      <td>0.166317</td>\n",
       "      <td>0.175454</td>\n",
       "      <td>-0.002273</td>\n",
       "      <td>0.017282</td>\n",
       "      <td>Hold</td>\n",
       "    </tr>\n",
       "    <tr>\n",
       "      <th>2019-12-27</th>\n",
       "      <td>0.165540</td>\n",
       "      <td>0.177701</td>\n",
       "      <td>-0.002249</td>\n",
       "      <td>0.018002</td>\n",
       "      <td>Buy</td>\n",
       "    </tr>\n",
       "    <tr>\n",
       "      <th>2019-12-29</th>\n",
       "      <td>0.173773</td>\n",
       "      <td>0.182196</td>\n",
       "      <td>0.007456</td>\n",
       "      <td>0.006742</td>\n",
       "      <td>Hold</td>\n",
       "    </tr>\n",
       "  </tbody>\n",
       "</table>\n",
       "<p>503 rows × 5 columns</p>\n",
       "</div>"
      ],
      "text/plain": [
       "            Forecast    Actual  f_momentum  a_momentum Invest next day\n",
       "DateTime                                                              \n",
       "2018-05-22  0.330828  0.296319         NaN         NaN            Hold\n",
       "2018-05-23  0.333239  0.299195         NaN         NaN            Hold\n",
       "2018-05-24  0.328026  0.282542   -0.002801   -0.013777            Sell\n",
       "2018-05-25  0.322993  0.291667   -0.010246   -0.007529            Hold\n",
       "2018-05-27  0.310946  0.277665   -0.017081   -0.004877             Buy\n",
       "...              ...       ...         ...         ...             ...\n",
       "2019-12-24  0.168590  0.158172   -0.001180    0.000607            Hold\n",
       "2019-12-25  0.167789  0.159700   -0.000904    0.003124            Hold\n",
       "2019-12-26  0.166317  0.175454   -0.002273    0.017282            Hold\n",
       "2019-12-27  0.165540  0.177701   -0.002249    0.018002             Buy\n",
       "2019-12-29  0.173773  0.182196    0.007456    0.006742            Hold\n",
       "\n",
       "[503 rows x 5 columns]"
      ]
     },
     "execution_count": 22,
     "metadata": {},
     "output_type": "execute_result"
    }
   ],
   "source": [
    "df_dec"
   ]
  },
  {
   "cell_type": "code",
   "execution_count": null,
   "metadata": {},
   "outputs": [],
   "source": []
  },
  {
   "cell_type": "code",
   "execution_count": 23,
   "metadata": {},
   "outputs": [],
   "source": [
    "col = \"Invest next day\"\n",
    "conditions = [df_dec[col] == \"Buy\"]\n",
    "choices = [\"1\"]\n",
    "df_dec[\"buy\"] = np.select(conditions, choices, default=\"0\")\n",
    "conditions = [df_dec[col] == \"Sell\"]\n",
    "choices = [\"1\"]\n",
    "df_dec[\"sell\"] = np.select(conditions, choices, default=\"0\")\n",
    "conditions = [df_dec[col] == \"Hold\"]\n",
    "choices = [\"1\"]\n",
    "df_dec[\"hold\"] = np.select(conditions, choices, default=\"0\")"
   ]
  },
  {
   "cell_type": "code",
   "execution_count": 24,
   "metadata": {},
   "outputs": [
    {
     "data": {
      "text/html": [
       "<div>\n",
       "<style scoped>\n",
       "    .dataframe tbody tr th:only-of-type {\n",
       "        vertical-align: middle;\n",
       "    }\n",
       "\n",
       "    .dataframe tbody tr th {\n",
       "        vertical-align: top;\n",
       "    }\n",
       "\n",
       "    .dataframe thead th {\n",
       "        text-align: right;\n",
       "    }\n",
       "</style>\n",
       "<table border=\"1\" class=\"dataframe\">\n",
       "  <thead>\n",
       "    <tr style=\"text-align: right;\">\n",
       "      <th></th>\n",
       "      <th>Forecast</th>\n",
       "      <th>Actual</th>\n",
       "      <th>f_momentum</th>\n",
       "      <th>a_momentum</th>\n",
       "      <th>Invest next day</th>\n",
       "      <th>buy</th>\n",
       "      <th>sell</th>\n",
       "      <th>hold</th>\n",
       "    </tr>\n",
       "    <tr>\n",
       "      <th>DateTime</th>\n",
       "      <th></th>\n",
       "      <th></th>\n",
       "      <th></th>\n",
       "      <th></th>\n",
       "      <th></th>\n",
       "      <th></th>\n",
       "      <th></th>\n",
       "      <th></th>\n",
       "    </tr>\n",
       "  </thead>\n",
       "  <tbody>\n",
       "    <tr>\n",
       "      <th>2018-05-22</th>\n",
       "      <td>0.330828</td>\n",
       "      <td>0.296319</td>\n",
       "      <td>NaN</td>\n",
       "      <td>NaN</td>\n",
       "      <td>Hold</td>\n",
       "      <td>0</td>\n",
       "      <td>0</td>\n",
       "      <td>1</td>\n",
       "    </tr>\n",
       "    <tr>\n",
       "      <th>2018-05-23</th>\n",
       "      <td>0.333239</td>\n",
       "      <td>0.299195</td>\n",
       "      <td>NaN</td>\n",
       "      <td>NaN</td>\n",
       "      <td>Hold</td>\n",
       "      <td>0</td>\n",
       "      <td>0</td>\n",
       "      <td>1</td>\n",
       "    </tr>\n",
       "    <tr>\n",
       "      <th>2018-05-24</th>\n",
       "      <td>0.328026</td>\n",
       "      <td>0.282542</td>\n",
       "      <td>-0.002801</td>\n",
       "      <td>-0.013777</td>\n",
       "      <td>Sell</td>\n",
       "      <td>0</td>\n",
       "      <td>1</td>\n",
       "      <td>0</td>\n",
       "    </tr>\n",
       "    <tr>\n",
       "      <th>2018-05-25</th>\n",
       "      <td>0.322993</td>\n",
       "      <td>0.291667</td>\n",
       "      <td>-0.010246</td>\n",
       "      <td>-0.007529</td>\n",
       "      <td>Hold</td>\n",
       "      <td>0</td>\n",
       "      <td>0</td>\n",
       "      <td>1</td>\n",
       "    </tr>\n",
       "    <tr>\n",
       "      <th>2018-05-27</th>\n",
       "      <td>0.310946</td>\n",
       "      <td>0.277665</td>\n",
       "      <td>-0.017081</td>\n",
       "      <td>-0.004877</td>\n",
       "      <td>Buy</td>\n",
       "      <td>1</td>\n",
       "      <td>0</td>\n",
       "      <td>0</td>\n",
       "    </tr>\n",
       "    <tr>\n",
       "      <th>...</th>\n",
       "      <td>...</td>\n",
       "      <td>...</td>\n",
       "      <td>...</td>\n",
       "      <td>...</td>\n",
       "      <td>...</td>\n",
       "      <td>...</td>\n",
       "      <td>...</td>\n",
       "      <td>...</td>\n",
       "    </tr>\n",
       "    <tr>\n",
       "      <th>2019-12-24</th>\n",
       "      <td>0.168590</td>\n",
       "      <td>0.158172</td>\n",
       "      <td>-0.001180</td>\n",
       "      <td>0.000607</td>\n",
       "      <td>Hold</td>\n",
       "      <td>0</td>\n",
       "      <td>0</td>\n",
       "      <td>1</td>\n",
       "    </tr>\n",
       "    <tr>\n",
       "      <th>2019-12-25</th>\n",
       "      <td>0.167789</td>\n",
       "      <td>0.159700</td>\n",
       "      <td>-0.000904</td>\n",
       "      <td>0.003124</td>\n",
       "      <td>Hold</td>\n",
       "      <td>0</td>\n",
       "      <td>0</td>\n",
       "      <td>1</td>\n",
       "    </tr>\n",
       "    <tr>\n",
       "      <th>2019-12-26</th>\n",
       "      <td>0.166317</td>\n",
       "      <td>0.175454</td>\n",
       "      <td>-0.002273</td>\n",
       "      <td>0.017282</td>\n",
       "      <td>Hold</td>\n",
       "      <td>0</td>\n",
       "      <td>0</td>\n",
       "      <td>1</td>\n",
       "    </tr>\n",
       "    <tr>\n",
       "      <th>2019-12-27</th>\n",
       "      <td>0.165540</td>\n",
       "      <td>0.177701</td>\n",
       "      <td>-0.002249</td>\n",
       "      <td>0.018002</td>\n",
       "      <td>Buy</td>\n",
       "      <td>1</td>\n",
       "      <td>0</td>\n",
       "      <td>0</td>\n",
       "    </tr>\n",
       "    <tr>\n",
       "      <th>2019-12-29</th>\n",
       "      <td>0.173773</td>\n",
       "      <td>0.182196</td>\n",
       "      <td>0.007456</td>\n",
       "      <td>0.006742</td>\n",
       "      <td>Hold</td>\n",
       "      <td>0</td>\n",
       "      <td>0</td>\n",
       "      <td>1</td>\n",
       "    </tr>\n",
       "  </tbody>\n",
       "</table>\n",
       "<p>503 rows × 8 columns</p>\n",
       "</div>"
      ],
      "text/plain": [
       "            Forecast    Actual  f_momentum  a_momentum Invest next day buy  \\\n",
       "DateTime                                                                     \n",
       "2018-05-22  0.330828  0.296319         NaN         NaN            Hold   0   \n",
       "2018-05-23  0.333239  0.299195         NaN         NaN            Hold   0   \n",
       "2018-05-24  0.328026  0.282542   -0.002801   -0.013777            Sell   0   \n",
       "2018-05-25  0.322993  0.291667   -0.010246   -0.007529            Hold   0   \n",
       "2018-05-27  0.310946  0.277665   -0.017081   -0.004877             Buy   1   \n",
       "...              ...       ...         ...         ...             ...  ..   \n",
       "2019-12-24  0.168590  0.158172   -0.001180    0.000607            Hold   0   \n",
       "2019-12-25  0.167789  0.159700   -0.000904    0.003124            Hold   0   \n",
       "2019-12-26  0.166317  0.175454   -0.002273    0.017282            Hold   0   \n",
       "2019-12-27  0.165540  0.177701   -0.002249    0.018002             Buy   1   \n",
       "2019-12-29  0.173773  0.182196    0.007456    0.006742            Hold   0   \n",
       "\n",
       "           sell hold  \n",
       "DateTime              \n",
       "2018-05-22    0    1  \n",
       "2018-05-23    0    1  \n",
       "2018-05-24    1    0  \n",
       "2018-05-25    0    1  \n",
       "2018-05-27    0    0  \n",
       "...         ...  ...  \n",
       "2019-12-24    0    1  \n",
       "2019-12-25    0    1  \n",
       "2019-12-26    0    1  \n",
       "2019-12-27    0    0  \n",
       "2019-12-29    0    1  \n",
       "\n",
       "[503 rows x 8 columns]"
      ]
     },
     "execution_count": 24,
     "metadata": {},
     "output_type": "execute_result"
    }
   ],
   "source": [
    "df_dec"
   ]
  },
  {
   "cell_type": "code",
   "execution_count": 25,
   "metadata": {},
   "outputs": [],
   "source": [
    "df[\"buy\"] = df_dec[\"buy\"]\n",
    "df[\"sell\"] = df_dec[\"sell\"]\n",
    "df[\"hold\"] = df_dec[\"hold\"]"
   ]
  },
  {
   "cell_type": "code",
   "execution_count": 26,
   "metadata": {},
   "outputs": [
    {
     "data": {
      "text/html": [
       "<div>\n",
       "<style scoped>\n",
       "    .dataframe tbody tr th:only-of-type {\n",
       "        vertical-align: middle;\n",
       "    }\n",
       "\n",
       "    .dataframe tbody tr th {\n",
       "        vertical-align: top;\n",
       "    }\n",
       "\n",
       "    .dataframe thead th {\n",
       "        text-align: right;\n",
       "    }\n",
       "</style>\n",
       "<table border=\"1\" class=\"dataframe\">\n",
       "  <thead>\n",
       "    <tr style=\"text-align: right;\">\n",
       "      <th></th>\n",
       "      <th>Close</th>\n",
       "      <th>RoC</th>\n",
       "      <th>S%D</th>\n",
       "      <th>PSY12</th>\n",
       "      <th>ASY5</th>\n",
       "      <th>buy</th>\n",
       "      <th>sell</th>\n",
       "      <th>hold</th>\n",
       "    </tr>\n",
       "    <tr>\n",
       "      <th>DateTime</th>\n",
       "      <th></th>\n",
       "      <th></th>\n",
       "      <th></th>\n",
       "      <th></th>\n",
       "      <th></th>\n",
       "      <th></th>\n",
       "      <th></th>\n",
       "      <th></th>\n",
       "    </tr>\n",
       "  </thead>\n",
       "  <tbody>\n",
       "    <tr>\n",
       "      <th>2018-05-22</th>\n",
       "      <td>0.314006</td>\n",
       "      <td>0.480472</td>\n",
       "      <td>0.194738</td>\n",
       "      <td>0.363636</td>\n",
       "      <td>0.479935</td>\n",
       "      <td>0</td>\n",
       "      <td>0</td>\n",
       "      <td>1</td>\n",
       "    </tr>\n",
       "    <tr>\n",
       "      <th>2018-05-23</th>\n",
       "      <td>0.296319</td>\n",
       "      <td>0.444085</td>\n",
       "      <td>0.198627</td>\n",
       "      <td>0.363636</td>\n",
       "      <td>0.432865</td>\n",
       "      <td>0</td>\n",
       "      <td>0</td>\n",
       "      <td>1</td>\n",
       "    </tr>\n",
       "    <tr>\n",
       "      <th>2018-05-24</th>\n",
       "      <td>0.299195</td>\n",
       "      <td>0.411007</td>\n",
       "      <td>0.185304</td>\n",
       "      <td>0.363636</td>\n",
       "      <td>0.462282</td>\n",
       "      <td>0</td>\n",
       "      <td>1</td>\n",
       "      <td>0</td>\n",
       "    </tr>\n",
       "    <tr>\n",
       "      <th>2018-05-25</th>\n",
       "      <td>0.282542</td>\n",
       "      <td>0.349541</td>\n",
       "      <td>0.151715</td>\n",
       "      <td>0.272727</td>\n",
       "      <td>0.400889</td>\n",
       "      <td>0</td>\n",
       "      <td>0</td>\n",
       "      <td>1</td>\n",
       "    </tr>\n",
       "    <tr>\n",
       "      <th>2018-05-27</th>\n",
       "      <td>0.291667</td>\n",
       "      <td>0.366831</td>\n",
       "      <td>0.125065</td>\n",
       "      <td>0.272727</td>\n",
       "      <td>0.414903</td>\n",
       "      <td>1</td>\n",
       "      <td>0</td>\n",
       "      <td>0</td>\n",
       "    </tr>\n",
       "    <tr>\n",
       "      <th>...</th>\n",
       "      <td>...</td>\n",
       "      <td>...</td>\n",
       "      <td>...</td>\n",
       "      <td>...</td>\n",
       "      <td>...</td>\n",
       "      <td>...</td>\n",
       "      <td>...</td>\n",
       "      <td>...</td>\n",
       "    </tr>\n",
       "    <tr>\n",
       "      <th>2019-12-24</th>\n",
       "      <td>0.156576</td>\n",
       "      <td>0.526441</td>\n",
       "      <td>0.519878</td>\n",
       "      <td>0.727273</td>\n",
       "      <td>0.477280</td>\n",
       "      <td>0</td>\n",
       "      <td>0</td>\n",
       "      <td>1</td>\n",
       "    </tr>\n",
       "    <tr>\n",
       "      <th>2019-12-25</th>\n",
       "      <td>0.158172</td>\n",
       "      <td>0.504520</td>\n",
       "      <td>0.453905</td>\n",
       "      <td>0.727273</td>\n",
       "      <td>0.476746</td>\n",
       "      <td>0</td>\n",
       "      <td>0</td>\n",
       "      <td>1</td>\n",
       "    </tr>\n",
       "    <tr>\n",
       "      <th>2019-12-26</th>\n",
       "      <td>0.159700</td>\n",
       "      <td>0.475611</td>\n",
       "      <td>0.395299</td>\n",
       "      <td>0.727273</td>\n",
       "      <td>0.525453</td>\n",
       "      <td>0</td>\n",
       "      <td>0</td>\n",
       "      <td>1</td>\n",
       "    </tr>\n",
       "    <tr>\n",
       "      <th>2019-12-27</th>\n",
       "      <td>0.175454</td>\n",
       "      <td>0.565530</td>\n",
       "      <td>0.421044</td>\n",
       "      <td>0.818182</td>\n",
       "      <td>0.586624</td>\n",
       "      <td>1</td>\n",
       "      <td>0</td>\n",
       "      <td>0</td>\n",
       "    </tr>\n",
       "    <tr>\n",
       "      <th>2019-12-29</th>\n",
       "      <td>0.177701</td>\n",
       "      <td>0.567630</td>\n",
       "      <td>0.451166</td>\n",
       "      <td>0.818182</td>\n",
       "      <td>0.585169</td>\n",
       "      <td>0</td>\n",
       "      <td>0</td>\n",
       "      <td>1</td>\n",
       "    </tr>\n",
       "  </tbody>\n",
       "</table>\n",
       "<p>503 rows × 8 columns</p>\n",
       "</div>"
      ],
      "text/plain": [
       "               Close       RoC       S%D     PSY12      ASY5 buy sell hold\n",
       "DateTime                                                                  \n",
       "2018-05-22  0.314006  0.480472  0.194738  0.363636  0.479935   0    0    1\n",
       "2018-05-23  0.296319  0.444085  0.198627  0.363636  0.432865   0    0    1\n",
       "2018-05-24  0.299195  0.411007  0.185304  0.363636  0.462282   0    1    0\n",
       "2018-05-25  0.282542  0.349541  0.151715  0.272727  0.400889   0    0    1\n",
       "2018-05-27  0.291667  0.366831  0.125065  0.272727  0.414903   1    0    0\n",
       "...              ...       ...       ...       ...       ...  ..  ...  ...\n",
       "2019-12-24  0.156576  0.526441  0.519878  0.727273  0.477280   0    0    1\n",
       "2019-12-25  0.158172  0.504520  0.453905  0.727273  0.476746   0    0    1\n",
       "2019-12-26  0.159700  0.475611  0.395299  0.727273  0.525453   0    0    1\n",
       "2019-12-27  0.175454  0.565530  0.421044  0.818182  0.586624   1    0    0\n",
       "2019-12-29  0.177701  0.567630  0.451166  0.818182  0.585169   0    0    1\n",
       "\n",
       "[503 rows x 8 columns]"
      ]
     },
     "execution_count": 26,
     "metadata": {},
     "output_type": "execute_result"
    }
   ],
   "source": [
    "df = df.dropna()\n",
    "df"
   ]
  },
  {
   "cell_type": "code",
   "execution_count": 27,
   "metadata": {},
   "outputs": [
    {
     "data": {
      "text/plain": [
       "Index(['Close', 'RoC', 'S%D', 'PSY12', 'ASY5'], dtype='object')"
      ]
     },
     "execution_count": 27,
     "metadata": {},
     "output_type": "execute_result"
    }
   ],
   "source": [
    "df.columns[:5]"
   ]
  },
  {
   "cell_type": "code",
   "execution_count": 28,
   "metadata": {},
   "outputs": [
    {
     "data": {
      "text/html": [
       "<div>\n",
       "<style scoped>\n",
       "    .dataframe tbody tr th:only-of-type {\n",
       "        vertical-align: middle;\n",
       "    }\n",
       "\n",
       "    .dataframe tbody tr th {\n",
       "        vertical-align: top;\n",
       "    }\n",
       "\n",
       "    .dataframe thead th {\n",
       "        text-align: right;\n",
       "    }\n",
       "</style>\n",
       "<table border=\"1\" class=\"dataframe\">\n",
       "  <thead>\n",
       "    <tr style=\"text-align: right;\">\n",
       "      <th></th>\n",
       "      <th>Close</th>\n",
       "      <th>RoC</th>\n",
       "      <th>S%D</th>\n",
       "      <th>PSY12</th>\n",
       "      <th>ASY5</th>\n",
       "      <th>buy</th>\n",
       "      <th>sell</th>\n",
       "      <th>hold</th>\n",
       "    </tr>\n",
       "    <tr>\n",
       "      <th>DateTime</th>\n",
       "      <th></th>\n",
       "      <th></th>\n",
       "      <th></th>\n",
       "      <th></th>\n",
       "      <th></th>\n",
       "      <th></th>\n",
       "      <th></th>\n",
       "      <th></th>\n",
       "    </tr>\n",
       "  </thead>\n",
       "  <tbody>\n",
       "    <tr>\n",
       "      <th>2018-05-22</th>\n",
       "      <td>0.314006</td>\n",
       "      <td>0.480472</td>\n",
       "      <td>0.194738</td>\n",
       "      <td>0.363636</td>\n",
       "      <td>0.479935</td>\n",
       "      <td>0</td>\n",
       "      <td>0</td>\n",
       "      <td>1</td>\n",
       "    </tr>\n",
       "    <tr>\n",
       "      <th>2018-05-23</th>\n",
       "      <td>0.296319</td>\n",
       "      <td>0.444085</td>\n",
       "      <td>0.198627</td>\n",
       "      <td>0.363636</td>\n",
       "      <td>0.432865</td>\n",
       "      <td>0</td>\n",
       "      <td>0</td>\n",
       "      <td>1</td>\n",
       "    </tr>\n",
       "    <tr>\n",
       "      <th>2018-05-24</th>\n",
       "      <td>0.299195</td>\n",
       "      <td>0.411007</td>\n",
       "      <td>0.185304</td>\n",
       "      <td>0.363636</td>\n",
       "      <td>0.462282</td>\n",
       "      <td>0</td>\n",
       "      <td>1</td>\n",
       "      <td>0</td>\n",
       "    </tr>\n",
       "    <tr>\n",
       "      <th>2018-05-25</th>\n",
       "      <td>0.282542</td>\n",
       "      <td>0.349541</td>\n",
       "      <td>0.151715</td>\n",
       "      <td>0.272727</td>\n",
       "      <td>0.400889</td>\n",
       "      <td>0</td>\n",
       "      <td>0</td>\n",
       "      <td>1</td>\n",
       "    </tr>\n",
       "    <tr>\n",
       "      <th>2018-05-27</th>\n",
       "      <td>0.291667</td>\n",
       "      <td>0.366831</td>\n",
       "      <td>0.125065</td>\n",
       "      <td>0.272727</td>\n",
       "      <td>0.414903</td>\n",
       "      <td>1</td>\n",
       "      <td>0</td>\n",
       "      <td>0</td>\n",
       "    </tr>\n",
       "    <tr>\n",
       "      <th>...</th>\n",
       "      <td>...</td>\n",
       "      <td>...</td>\n",
       "      <td>...</td>\n",
       "      <td>...</td>\n",
       "      <td>...</td>\n",
       "      <td>...</td>\n",
       "      <td>...</td>\n",
       "      <td>...</td>\n",
       "    </tr>\n",
       "    <tr>\n",
       "      <th>2019-12-24</th>\n",
       "      <td>0.156576</td>\n",
       "      <td>0.526441</td>\n",
       "      <td>0.519878</td>\n",
       "      <td>0.727273</td>\n",
       "      <td>0.477280</td>\n",
       "      <td>0</td>\n",
       "      <td>0</td>\n",
       "      <td>1</td>\n",
       "    </tr>\n",
       "    <tr>\n",
       "      <th>2019-12-25</th>\n",
       "      <td>0.158172</td>\n",
       "      <td>0.504520</td>\n",
       "      <td>0.453905</td>\n",
       "      <td>0.727273</td>\n",
       "      <td>0.476746</td>\n",
       "      <td>0</td>\n",
       "      <td>0</td>\n",
       "      <td>1</td>\n",
       "    </tr>\n",
       "    <tr>\n",
       "      <th>2019-12-26</th>\n",
       "      <td>0.159700</td>\n",
       "      <td>0.475611</td>\n",
       "      <td>0.395299</td>\n",
       "      <td>0.727273</td>\n",
       "      <td>0.525453</td>\n",
       "      <td>0</td>\n",
       "      <td>0</td>\n",
       "      <td>1</td>\n",
       "    </tr>\n",
       "    <tr>\n",
       "      <th>2019-12-27</th>\n",
       "      <td>0.175454</td>\n",
       "      <td>0.565530</td>\n",
       "      <td>0.421044</td>\n",
       "      <td>0.818182</td>\n",
       "      <td>0.586624</td>\n",
       "      <td>1</td>\n",
       "      <td>0</td>\n",
       "      <td>0</td>\n",
       "    </tr>\n",
       "    <tr>\n",
       "      <th>2019-12-29</th>\n",
       "      <td>0.177701</td>\n",
       "      <td>0.567630</td>\n",
       "      <td>0.451166</td>\n",
       "      <td>0.818182</td>\n",
       "      <td>0.585169</td>\n",
       "      <td>0</td>\n",
       "      <td>0</td>\n",
       "      <td>1</td>\n",
       "    </tr>\n",
       "  </tbody>\n",
       "</table>\n",
       "<p>503 rows × 8 columns</p>\n",
       "</div>"
      ],
      "text/plain": [
       "               Close       RoC       S%D     PSY12      ASY5 buy sell hold\n",
       "DateTime                                                                  \n",
       "2018-05-22  0.314006  0.480472  0.194738  0.363636  0.479935   0    0    1\n",
       "2018-05-23  0.296319  0.444085  0.198627  0.363636  0.432865   0    0    1\n",
       "2018-05-24  0.299195  0.411007  0.185304  0.363636  0.462282   0    1    0\n",
       "2018-05-25  0.282542  0.349541  0.151715  0.272727  0.400889   0    0    1\n",
       "2018-05-27  0.291667  0.366831  0.125065  0.272727  0.414903   1    0    0\n",
       "...              ...       ...       ...       ...       ...  ..  ...  ...\n",
       "2019-12-24  0.156576  0.526441  0.519878  0.727273  0.477280   0    0    1\n",
       "2019-12-25  0.158172  0.504520  0.453905  0.727273  0.476746   0    0    1\n",
       "2019-12-26  0.159700  0.475611  0.395299  0.727273  0.525453   0    0    1\n",
       "2019-12-27  0.175454  0.565530  0.421044  0.818182  0.586624   1    0    0\n",
       "2019-12-29  0.177701  0.567630  0.451166  0.818182  0.585169   0    0    1\n",
       "\n",
       "[503 rows x 8 columns]"
      ]
     },
     "execution_count": 28,
     "metadata": {},
     "output_type": "execute_result"
    }
   ],
   "source": [
    "df"
   ]
  },
  {
   "cell_type": "code",
   "execution_count": 29,
   "metadata": {},
   "outputs": [],
   "source": [
    "def foofoofoo(lblz):\n",
    "    container = []\n",
    "    for row in lblz:\n",
    "        word = ''\n",
    "        for value in row:\n",
    "            word = word + str(value)\n",
    "        container.append(word)\n",
    "    return container"
   ]
  },
  {
   "cell_type": "code",
   "execution_count": 30,
   "metadata": {},
   "outputs": [],
   "source": [
    "labels = df[[\"buy\", \"sell\", \"hold\"]].to_numpy()"
   ]
  },
  {
   "cell_type": "code",
   "execution_count": 31,
   "metadata": {},
   "outputs": [],
   "source": [
    "labels = foofoofoo(labels)"
   ]
  },
  {
   "cell_type": "code",
   "execution_count": 32,
   "metadata": {
    "scrolled": false
   },
   "outputs": [],
   "source": [
    "forecast_days = 1\n",
    "#df['Label'] = df['Close'].shift(-forecast_days)\n",
    "df_dec.dropna()\n",
    "data = df\n",
    "data = data.dropna(how=\"any\")\n",
    "x = data[df.columns[:5]].to_numpy()\n",
    "y = data[df.columns[-4]].to_numpy()\n",
    "y2 = data[df.columns[-3:]].to_numpy()"
   ]
  },
  {
   "cell_type": "markdown",
   "metadata": {},
   "source": [
    "## Dataset y\n"
   ]
  },
  {
   "cell_type": "code",
   "execution_count": 33,
   "metadata": {},
   "outputs": [],
   "source": [
    "def create_split(x, y):\n",
    "    tss = TimeSeriesSplit(n_splits=5)\n",
    "    for train_index, test_index in tss.split(x):\n",
    "        x_train, x_test = x[train_index], x[test_index]\n",
    "        y_train, y_test = y[train_index], y[test_index]\n",
    "    return x_train, y_train, x_test, y_test"
   ]
  },
  {
   "cell_type": "code",
   "execution_count": 34,
   "metadata": {},
   "outputs": [],
   "source": [
    "x_train, y_train, x_test, y_test = create_split(x, y)\n",
    "x_train_2, y_train_2, x_test_2, y_test_2 = create_split(x, y2)"
   ]
  },
  {
   "cell_type": "code",
   "execution_count": 35,
   "metadata": {},
   "outputs": [],
   "source": [
    "y_test_2 = foofoofoo(y_test_2)\n",
    "y_train_2 = foofoofoo(y_train_2)"
   ]
  },
  {
   "cell_type": "markdown",
   "metadata": {},
   "source": [
    "## Dataset y2"
   ]
  },
  {
   "cell_type": "code",
   "execution_count": 36,
   "metadata": {},
   "outputs": [],
   "source": [
    "#from sklearn.multiclass import OneVsRestClassifier\n",
    "#from sklearn.svm import LinearSVC\n",
    "#OneVsRestClassifier(LinearSVC(random_state=0)).fit(x, y).predict(x)"
   ]
  },
  {
   "cell_type": "code",
   "execution_count": 37,
   "metadata": {},
   "outputs": [],
   "source": [
    "from sklearn.preprocessing import MinMaxScaler"
   ]
  },
  {
   "cell_type": "code",
   "execution_count": 38,
   "metadata": {},
   "outputs": [],
   "source": [
    "scaler = MinMaxScaler(feature_range=(0,1))\n",
    "\n",
    "x_train = scaler.fit_transform(x_train)\n",
    "x_test= scaler.transform(x_test)"
   ]
  },
  {
   "cell_type": "code",
   "execution_count": 39,
   "metadata": {},
   "outputs": [],
   "source": [
    "x = scaler.transform(x)"
   ]
  },
  {
   "cell_type": "markdown",
   "metadata": {},
   "source": [
    "lab_enc = preprocessing.LabelEncoder()\n",
    "encoded = lab_enc.fit_transform(y_train)\n",
    "print(training_scores_encoded)\n",
    "print(utils.multiclass.type_of_target(y_train))\n",
    "print(utils.multiclass.type_of_target(y_train.astype('int')))\n",
    "print(utils.multiclass.type_of_target(training_scores_encoded))"
   ]
  },
  {
   "cell_type": "code",
   "execution_count": 40,
   "metadata": {},
   "outputs": [],
   "source": [
    "from sklearn import datasets\n",
    "from sklearn.model_selection import train_test_split\n",
    "from sklearn.model_selection import GridSearchCV, RandomizedSearchCV\n",
    "from sklearn.metrics import classification_report\n",
    "from sklearn.ensemble import RandomForestClassifier\n",
    "from sklearn.svm import SVC\n",
    "from sklearn.linear_model import LogisticRegression\n",
    "from pprint import pprint\n",
    "from sklearn import metrics"
   ]
  },
  {
   "cell_type": "markdown",
   "metadata": {},
   "source": [
    "# Gridsearch random forest\n",
    "\n",
    "https://towardsdatascience.com/hyperparameter-tuning-the-random-forest-in-python-using-scikit-learn-28d2aa77dd74\n"
   ]
  },
  {
   "cell_type": "markdown",
   "metadata": {},
   "source": [
    "### Functions"
   ]
  },
  {
   "cell_type": "code",
   "execution_count": 41,
   "metadata": {},
   "outputs": [],
   "source": [
    "def random_search(settings):\n",
    "    \n",
    "    # CREATE THE CORRECT MODEL TYPE\n",
    "    model = select_model(settings)\n",
    "\n",
    "    # CREATE THE RANDOMIZED SEARCH CV\n",
    "    rscv = RandomizedSearchCV(estimator=model,\n",
    "                                  param_distributions=settings['random_params'],\n",
    "                                  n_iter=100,\n",
    "                                  cv = 3,\n",
    "                                  verbose=2,\n",
    "                                  random_state=42,\n",
    "                                  n_jobs=-1)\n",
    "\n",
    "    # FIT THE RANDOM SEARCH\n",
    "    rscv.fit(settings[\"x\"], settings[\"y\"])\n",
    "    \n",
    "    # SELECT THE BEST ESTIMATOR\n",
    "    best_random = rscv.best_estimator_\n",
    "\n",
    "    \n",
    "    \n",
    "    return rscvm, rscv.best_params_"
   ]
  },
  {
   "cell_type": "code",
   "execution_count": 86,
   "metadata": {},
   "outputs": [],
   "source": [
    "def grid_search(model, dataset, settings):\n",
    "\n",
    "    \n",
    "    # SELECT MODEL\n",
    "    model = select_model(settings)\n",
    "\n",
    "    # CREATE GRID SEARCH CV\n",
    "    grid_search = GridSearchCV(estimator = model, param_grid = settings[\"grid_params\"], \n",
    "                          cv = settings[\"cv\"], n_jobs = settings[\"n_jobs\"], verbose = 2)\n",
    "    grid_search.fit(dataset[\"x\"], dataset[\"y\"])\n",
    "    best_grid = grid_search.best_estimator_\n",
    "\n",
    "    return best_grid"
   ]
  },
  {
   "cell_type": "code",
   "execution_count": 87,
   "metadata": {},
   "outputs": [],
   "source": [
    "def select_model(settings):\n",
    "    \"\"\"Select a classification model type. \n",
    "    Supported models:\n",
    "    Random Forest Classifier (default)\"\"\"\n",
    "    if(settings[\"model\"] == \"rfc\"):\n",
    "        model = RandomForestClassifier()\n",
    "    else:\n",
    "        model = RandomForestClassifier()\n",
    "    return model"
   ]
  },
  {
   "cell_type": "code",
   "execution_count": 101,
   "metadata": {},
   "outputs": [],
   "source": [
    "def grid_search_model(model, dataset, settings):\n",
    "    \"\"\"Runs a grid search on the given model to define the best parameters for the model. \n",
    "    \n",
    "    Parameters:\n",
    "    -----------\n",
    "    model: sklearn model \n",
    "    unfitted model\n",
    "    dataset: dict\n",
    "    Dictionary that contains x_train, y_train, features and labels\n",
    "    \n",
    "    Returns:\n",
    "    --------\n",
    "    model: sklearn model\n",
    "    Same type of model as the input model, with optimized parameters\n",
    "    \"\"\"\n",
    "    # CREATE GRID SEARCH CV\n",
    "    grid_search = GridSearchCV(estimator = model, param_grid = settings[\"grid_params\"], \n",
    "                          cv = settings[\"cv\"], n_jobs = settings[\"n_jobs\"], verbose = 2)\n",
    "    \n",
    "    # FIT GRIDSEARCH\n",
    "    grid_search.fit(dataset[\"features\"], dataset[\"labels\"])\n",
    "    \n",
    "    # PICK OUT THE BEST MODEL FROM GRID SEARCH\n",
    "    model = grid_search.best_estimator_\n",
    "    \n",
    "    # RUN MODEL ON BEST PARAMS   \n",
    "    model.fit(dataset[\"x_train\"], dataset[\"y_train\"])\n",
    "    \n",
    "    # RETURN MODEL WITH BEST PARAMS    \n",
    "    return model"
   ]
  },
  {
   "cell_type": "code",
   "execution_count": 1,
   "metadata": {},
   "outputs": [],
   "source": [
    "def evaluate(model, test_features, test_labels, encode=True):\n",
    "    \"\"\"Evaluate a classifcation model, for example Random Forest Classification\n",
    "    \n",
    "    Parameters:\n",
    "    model: sklearn classification model\n",
    "    test_features: np.array of features\n",
    "    test_labels: np.array of labels \n",
    "    encode (default=True): boolean, encodes values to int if set to true\n",
    "    \n",
    "    Returns:\n",
    "    accuracy: float, metrics.accuracy_score\n",
    "    precision: float, metrics.precision_score\n",
    "    recall: float, metrics.precision_score\n",
    "    confusion: \n",
    "    \"\"\"\n",
    "    # PREDICT\n",
    "    predictions = model.predict(test_features)\n",
    "    \n",
    "    # OPTIONAL ENCODING\n",
    "    if(encode == True):\n",
    "        le = preprocessing.LabelEncoder()\n",
    "        le.fit(test_labels)\n",
    "        test_labels = le.transform(test_labels)\n",
    "        predictions = le.transform(predictions)\n",
    "\n",
    "    # CREATE CONFUSION MATRIX\n",
    "    confusion = metrics.confusion_matrix(test_labels, predictions, labels=[0, 1, 2])\n",
    "    \n",
    "    # PULL ACCURACY FROM METRICS\n",
    "    accuracy = metrics.accuracy_score(test_labels, predictions)\n",
    "    precision = metrics.precision_score(test_labels, predictions, average='micro')\n",
    "    recall = metrics.recall_score(test_labels, predictions, average='micro')\n",
    "    #print('Model Performance')\n",
    "    #print('Average Error: {:0.4f} degrees.'.format(np.mean(errors)))\n",
    "    #print('Accuracy = {:0.2f}%.'.format(accuracy))\n",
    "    \n",
    "    # RETURN THE CREATED SCORES\n",
    "    return accuracy, confusion"
   ]
  },
  {
   "cell_type": "markdown",
   "metadata": {},
   "source": [
    "# Random search grid"
   ]
  },
  {
   "cell_type": "code",
   "execution_count": 46,
   "metadata": {},
   "outputs": [],
   "source": [
    "x = np.concatenate((x_train_2, x_test_2))\n",
    "y = np.concatenate((y_train_2, y_test_2))"
   ]
  },
  {
   "cell_type": "code",
   "execution_count": 47,
   "metadata": {},
   "outputs": [],
   "source": [
    "dataset = {\"x_train\": x_train_2, \n",
    "           \"y_train\": y_train_2,\n",
    "           \"x_test\": x_test_2,\n",
    "           \"y_test\": y_test_2,\n",
    "           \"features\": x,\n",
    "           \"labels\": y\n",
    "          }"
   ]
  },
  {
   "cell_type": "markdown",
   "metadata": {},
   "source": [
    "## Random forest"
   ]
  },
  {
   "cell_type": "code",
   "execution_count": 123,
   "metadata": {},
   "outputs": [],
   "source": [
    "grid_settings = {\n",
    "    \"cv\": 3, # number of folds\n",
    "    \"n_jobs\": -1, # processors to use during grid search\n",
    "    'grid_params': { # parameters for grid search (specific to each model)\n",
    "        'n_estimators': [500,1000,2000], # int\n",
    "        'max_features': ['log2', 'sqrt'], # {“sqrt”, “log2”}, int or float\n",
    "        'max_depth': [10,100, None], # int, default=None\n",
    "        'min_samples_split': [3, 10], # int or float, default=2\n",
    "        'min_samples_leaf': [2, 4], # int or float, default=1\n",
    "        'bootstrap': [True, False], # bool, default=True\n",
    "        \"class_weight\": [\"balanced\", None] # {“balanced”, “balanced_subsample”}, dict or list of dicts, default=None\n",
    "    }\n",
    "}"
   ]
  },
  {
   "cell_type": "code",
   "execution_count": null,
   "metadata": {},
   "outputs": [
    {
     "name": "stdout",
     "output_type": "stream",
     "text": [
      "Fitting 3 folds for each of 288 candidates, totalling 864 fits\n"
     ]
    },
    {
     "name": "stderr",
     "output_type": "stream",
     "text": [
      "[Parallel(n_jobs=-1)]: Using backend LokyBackend with 12 concurrent workers.\n",
      "[Parallel(n_jobs=-1)]: Done  17 tasks      | elapsed:    4.2s\n"
     ]
    }
   ],
   "source": [
    "rfc = RandomForestClassifier()\n",
    "rfc_model = grid_search_model(rfc, dataset, grid_settings)"
   ]
  },
  {
   "cell_type": "code",
   "execution_count": null,
   "metadata": {},
   "outputs": [],
   "source": [
    "rfc_model.fit(x_train_2, y_train_2)\n",
    "evaluate(rfc_model, x_test_2, y_test_2)"
   ]
  },
  {
   "cell_type": "markdown",
   "metadata": {},
   "source": [
    "## Logistical Regression"
   ]
  },
  {
   "cell_type": "code",
   "execution_count": 3,
   "metadata": {},
   "outputs": [],
   "source": [
    "grid_settings = {\n",
    "    \"cv\": 3, # number of folds\n",
    "    \"n_jobs\": -1, # processors to use during grid search\n",
    "    'grid_params': {\n",
    "        \"C\": [1,10,100,1000],\n",
    "        \"penalty\": [\"l1\", \"l2\"],\n",
    "        \"solver\": [\"liblinear\", \"lbfgs\", \"saga\", \"sag\", \"newton-cg\"],\n",
    "        \"max_iter\": [100,1000, 10000],\n",
    "        \"class_weight\": [\"balanced\", None]\n",
    "    }\n",
    "}"
   ]
  },
  {
   "cell_type": "code",
   "execution_count": 4,
   "metadata": {
    "scrolled": true
   },
   "outputs": [
    {
     "ename": "NameError",
     "evalue": "name 'LogisticRegression' is not defined",
     "output_type": "error",
     "traceback": [
      "\u001b[1;31m---------------------------------------------------------------------------\u001b[0m",
      "\u001b[1;31mNameError\u001b[0m                                 Traceback (most recent call last)",
      "\u001b[1;32m<ipython-input-4-0a2c73318c90>\u001b[0m in \u001b[0;36m<module>\u001b[1;34m\u001b[0m\n\u001b[1;32m----> 1\u001b[1;33m \u001b[0mlogreg\u001b[0m \u001b[1;33m=\u001b[0m \u001b[0mLogisticRegression\u001b[0m\u001b[1;33m(\u001b[0m\u001b[1;33m)\u001b[0m\u001b[1;33m\u001b[0m\u001b[1;33m\u001b[0m\u001b[0m\n\u001b[0m\u001b[0;32m      2\u001b[0m \u001b[0mlogreg_model\u001b[0m \u001b[1;33m=\u001b[0m \u001b[0mgrid_search_model\u001b[0m\u001b[1;33m(\u001b[0m\u001b[0mlogreg\u001b[0m\u001b[1;33m,\u001b[0m \u001b[0mdataset\u001b[0m\u001b[1;33m,\u001b[0m \u001b[0mgrid_settings\u001b[0m\u001b[1;33m)\u001b[0m\u001b[1;33m\u001b[0m\u001b[1;33m\u001b[0m\u001b[0m\n",
      "\u001b[1;31mNameError\u001b[0m: name 'LogisticRegression' is not defined"
     ]
    }
   ],
   "source": [
    "logreg = LogisticRegression()\n",
    "logreg_model = grid_search_model(logreg, dataset, grid_settings)"
   ]
  },
  {
   "cell_type": "code",
   "execution_count": 5,
   "metadata": {},
   "outputs": [
    {
     "ename": "NameError",
     "evalue": "name 'logreg_model' is not defined",
     "output_type": "error",
     "traceback": [
      "\u001b[1;31m---------------------------------------------------------------------------\u001b[0m",
      "\u001b[1;31mNameError\u001b[0m                                 Traceback (most recent call last)",
      "\u001b[1;32m<ipython-input-5-c28d1b0af90c>\u001b[0m in \u001b[0;36m<module>\u001b[1;34m\u001b[0m\n\u001b[1;32m----> 1\u001b[1;33m \u001b[0mlogreg_model\u001b[0m\u001b[1;33m.\u001b[0m\u001b[0mfit\u001b[0m\u001b[1;33m(\u001b[0m\u001b[0mx_train_2\u001b[0m\u001b[1;33m,\u001b[0m \u001b[0my_train_2\u001b[0m\u001b[1;33m)\u001b[0m\u001b[1;33m\u001b[0m\u001b[1;33m\u001b[0m\u001b[0m\n\u001b[0m\u001b[0;32m      2\u001b[0m \u001b[0mevaluate\u001b[0m\u001b[1;33m(\u001b[0m\u001b[0mlogreg_model\u001b[0m\u001b[1;33m,\u001b[0m \u001b[0mx_test_2\u001b[0m\u001b[1;33m,\u001b[0m \u001b[0my_test_2\u001b[0m\u001b[1;33m)\u001b[0m\u001b[1;33m\u001b[0m\u001b[1;33m\u001b[0m\u001b[0m\n",
      "\u001b[1;31mNameError\u001b[0m: name 'logreg_model' is not defined"
     ]
    }
   ],
   "source": [
    "logreg_model.fit(x_train_2, y_train_2)\n",
    "evaluate(logreg_model, x_test_2, y_test_2)"
   ]
  },
  {
   "cell_type": "markdown",
   "metadata": {},
   "source": [
    "## SVC"
   ]
  },
  {
   "cell_type": "code",
   "execution_count": 114,
   "metadata": {},
   "outputs": [],
   "source": [
    "grid_settings = {\n",
    "    \"cv\": 5, # number of folds\n",
    "    \"n_jobs\": -1, # processors to use during grid search\n",
    "    \"grid_params\":{\n",
    "        \"C\": [0.1, 1,10,100,1000],\n",
    "        \"kernel\": [\"linear\", \"rbf\", \"sigmoid\"]\n",
    "    }\n",
    "}"
   ]
  },
  {
   "cell_type": "code",
   "execution_count": 115,
   "metadata": {},
   "outputs": [
    {
     "name": "stdout",
     "output_type": "stream",
     "text": [
      "Fitting 5 folds for each of 15 candidates, totalling 75 fits\n"
     ]
    },
    {
     "name": "stderr",
     "output_type": "stream",
     "text": [
      "[Parallel(n_jobs=-1)]: Using backend LokyBackend with 12 concurrent workers.\n",
      "[Parallel(n_jobs=-1)]: Done  17 tasks      | elapsed:    1.0s\n",
      "[Parallel(n_jobs=-1)]: Done  75 out of  75 | elapsed:    2.7s finished\n"
     ]
    }
   ],
   "source": [
    "svc = SVC()\n",
    "svc_model = grid_search_model(svc, dataset, grid_settings)"
   ]
  },
  {
   "cell_type": "code",
   "execution_count": 116,
   "metadata": {},
   "outputs": [
    {
     "data": {
      "text/plain": [
       "(0.7590361445783133,\n",
       " 0.7590361445783133,\n",
       " 0.7590361445783133,\n",
       " array([[63,  0,  0],\n",
       "        [10,  0,  0],\n",
       "        [10,  0,  0]], dtype=int64))"
      ]
     },
     "execution_count": 116,
     "metadata": {},
     "output_type": "execute_result"
    }
   ],
   "source": [
    "svc_model.fit(x_train_2, y_train_2)\n",
    "evaluate(svc_model, x_test_2, y_test_2)"
   ]
  },
  {
   "cell_type": "markdown",
   "metadata": {},
   "source": [
    "### Create random search"
   ]
  },
  {
   "cell_type": "code",
   "execution_count": null,
   "metadata": {},
   "outputs": [],
   "source": [
    "\n",
    "rfc = RandomForestClassifier()\n",
    "\n",
    "rf_random = RandomizedSearchCV(estimator=rfc,\n",
    "                              param_distributions=random_grid,\n",
    "                              n_iter=100,\n",
    "                              cv = 3,\n",
    "                              verbose=2,\n",
    "                              random_state=42,\n",
    "                              n_jobs=-1)\n",
    "\n",
    "rf_random.fit(x_train_2, y_train_2)"
   ]
  },
  {
   "cell_type": "code",
   "execution_count": null,
   "metadata": {},
   "outputs": [],
   "source": []
  },
  {
   "cell_type": "code",
   "execution_count": null,
   "metadata": {},
   "outputs": [],
   "source": []
  },
  {
   "cell_type": "code",
   "execution_count": null,
   "metadata": {},
   "outputs": [],
   "source": [
    "base_model = RandomForestClassifier(random_state=4)\n",
    "base_model.fit(x_train_2, y_train_2)\n",
    "base_accuracy = evaluate(base_model, x_test_2, y_test_2)\n",
    "print(\"==========================\")\n",
    "best_random = rf_random.best_estimator_\n",
    "random_accuracy = evaluate(best_random, x_test_2, y_test_2)"
   ]
  },
  {
   "cell_type": "code",
   "execution_count": null,
   "metadata": {},
   "outputs": [],
   "source": [
    "base_model.n_estimators"
   ]
  },
  {
   "cell_type": "code",
   "execution_count": null,
   "metadata": {
    "scrolled": true
   },
   "outputs": [],
   "source": [
    "rf_random.best_params_"
   ]
  },
  {
   "cell_type": "markdown",
   "metadata": {},
   "source": [
    "#### Create gridsearch params from best values in random search"
   ]
  },
  {
   "cell_type": "code",
   "execution_count": null,
   "metadata": {},
   "outputs": [],
   "source": [
    "param_grid = {\n",
    "    'bootstrap': [True],\n",
    "    'max_depth': [80, 100, 110],\n",
    "    'max_features': [2, 3, 'sqrt'],\n",
    "    'min_samples_leaf': [3, 4, 5],\n",
    "    'min_samples_split': [2,3,4],\n",
    "    'n_estimators': [1400, 1600, 2500]\n",
    "}"
   ]
  },
  {
   "cell_type": "code",
   "execution_count": null,
   "metadata": {},
   "outputs": [],
   "source": [
    "#n = np.linspace(0.8 * rf_random.best_params_[\"n_estimators\"], 1.2 * rf_random.best_params_[\"n_estimators\"], num=5)\n",
    "#ms = np.linspace(0.7 * rf_random.best_params_[\"min_samples_split\"], 1.3 * rf_random.best_params_[\"min_samples_split\"], num=3)\n",
    "#ml = np.linspace(0.8 * rf_random.best_params_[\"min_samples_leaf\"], 1.2 * rf_random.best_params_[\"min_samples_leaf\"], num=4)\n",
    "#*md = np.linspace(0.8 * rf_random.best_params_[\"max_depth\"], 1.2 * rf_random.best_params_[\"max_depth\"], num=4)"
   ]
  },
  {
   "cell_type": "code",
   "execution_count": null,
   "metadata": {},
   "outputs": [],
   "source": [
    "# Create the parameter grid based on the results of random search \n",
    "# Create a based model\n",
    "\n",
    "rf = RandomForestClassifier()# Instantiate the grid search model\n",
    "grid_search = GridSearchCV(estimator = rf, param_grid = param_grid, \n",
    "                          cv = 3, n_jobs = -1, verbose = 2)\n",
    "grid_search.fit(x_train_2, y_train_2)"
   ]
  },
  {
   "cell_type": "code",
   "execution_count": null,
   "metadata": {},
   "outputs": [],
   "source": [
    "grid_search.fit(x_train_2, y_train_2)\n",
    "\n",
    "grid_search.best_params_"
   ]
  },
  {
   "cell_type": "code",
   "execution_count": null,
   "metadata": {},
   "outputs": [],
   "source": [
    "best_grid = grid_search.best_estimator_\n",
    "grid_accuracy = evaluate(best_grid, x_test_2, y_test_2)"
   ]
  },
  {
   "cell_type": "code",
   "execution_count": null,
   "metadata": {},
   "outputs": [],
   "source": [
    "best_grid_model = best_grid"
   ]
  },
  {
   "cell_type": "code",
   "execution_count": null,
   "metadata": {},
   "outputs": [],
   "source": [
    "best_grid_model.fit(x_train_2, y_train_2)\n",
    "model_output = evaluate(best_grid_model, x_test_2, y_test_2)"
   ]
  },
  {
   "cell_type": "code",
   "execution_count": null,
   "metadata": {},
   "outputs": [],
   "source": [
    "model_output"
   ]
  },
  {
   "cell_type": "code",
   "execution_count": null,
   "metadata": {},
   "outputs": [],
   "source": [
    "bootstrap = grid_search.best_params_[\"bootstrap\"]\n",
    "max_depth = grid_search.best_params_[\"max_depth\"]\n",
    "max_features = grid_search.best_params_[\"max_features\"]\n",
    "min_samples_leaf = grid_search.best_params_[\"min_samples_leaf\"]\n",
    "min_samples_split = grid_search.best_params_[\"min_samples_split\"]\n",
    "n_estimators = grid_search.best_params_[\"n_estimators\"]"
   ]
  },
  {
   "cell_type": "code",
   "execution_count": null,
   "metadata": {},
   "outputs": [],
   "source": [
    "rfc = RandomForestClassifier(bootstrap=bootstrap, \n",
    "                             max_depth=max_depth, \n",
    "                             max_features=max_features, \n",
    "                             min_samples_leaf=min_samples_leaf,\n",
    "                            min_samples_split=min_samples_split,\n",
    "                            n_estimators=n_estimators)\n",
    "rfc.fit(x_train_2, y_train_2)\n",
    "model_output = evaluate(rfc, x_test_2, y_test_2)"
   ]
  },
  {
   "cell_type": "code",
   "execution_count": null,
   "metadata": {},
   "outputs": [],
   "source": [
    "model_output[3]"
   ]
  },
  {
   "cell_type": "code",
   "execution_count": null,
   "metadata": {},
   "outputs": [],
   "source": []
  },
  {
   "cell_type": "code",
   "execution_count": null,
   "metadata": {},
   "outputs": [],
   "source": [
    "{'bootstrap': True,\n",
    " 'max_depth': 70,\n",
    " 'max_features': 'auto',\n",
    " 'min_samples_leaf': 4,\n",
    " 'min_samples_split': 10,\n",
    " 'n_estimators': 400}"
   ]
  },
  {
   "cell_type": "markdown",
   "metadata": {},
   "source": [
    "## random forest"
   ]
  },
  {
   "cell_type": "code",
   "execution_count": null,
   "metadata": {},
   "outputs": [],
   "source": [
    "y_train"
   ]
  },
  {
   "cell_type": "code",
   "execution_count": null,
   "metadata": {
    "scrolled": true
   },
   "outputs": [],
   "source": [
    "\n",
    "\n",
    "clf = RandomForestClassifier(max_depth=5, \n",
    "                             random_state=0, \n",
    "                             n_estimators=100,\n",
    "                             class_weight=\"balanced\"\n",
    "                             #class_weight=\"[{0: 1, 1: 1}, {0: 1, 1: 1}, {0: 1, 1: 0}]\"\n",
    "                            )\n",
    "clf.fit(x_train_2,y_train_2)\n",
    "predict = clf.predict(x_test_2)"
   ]
  },
  {
   "cell_type": "code",
   "execution_count": null,
   "metadata": {
    "scrolled": true
   },
   "outputs": [],
   "source": [
    "predict"
   ]
  },
  {
   "cell_type": "code",
   "execution_count": null,
   "metadata": {},
   "outputs": [],
   "source": [
    "def svc(x_train, y_train, x_test, y_test):\n",
    "    tuned_parameters = [{'kernel': ['rbf'], 'gamma': [1e-3, 1e-4, 0.06, 'scale'],\n",
    "                     'C': [1, 10, 15, 100, 1000]},\n",
    "                    {'kernel': ['linear'], 'C': [1, 10, 100, 1000, 10000]}]\n",
    "    scores = ['precision', 'recall']\n",
    "    \n",
    "    for score in scores:\n",
    "        print(\"# Tuning hyper-parameters for %s\" % score)\n",
    "        print()\n",
    "\n",
    "        clf = GridSearchCV(\n",
    "            SVC(max_iter=10000, random_state=5, class_weight=\"balanced\", decision_function_shape='ovo'), \n",
    "            tuned_parameters, \n",
    "            scoring='%s_macro' % score,\n",
    "            cv = 5\n",
    "        )\n",
    "        clf.fit(x_train, y_train)\n",
    "\n",
    "        print(\"Best parameters set found on development set:\")\n",
    "        print()\n",
    "        print(clf.best_params_)\n",
    "        print()\n",
    "        print(\"Grid scores on development set:\")\n",
    "        print()\n",
    "        means = clf.cv_results_['mean_test_score']\n",
    "        stds = clf.cv_results_['std_test_score']\n",
    "        for mean, std, params in zip(means, stds, clf.cv_results_['params']):\n",
    "            print(\"%0.3f (+/-%0.03f) for %r\"\n",
    "                  % (mean, std * 2, params))\n",
    "        print()\n",
    "\n",
    "        print(\"Detailed classification report:\")\n",
    "        print()\n",
    "        print(\"The model is trained on the full development set.\")\n",
    "        print(\"The scores are computed on the full evaluation set.\")\n",
    "        print()\n",
    "        y_true, y_pred = y_test, clf.predict(x_test)\n",
    "        print(classification_report(y_true, y_pred))\n",
    "        print(y_pred)\n",
    "        return y_true, y_pred"
   ]
  },
  {
   "cell_type": "code",
   "execution_count": null,
   "metadata": {
    "scrolled": true
   },
   "outputs": [],
   "source": [
    "y_true, y_pred = svc(x_train, y_train_2, x_test, y_test_2)"
   ]
  },
  {
   "cell_type": "code",
   "execution_count": null,
   "metadata": {},
   "outputs": [],
   "source": [
    "#data_eurusd = pd.read_csv(\"../EURUSD1m.csv\")\n",
    "data_mock = pd.read_csv(\"../MockData.csv\")"
   ]
  },
  {
   "cell_type": "code",
   "execution_count": null,
   "metadata": {},
   "outputs": [],
   "source": [
    "data_eurusd.head()"
   ]
  },
  {
   "cell_type": "code",
   "execution_count": null,
   "metadata": {},
   "outputs": [],
   "source": [
    "data_lstm = features.split(dataset, 'lstm', settings['ensemble']['models'][1]['lstm'])"
   ]
  },
  {
   "cell_type": "code",
   "execution_count": null,
   "metadata": {},
   "outputs": [],
   "source": []
  },
  {
   "cell_type": "code",
   "execution_count": null,
   "metadata": {},
   "outputs": [],
   "source": [
    "os.chdir(\"..\")\n",
    "import Models"
   ]
  }
 ],
 "metadata": {
  "kernelspec": {
   "display_name": "Python 3",
   "language": "python",
   "name": "python3"
  },
  "language_info": {
   "codemirror_mode": {
    "name": "ipython",
    "version": 3
   },
   "file_extension": ".py",
   "mimetype": "text/x-python",
   "name": "python",
   "nbconvert_exporter": "python",
   "pygments_lexer": "ipython3",
   "version": "3.8.3"
  }
 },
 "nbformat": 4,
 "nbformat_minor": 2
}
