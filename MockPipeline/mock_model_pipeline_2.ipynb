{
 "cells": [
  {
   "cell_type": "code",
   "execution_count": 1,
   "metadata": {
    "scrolled": false
   },
   "outputs": [],
   "source": [
    "#!pip install ipynb --upgrade"
   ]
  },
  {
   "cell_type": "code",
   "execution_count": 2,
   "metadata": {},
   "outputs": [],
   "source": [
    "#!pip install --upgrade pip"
   ]
  },
  {
   "cell_type": "code",
   "execution_count": 3,
   "metadata": {
    "scrolled": true
   },
   "outputs": [],
   "source": [
    "#!pip install keras-tcn\n",
    "#!pip install tensorflow\n",
    "#!pip install ipynb\n",
    "#!pip install plotly"
   ]
  },
  {
   "cell_type": "code",
   "execution_count": 4,
   "metadata": {},
   "outputs": [],
   "source": [
    "import pickle\n",
    "import time\n",
    "import os\n",
    "import yaml\n",
    "import sys\n",
    "import pandas as pd\n",
    "import numpy as np\n",
    "from sklearn.model_selection import TimeSeriesSplit\n",
    "sys.path.append('C:/Users/Alex-/Desktop/Beslutsstödssystem/models-decision-system')\n",
    "os.chdir(\"..\")\n",
    "import Decision\n",
    "import Models\n",
    "\n",
    "os.chdir(\"MockPipeline\")\n",
    "\n",
    "os.chdir(\"../../pipeline\")\n",
    "import ipynb.fs.full.processing as processing\n",
    "import ipynb.fs.full.features as features\n",
    "import ipynb.fs.full.training as training\n",
    "import ipynb.fs.full.analysis as analysis\n",
    "import ipynb.fs.full.storage as storage\n",
    "import ipynb.fs.full.visualize as visualize\n",
    "os.chdir(\"../models-decision-system/MockPipeline\")"
   ]
  },
  {
   "cell_type": "code",
   "execution_count": 5,
   "metadata": {},
   "outputs": [],
   "source": [
    "import os"
   ]
  },
  {
   "cell_type": "code",
   "execution_count": 6,
   "metadata": {},
   "outputs": [],
   "source": [
    "def load_yaml(path):\n",
    "    with open(path, mode='r') as file:\n",
    "        return yaml.load(file, Loader=yaml.FullLoader)"
   ]
  },
  {
   "cell_type": "code",
   "execution_count": 7,
   "metadata": {},
   "outputs": [],
   "source": [
    "settings = load_yaml('mock_settings.yaml')"
   ]
  },
  {
   "cell_type": "code",
   "execution_count": 8,
   "metadata": {},
   "outputs": [],
   "source": [
    "dataframe = processing.create_dataframe(settings)"
   ]
  },
  {
   "cell_type": "markdown",
   "metadata": {},
   "source": [
    "dataset = features.add(dataframe, settings['features'])"
   ]
  },
  {
   "cell_type": "markdown",
   "metadata": {
    "scrolled": true
   },
   "source": [
    "dataset"
   ]
  },
  {
   "cell_type": "markdown",
   "metadata": {},
   "source": [
    "data_linreg = features.split(dataset, 'linreg', settings['ensemble']['models'][0]['linreg'])"
   ]
  },
  {
   "cell_type": "markdown",
   "metadata": {},
   "source": [
    "linreg = Models.train_model(data_linreg, 'linreg', settings['ensemble']['models'][0])"
   ]
  },
  {
   "cell_type": "markdown",
   "metadata": {},
   "source": [
    "data_lstm = features.split(dataset, 'lstm', settings['ensemble']['models'][1]['lstm'])"
   ]
  },
  {
   "cell_type": "markdown",
   "metadata": {},
   "source": [
    "settings['ensemble']['models'][1]['lstm']['layers']"
   ]
  },
  {
   "cell_type": "markdown",
   "metadata": {
    "scrolled": true
   },
   "source": [
    "lstm = Models.train_model(data_lstm, 'lstm', settings['ensemble']['models'][1]['lstm'])"
   ]
  },
  {
   "cell_type": "markdown",
   "metadata": {},
   "source": [
    "from sklearn.svm import LinearSVC\n",
    "from sklearn.pipeline import make_pipeline\n",
    "from sklearn.model_selection import TimeSeriesSplit\n",
    "import numpy as np\n",
    "from sklearn import preprocessing\n",
    "from sklearn import utils"
   ]
  },
  {
   "cell_type": "code",
   "execution_count": 9,
   "metadata": {},
   "outputs": [],
   "source": [
    "df = pd.read_csv(\"../MockData.csv\")\n",
    "df_dec = pd.read_csv(\"../decision.csv\")"
   ]
  },
  {
   "cell_type": "code",
   "execution_count": 10,
   "metadata": {},
   "outputs": [],
   "source": [
    "df_dec = df_dec.set_index(\"DateTime\")\n",
    "df = df.set_index(\"DateTime\")"
   ]
  },
  {
   "cell_type": "code",
   "execution_count": 11,
   "metadata": {},
   "outputs": [],
   "source": [
    "from sklearn.svm import SVC, LinearSVC\n",
    "from sklearn.model_selection import train_test_split"
   ]
  },
  {
   "cell_type": "code",
   "execution_count": 12,
   "metadata": {
    "scrolled": true
   },
   "outputs": [
    {
     "data": {
      "text/html": [
       "<div>\n",
       "<style scoped>\n",
       "    .dataframe tbody tr th:only-of-type {\n",
       "        vertical-align: middle;\n",
       "    }\n",
       "\n",
       "    .dataframe tbody tr th {\n",
       "        vertical-align: top;\n",
       "    }\n",
       "\n",
       "    .dataframe thead th {\n",
       "        text-align: right;\n",
       "    }\n",
       "</style>\n",
       "<table border=\"1\" class=\"dataframe\">\n",
       "  <thead>\n",
       "    <tr style=\"text-align: right;\">\n",
       "      <th></th>\n",
       "      <th>Close</th>\n",
       "      <th>RoC</th>\n",
       "      <th>S%D</th>\n",
       "      <th>PSY12</th>\n",
       "      <th>ASY5</th>\n",
       "    </tr>\n",
       "    <tr>\n",
       "      <th>DateTime</th>\n",
       "      <th></th>\n",
       "      <th></th>\n",
       "      <th></th>\n",
       "      <th></th>\n",
       "      <th></th>\n",
       "    </tr>\n",
       "  </thead>\n",
       "  <tbody>\n",
       "    <tr>\n",
       "      <th>2010-01-27</th>\n",
       "      <td>0.817467</td>\n",
       "      <td>0.279074</td>\n",
       "      <td>0.239967</td>\n",
       "      <td>0.272727</td>\n",
       "      <td>0.452398</td>\n",
       "    </tr>\n",
       "    <tr>\n",
       "      <th>2010-01-28</th>\n",
       "      <td>0.802634</td>\n",
       "      <td>0.256945</td>\n",
       "      <td>0.173515</td>\n",
       "      <td>0.272727</td>\n",
       "      <td>0.376690</td>\n",
       "    </tr>\n",
       "    <tr>\n",
       "      <th>2010-01-29</th>\n",
       "      <td>0.779823</td>\n",
       "      <td>0.260848</td>\n",
       "      <td>0.136936</td>\n",
       "      <td>0.272727</td>\n",
       "      <td>0.291014</td>\n",
       "    </tr>\n",
       "    <tr>\n",
       "      <th>2010-01-31</th>\n",
       "      <td>0.782677</td>\n",
       "      <td>0.276472</td>\n",
       "      <td>0.108876</td>\n",
       "      <td>0.363636</td>\n",
       "      <td>0.304610</td>\n",
       "    </tr>\n",
       "    <tr>\n",
       "      <th>2010-02-01</th>\n",
       "      <td>0.793195</td>\n",
       "      <td>0.281944</td>\n",
       "      <td>0.078999</td>\n",
       "      <td>0.363636</td>\n",
       "      <td>0.385942</td>\n",
       "    </tr>\n",
       "    <tr>\n",
       "      <th>...</th>\n",
       "      <td>...</td>\n",
       "      <td>...</td>\n",
       "      <td>...</td>\n",
       "      <td>...</td>\n",
       "      <td>...</td>\n",
       "    </tr>\n",
       "    <tr>\n",
       "      <th>2019-12-26</th>\n",
       "      <td>0.159700</td>\n",
       "      <td>0.475611</td>\n",
       "      <td>0.395299</td>\n",
       "      <td>0.727273</td>\n",
       "      <td>0.525453</td>\n",
       "    </tr>\n",
       "    <tr>\n",
       "      <th>2019-12-27</th>\n",
       "      <td>0.175454</td>\n",
       "      <td>0.565530</td>\n",
       "      <td>0.421044</td>\n",
       "      <td>0.818182</td>\n",
       "      <td>0.586624</td>\n",
       "    </tr>\n",
       "    <tr>\n",
       "      <th>2019-12-29</th>\n",
       "      <td>0.177701</td>\n",
       "      <td>0.567630</td>\n",
       "      <td>0.451166</td>\n",
       "      <td>0.818182</td>\n",
       "      <td>0.585169</td>\n",
       "    </tr>\n",
       "    <tr>\n",
       "      <th>2019-12-30</th>\n",
       "      <td>0.182196</td>\n",
       "      <td>0.573355</td>\n",
       "      <td>0.476617</td>\n",
       "      <td>0.818182</td>\n",
       "      <td>0.607446</td>\n",
       "    </tr>\n",
       "    <tr>\n",
       "      <th>2019-12-31</th>\n",
       "      <td>0.188129</td>\n",
       "      <td>0.580239</td>\n",
       "      <td>0.504131</td>\n",
       "      <td>0.818182</td>\n",
       "      <td>0.624929</td>\n",
       "    </tr>\n",
       "  </tbody>\n",
       "</table>\n",
       "<p>3106 rows × 5 columns</p>\n",
       "</div>"
      ],
      "text/plain": [
       "               Close       RoC       S%D     PSY12      ASY5\n",
       "DateTime                                                    \n",
       "2010-01-27  0.817467  0.279074  0.239967  0.272727  0.452398\n",
       "2010-01-28  0.802634  0.256945  0.173515  0.272727  0.376690\n",
       "2010-01-29  0.779823  0.260848  0.136936  0.272727  0.291014\n",
       "2010-01-31  0.782677  0.276472  0.108876  0.363636  0.304610\n",
       "2010-02-01  0.793195  0.281944  0.078999  0.363636  0.385942\n",
       "...              ...       ...       ...       ...       ...\n",
       "2019-12-26  0.159700  0.475611  0.395299  0.727273  0.525453\n",
       "2019-12-27  0.175454  0.565530  0.421044  0.818182  0.586624\n",
       "2019-12-29  0.177701  0.567630  0.451166  0.818182  0.585169\n",
       "2019-12-30  0.182196  0.573355  0.476617  0.818182  0.607446\n",
       "2019-12-31  0.188129  0.580239  0.504131  0.818182  0.624929\n",
       "\n",
       "[3106 rows x 5 columns]"
      ]
     },
     "execution_count": 12,
     "metadata": {},
     "output_type": "execute_result"
    }
   ],
   "source": [
    "df"
   ]
  },
  {
   "cell_type": "code",
   "execution_count": 13,
   "metadata": {
    "scrolled": true
   },
   "outputs": [
    {
     "data": {
      "text/html": [
       "<div>\n",
       "<style scoped>\n",
       "    .dataframe tbody tr th:only-of-type {\n",
       "        vertical-align: middle;\n",
       "    }\n",
       "\n",
       "    .dataframe tbody tr th {\n",
       "        vertical-align: top;\n",
       "    }\n",
       "\n",
       "    .dataframe thead th {\n",
       "        text-align: right;\n",
       "    }\n",
       "</style>\n",
       "<table border=\"1\" class=\"dataframe\">\n",
       "  <thead>\n",
       "    <tr style=\"text-align: right;\">\n",
       "      <th></th>\n",
       "      <th>Forecast</th>\n",
       "      <th>Actual</th>\n",
       "      <th>f_momentum</th>\n",
       "      <th>a_momentum</th>\n",
       "      <th>Invest next day</th>\n",
       "    </tr>\n",
       "    <tr>\n",
       "      <th>DateTime</th>\n",
       "      <th></th>\n",
       "      <th></th>\n",
       "      <th></th>\n",
       "      <th></th>\n",
       "      <th></th>\n",
       "    </tr>\n",
       "  </thead>\n",
       "  <tbody>\n",
       "    <tr>\n",
       "      <th>2018-05-22</th>\n",
       "      <td>0.330828</td>\n",
       "      <td>0.296319</td>\n",
       "      <td>NaN</td>\n",
       "      <td>NaN</td>\n",
       "      <td>Hold</td>\n",
       "    </tr>\n",
       "    <tr>\n",
       "      <th>2018-05-23</th>\n",
       "      <td>0.333239</td>\n",
       "      <td>0.299195</td>\n",
       "      <td>NaN</td>\n",
       "      <td>NaN</td>\n",
       "      <td>Hold</td>\n",
       "    </tr>\n",
       "    <tr>\n",
       "      <th>2018-05-24</th>\n",
       "      <td>0.328026</td>\n",
       "      <td>0.282542</td>\n",
       "      <td>-0.002801</td>\n",
       "      <td>-0.013777</td>\n",
       "      <td>Sell</td>\n",
       "    </tr>\n",
       "    <tr>\n",
       "      <th>2018-05-25</th>\n",
       "      <td>0.322993</td>\n",
       "      <td>0.291667</td>\n",
       "      <td>-0.010246</td>\n",
       "      <td>-0.007529</td>\n",
       "      <td>Hold</td>\n",
       "    </tr>\n",
       "    <tr>\n",
       "      <th>2018-05-27</th>\n",
       "      <td>0.310946</td>\n",
       "      <td>0.277665</td>\n",
       "      <td>-0.017081</td>\n",
       "      <td>-0.004877</td>\n",
       "      <td>Buy</td>\n",
       "    </tr>\n",
       "    <tr>\n",
       "      <th>...</th>\n",
       "      <td>...</td>\n",
       "      <td>...</td>\n",
       "      <td>...</td>\n",
       "      <td>...</td>\n",
       "      <td>...</td>\n",
       "    </tr>\n",
       "    <tr>\n",
       "      <th>2019-12-24</th>\n",
       "      <td>0.168590</td>\n",
       "      <td>0.158172</td>\n",
       "      <td>-0.001180</td>\n",
       "      <td>0.000607</td>\n",
       "      <td>Hold</td>\n",
       "    </tr>\n",
       "    <tr>\n",
       "      <th>2019-12-25</th>\n",
       "      <td>0.167789</td>\n",
       "      <td>0.159700</td>\n",
       "      <td>-0.000904</td>\n",
       "      <td>0.003124</td>\n",
       "      <td>Hold</td>\n",
       "    </tr>\n",
       "    <tr>\n",
       "      <th>2019-12-26</th>\n",
       "      <td>0.166317</td>\n",
       "      <td>0.175454</td>\n",
       "      <td>-0.002273</td>\n",
       "      <td>0.017282</td>\n",
       "      <td>Hold</td>\n",
       "    </tr>\n",
       "    <tr>\n",
       "      <th>2019-12-27</th>\n",
       "      <td>0.165540</td>\n",
       "      <td>0.177701</td>\n",
       "      <td>-0.002249</td>\n",
       "      <td>0.018002</td>\n",
       "      <td>Buy</td>\n",
       "    </tr>\n",
       "    <tr>\n",
       "      <th>2019-12-29</th>\n",
       "      <td>0.173773</td>\n",
       "      <td>0.182196</td>\n",
       "      <td>0.007456</td>\n",
       "      <td>0.006742</td>\n",
       "      <td>Hold</td>\n",
       "    </tr>\n",
       "  </tbody>\n",
       "</table>\n",
       "<p>503 rows × 5 columns</p>\n",
       "</div>"
      ],
      "text/plain": [
       "            Forecast    Actual  f_momentum  a_momentum Invest next day\n",
       "DateTime                                                              \n",
       "2018-05-22  0.330828  0.296319         NaN         NaN            Hold\n",
       "2018-05-23  0.333239  0.299195         NaN         NaN            Hold\n",
       "2018-05-24  0.328026  0.282542   -0.002801   -0.013777            Sell\n",
       "2018-05-25  0.322993  0.291667   -0.010246   -0.007529            Hold\n",
       "2018-05-27  0.310946  0.277665   -0.017081   -0.004877             Buy\n",
       "...              ...       ...         ...         ...             ...\n",
       "2019-12-24  0.168590  0.158172   -0.001180    0.000607            Hold\n",
       "2019-12-25  0.167789  0.159700   -0.000904    0.003124            Hold\n",
       "2019-12-26  0.166317  0.175454   -0.002273    0.017282            Hold\n",
       "2019-12-27  0.165540  0.177701   -0.002249    0.018002             Buy\n",
       "2019-12-29  0.173773  0.182196    0.007456    0.006742            Hold\n",
       "\n",
       "[503 rows x 5 columns]"
      ]
     },
     "execution_count": 13,
     "metadata": {},
     "output_type": "execute_result"
    }
   ],
   "source": [
    "df_dec"
   ]
  },
  {
   "cell_type": "code",
   "execution_count": null,
   "metadata": {},
   "outputs": [],
   "source": []
  },
  {
   "cell_type": "code",
   "execution_count": 14,
   "metadata": {},
   "outputs": [],
   "source": [
    "col = \"Invest next day\"\n",
    "conditions = [df_dec[col] == \"Buy\"]\n",
    "choices = [\"1\"]\n",
    "df_dec[\"buy\"] = np.select(conditions, choices, default=\"0\")\n",
    "conditions = [df_dec[col] == \"Sell\"]\n",
    "choices = [\"1\"]\n",
    "df_dec[\"sell\"] = np.select(conditions, choices, default=\"0\")\n",
    "conditions = [df_dec[col] == \"Hold\"]\n",
    "choices = [\"1\"]\n",
    "df_dec[\"hold\"] = np.select(conditions, choices, default=\"0\")"
   ]
  },
  {
   "cell_type": "code",
   "execution_count": 15,
   "metadata": {},
   "outputs": [
    {
     "data": {
      "text/html": [
       "<div>\n",
       "<style scoped>\n",
       "    .dataframe tbody tr th:only-of-type {\n",
       "        vertical-align: middle;\n",
       "    }\n",
       "\n",
       "    .dataframe tbody tr th {\n",
       "        vertical-align: top;\n",
       "    }\n",
       "\n",
       "    .dataframe thead th {\n",
       "        text-align: right;\n",
       "    }\n",
       "</style>\n",
       "<table border=\"1\" class=\"dataframe\">\n",
       "  <thead>\n",
       "    <tr style=\"text-align: right;\">\n",
       "      <th></th>\n",
       "      <th>Forecast</th>\n",
       "      <th>Actual</th>\n",
       "      <th>f_momentum</th>\n",
       "      <th>a_momentum</th>\n",
       "      <th>Invest next day</th>\n",
       "      <th>buy</th>\n",
       "      <th>sell</th>\n",
       "      <th>hold</th>\n",
       "    </tr>\n",
       "    <tr>\n",
       "      <th>DateTime</th>\n",
       "      <th></th>\n",
       "      <th></th>\n",
       "      <th></th>\n",
       "      <th></th>\n",
       "      <th></th>\n",
       "      <th></th>\n",
       "      <th></th>\n",
       "      <th></th>\n",
       "    </tr>\n",
       "  </thead>\n",
       "  <tbody>\n",
       "    <tr>\n",
       "      <th>2018-05-22</th>\n",
       "      <td>0.330828</td>\n",
       "      <td>0.296319</td>\n",
       "      <td>NaN</td>\n",
       "      <td>NaN</td>\n",
       "      <td>Hold</td>\n",
       "      <td>0</td>\n",
       "      <td>0</td>\n",
       "      <td>1</td>\n",
       "    </tr>\n",
       "    <tr>\n",
       "      <th>2018-05-23</th>\n",
       "      <td>0.333239</td>\n",
       "      <td>0.299195</td>\n",
       "      <td>NaN</td>\n",
       "      <td>NaN</td>\n",
       "      <td>Hold</td>\n",
       "      <td>0</td>\n",
       "      <td>0</td>\n",
       "      <td>1</td>\n",
       "    </tr>\n",
       "    <tr>\n",
       "      <th>2018-05-24</th>\n",
       "      <td>0.328026</td>\n",
       "      <td>0.282542</td>\n",
       "      <td>-0.002801</td>\n",
       "      <td>-0.013777</td>\n",
       "      <td>Sell</td>\n",
       "      <td>0</td>\n",
       "      <td>1</td>\n",
       "      <td>0</td>\n",
       "    </tr>\n",
       "    <tr>\n",
       "      <th>2018-05-25</th>\n",
       "      <td>0.322993</td>\n",
       "      <td>0.291667</td>\n",
       "      <td>-0.010246</td>\n",
       "      <td>-0.007529</td>\n",
       "      <td>Hold</td>\n",
       "      <td>0</td>\n",
       "      <td>0</td>\n",
       "      <td>1</td>\n",
       "    </tr>\n",
       "    <tr>\n",
       "      <th>2018-05-27</th>\n",
       "      <td>0.310946</td>\n",
       "      <td>0.277665</td>\n",
       "      <td>-0.017081</td>\n",
       "      <td>-0.004877</td>\n",
       "      <td>Buy</td>\n",
       "      <td>1</td>\n",
       "      <td>0</td>\n",
       "      <td>0</td>\n",
       "    </tr>\n",
       "    <tr>\n",
       "      <th>...</th>\n",
       "      <td>...</td>\n",
       "      <td>...</td>\n",
       "      <td>...</td>\n",
       "      <td>...</td>\n",
       "      <td>...</td>\n",
       "      <td>...</td>\n",
       "      <td>...</td>\n",
       "      <td>...</td>\n",
       "    </tr>\n",
       "    <tr>\n",
       "      <th>2019-12-24</th>\n",
       "      <td>0.168590</td>\n",
       "      <td>0.158172</td>\n",
       "      <td>-0.001180</td>\n",
       "      <td>0.000607</td>\n",
       "      <td>Hold</td>\n",
       "      <td>0</td>\n",
       "      <td>0</td>\n",
       "      <td>1</td>\n",
       "    </tr>\n",
       "    <tr>\n",
       "      <th>2019-12-25</th>\n",
       "      <td>0.167789</td>\n",
       "      <td>0.159700</td>\n",
       "      <td>-0.000904</td>\n",
       "      <td>0.003124</td>\n",
       "      <td>Hold</td>\n",
       "      <td>0</td>\n",
       "      <td>0</td>\n",
       "      <td>1</td>\n",
       "    </tr>\n",
       "    <tr>\n",
       "      <th>2019-12-26</th>\n",
       "      <td>0.166317</td>\n",
       "      <td>0.175454</td>\n",
       "      <td>-0.002273</td>\n",
       "      <td>0.017282</td>\n",
       "      <td>Hold</td>\n",
       "      <td>0</td>\n",
       "      <td>0</td>\n",
       "      <td>1</td>\n",
       "    </tr>\n",
       "    <tr>\n",
       "      <th>2019-12-27</th>\n",
       "      <td>0.165540</td>\n",
       "      <td>0.177701</td>\n",
       "      <td>-0.002249</td>\n",
       "      <td>0.018002</td>\n",
       "      <td>Buy</td>\n",
       "      <td>1</td>\n",
       "      <td>0</td>\n",
       "      <td>0</td>\n",
       "    </tr>\n",
       "    <tr>\n",
       "      <th>2019-12-29</th>\n",
       "      <td>0.173773</td>\n",
       "      <td>0.182196</td>\n",
       "      <td>0.007456</td>\n",
       "      <td>0.006742</td>\n",
       "      <td>Hold</td>\n",
       "      <td>0</td>\n",
       "      <td>0</td>\n",
       "      <td>1</td>\n",
       "    </tr>\n",
       "  </tbody>\n",
       "</table>\n",
       "<p>503 rows × 8 columns</p>\n",
       "</div>"
      ],
      "text/plain": [
       "            Forecast    Actual  f_momentum  a_momentum Invest next day buy  \\\n",
       "DateTime                                                                     \n",
       "2018-05-22  0.330828  0.296319         NaN         NaN            Hold   0   \n",
       "2018-05-23  0.333239  0.299195         NaN         NaN            Hold   0   \n",
       "2018-05-24  0.328026  0.282542   -0.002801   -0.013777            Sell   0   \n",
       "2018-05-25  0.322993  0.291667   -0.010246   -0.007529            Hold   0   \n",
       "2018-05-27  0.310946  0.277665   -0.017081   -0.004877             Buy   1   \n",
       "...              ...       ...         ...         ...             ...  ..   \n",
       "2019-12-24  0.168590  0.158172   -0.001180    0.000607            Hold   0   \n",
       "2019-12-25  0.167789  0.159700   -0.000904    0.003124            Hold   0   \n",
       "2019-12-26  0.166317  0.175454   -0.002273    0.017282            Hold   0   \n",
       "2019-12-27  0.165540  0.177701   -0.002249    0.018002             Buy   1   \n",
       "2019-12-29  0.173773  0.182196    0.007456    0.006742            Hold   0   \n",
       "\n",
       "           sell hold  \n",
       "DateTime              \n",
       "2018-05-22    0    1  \n",
       "2018-05-23    0    1  \n",
       "2018-05-24    1    0  \n",
       "2018-05-25    0    1  \n",
       "2018-05-27    0    0  \n",
       "...         ...  ...  \n",
       "2019-12-24    0    1  \n",
       "2019-12-25    0    1  \n",
       "2019-12-26    0    1  \n",
       "2019-12-27    0    0  \n",
       "2019-12-29    0    1  \n",
       "\n",
       "[503 rows x 8 columns]"
      ]
     },
     "execution_count": 15,
     "metadata": {},
     "output_type": "execute_result"
    }
   ],
   "source": [
    "df_dec"
   ]
  },
  {
   "cell_type": "code",
   "execution_count": 16,
   "metadata": {},
   "outputs": [],
   "source": [
    "df[\"buy\"] = df_dec[\"buy\"]\n",
    "df[\"sell\"] = df_dec[\"sell\"]\n",
    "df[\"hold\"] = df_dec[\"hold\"]"
   ]
  },
  {
   "cell_type": "code",
   "execution_count": 17,
   "metadata": {},
   "outputs": [
    {
     "data": {
      "text/html": [
       "<div>\n",
       "<style scoped>\n",
       "    .dataframe tbody tr th:only-of-type {\n",
       "        vertical-align: middle;\n",
       "    }\n",
       "\n",
       "    .dataframe tbody tr th {\n",
       "        vertical-align: top;\n",
       "    }\n",
       "\n",
       "    .dataframe thead th {\n",
       "        text-align: right;\n",
       "    }\n",
       "</style>\n",
       "<table border=\"1\" class=\"dataframe\">\n",
       "  <thead>\n",
       "    <tr style=\"text-align: right;\">\n",
       "      <th></th>\n",
       "      <th>Close</th>\n",
       "      <th>RoC</th>\n",
       "      <th>S%D</th>\n",
       "      <th>PSY12</th>\n",
       "      <th>ASY5</th>\n",
       "      <th>buy</th>\n",
       "      <th>sell</th>\n",
       "      <th>hold</th>\n",
       "    </tr>\n",
       "    <tr>\n",
       "      <th>DateTime</th>\n",
       "      <th></th>\n",
       "      <th></th>\n",
       "      <th></th>\n",
       "      <th></th>\n",
       "      <th></th>\n",
       "      <th></th>\n",
       "      <th></th>\n",
       "      <th></th>\n",
       "    </tr>\n",
       "  </thead>\n",
       "  <tbody>\n",
       "    <tr>\n",
       "      <th>2018-05-22</th>\n",
       "      <td>0.314006</td>\n",
       "      <td>0.480472</td>\n",
       "      <td>0.194738</td>\n",
       "      <td>0.363636</td>\n",
       "      <td>0.479935</td>\n",
       "      <td>0</td>\n",
       "      <td>0</td>\n",
       "      <td>1</td>\n",
       "    </tr>\n",
       "    <tr>\n",
       "      <th>2018-05-23</th>\n",
       "      <td>0.296319</td>\n",
       "      <td>0.444085</td>\n",
       "      <td>0.198627</td>\n",
       "      <td>0.363636</td>\n",
       "      <td>0.432865</td>\n",
       "      <td>0</td>\n",
       "      <td>0</td>\n",
       "      <td>1</td>\n",
       "    </tr>\n",
       "    <tr>\n",
       "      <th>2018-05-24</th>\n",
       "      <td>0.299195</td>\n",
       "      <td>0.411007</td>\n",
       "      <td>0.185304</td>\n",
       "      <td>0.363636</td>\n",
       "      <td>0.462282</td>\n",
       "      <td>0</td>\n",
       "      <td>1</td>\n",
       "      <td>0</td>\n",
       "    </tr>\n",
       "    <tr>\n",
       "      <th>2018-05-25</th>\n",
       "      <td>0.282542</td>\n",
       "      <td>0.349541</td>\n",
       "      <td>0.151715</td>\n",
       "      <td>0.272727</td>\n",
       "      <td>0.400889</td>\n",
       "      <td>0</td>\n",
       "      <td>0</td>\n",
       "      <td>1</td>\n",
       "    </tr>\n",
       "    <tr>\n",
       "      <th>2018-05-27</th>\n",
       "      <td>0.291667</td>\n",
       "      <td>0.366831</td>\n",
       "      <td>0.125065</td>\n",
       "      <td>0.272727</td>\n",
       "      <td>0.414903</td>\n",
       "      <td>1</td>\n",
       "      <td>0</td>\n",
       "      <td>0</td>\n",
       "    </tr>\n",
       "    <tr>\n",
       "      <th>...</th>\n",
       "      <td>...</td>\n",
       "      <td>...</td>\n",
       "      <td>...</td>\n",
       "      <td>...</td>\n",
       "      <td>...</td>\n",
       "      <td>...</td>\n",
       "      <td>...</td>\n",
       "      <td>...</td>\n",
       "    </tr>\n",
       "    <tr>\n",
       "      <th>2019-12-24</th>\n",
       "      <td>0.156576</td>\n",
       "      <td>0.526441</td>\n",
       "      <td>0.519878</td>\n",
       "      <td>0.727273</td>\n",
       "      <td>0.477280</td>\n",
       "      <td>0</td>\n",
       "      <td>0</td>\n",
       "      <td>1</td>\n",
       "    </tr>\n",
       "    <tr>\n",
       "      <th>2019-12-25</th>\n",
       "      <td>0.158172</td>\n",
       "      <td>0.504520</td>\n",
       "      <td>0.453905</td>\n",
       "      <td>0.727273</td>\n",
       "      <td>0.476746</td>\n",
       "      <td>0</td>\n",
       "      <td>0</td>\n",
       "      <td>1</td>\n",
       "    </tr>\n",
       "    <tr>\n",
       "      <th>2019-12-26</th>\n",
       "      <td>0.159700</td>\n",
       "      <td>0.475611</td>\n",
       "      <td>0.395299</td>\n",
       "      <td>0.727273</td>\n",
       "      <td>0.525453</td>\n",
       "      <td>0</td>\n",
       "      <td>0</td>\n",
       "      <td>1</td>\n",
       "    </tr>\n",
       "    <tr>\n",
       "      <th>2019-12-27</th>\n",
       "      <td>0.175454</td>\n",
       "      <td>0.565530</td>\n",
       "      <td>0.421044</td>\n",
       "      <td>0.818182</td>\n",
       "      <td>0.586624</td>\n",
       "      <td>1</td>\n",
       "      <td>0</td>\n",
       "      <td>0</td>\n",
       "    </tr>\n",
       "    <tr>\n",
       "      <th>2019-12-29</th>\n",
       "      <td>0.177701</td>\n",
       "      <td>0.567630</td>\n",
       "      <td>0.451166</td>\n",
       "      <td>0.818182</td>\n",
       "      <td>0.585169</td>\n",
       "      <td>0</td>\n",
       "      <td>0</td>\n",
       "      <td>1</td>\n",
       "    </tr>\n",
       "  </tbody>\n",
       "</table>\n",
       "<p>503 rows × 8 columns</p>\n",
       "</div>"
      ],
      "text/plain": [
       "               Close       RoC       S%D     PSY12      ASY5 buy sell hold\n",
       "DateTime                                                                  \n",
       "2018-05-22  0.314006  0.480472  0.194738  0.363636  0.479935   0    0    1\n",
       "2018-05-23  0.296319  0.444085  0.198627  0.363636  0.432865   0    0    1\n",
       "2018-05-24  0.299195  0.411007  0.185304  0.363636  0.462282   0    1    0\n",
       "2018-05-25  0.282542  0.349541  0.151715  0.272727  0.400889   0    0    1\n",
       "2018-05-27  0.291667  0.366831  0.125065  0.272727  0.414903   1    0    0\n",
       "...              ...       ...       ...       ...       ...  ..  ...  ...\n",
       "2019-12-24  0.156576  0.526441  0.519878  0.727273  0.477280   0    0    1\n",
       "2019-12-25  0.158172  0.504520  0.453905  0.727273  0.476746   0    0    1\n",
       "2019-12-26  0.159700  0.475611  0.395299  0.727273  0.525453   0    0    1\n",
       "2019-12-27  0.175454  0.565530  0.421044  0.818182  0.586624   1    0    0\n",
       "2019-12-29  0.177701  0.567630  0.451166  0.818182  0.585169   0    0    1\n",
       "\n",
       "[503 rows x 8 columns]"
      ]
     },
     "execution_count": 17,
     "metadata": {},
     "output_type": "execute_result"
    }
   ],
   "source": [
    "df = df.dropna()\n",
    "df"
   ]
  },
  {
   "cell_type": "code",
   "execution_count": 18,
   "metadata": {},
   "outputs": [
    {
     "data": {
      "text/plain": [
       "Index(['Close', 'RoC', 'S%D', 'PSY12', 'ASY5'], dtype='object')"
      ]
     },
     "execution_count": 18,
     "metadata": {},
     "output_type": "execute_result"
    }
   ],
   "source": [
    "df.columns[:5]"
   ]
  },
  {
   "cell_type": "code",
   "execution_count": 19,
   "metadata": {},
   "outputs": [
    {
     "data": {
      "text/html": [
       "<div>\n",
       "<style scoped>\n",
       "    .dataframe tbody tr th:only-of-type {\n",
       "        vertical-align: middle;\n",
       "    }\n",
       "\n",
       "    .dataframe tbody tr th {\n",
       "        vertical-align: top;\n",
       "    }\n",
       "\n",
       "    .dataframe thead th {\n",
       "        text-align: right;\n",
       "    }\n",
       "</style>\n",
       "<table border=\"1\" class=\"dataframe\">\n",
       "  <thead>\n",
       "    <tr style=\"text-align: right;\">\n",
       "      <th></th>\n",
       "      <th>Close</th>\n",
       "      <th>RoC</th>\n",
       "      <th>S%D</th>\n",
       "      <th>PSY12</th>\n",
       "      <th>ASY5</th>\n",
       "      <th>buy</th>\n",
       "      <th>sell</th>\n",
       "      <th>hold</th>\n",
       "    </tr>\n",
       "    <tr>\n",
       "      <th>DateTime</th>\n",
       "      <th></th>\n",
       "      <th></th>\n",
       "      <th></th>\n",
       "      <th></th>\n",
       "      <th></th>\n",
       "      <th></th>\n",
       "      <th></th>\n",
       "      <th></th>\n",
       "    </tr>\n",
       "  </thead>\n",
       "  <tbody>\n",
       "    <tr>\n",
       "      <th>2018-05-22</th>\n",
       "      <td>0.314006</td>\n",
       "      <td>0.480472</td>\n",
       "      <td>0.194738</td>\n",
       "      <td>0.363636</td>\n",
       "      <td>0.479935</td>\n",
       "      <td>0</td>\n",
       "      <td>0</td>\n",
       "      <td>1</td>\n",
       "    </tr>\n",
       "    <tr>\n",
       "      <th>2018-05-23</th>\n",
       "      <td>0.296319</td>\n",
       "      <td>0.444085</td>\n",
       "      <td>0.198627</td>\n",
       "      <td>0.363636</td>\n",
       "      <td>0.432865</td>\n",
       "      <td>0</td>\n",
       "      <td>0</td>\n",
       "      <td>1</td>\n",
       "    </tr>\n",
       "    <tr>\n",
       "      <th>2018-05-24</th>\n",
       "      <td>0.299195</td>\n",
       "      <td>0.411007</td>\n",
       "      <td>0.185304</td>\n",
       "      <td>0.363636</td>\n",
       "      <td>0.462282</td>\n",
       "      <td>0</td>\n",
       "      <td>1</td>\n",
       "      <td>0</td>\n",
       "    </tr>\n",
       "    <tr>\n",
       "      <th>2018-05-25</th>\n",
       "      <td>0.282542</td>\n",
       "      <td>0.349541</td>\n",
       "      <td>0.151715</td>\n",
       "      <td>0.272727</td>\n",
       "      <td>0.400889</td>\n",
       "      <td>0</td>\n",
       "      <td>0</td>\n",
       "      <td>1</td>\n",
       "    </tr>\n",
       "    <tr>\n",
       "      <th>2018-05-27</th>\n",
       "      <td>0.291667</td>\n",
       "      <td>0.366831</td>\n",
       "      <td>0.125065</td>\n",
       "      <td>0.272727</td>\n",
       "      <td>0.414903</td>\n",
       "      <td>1</td>\n",
       "      <td>0</td>\n",
       "      <td>0</td>\n",
       "    </tr>\n",
       "    <tr>\n",
       "      <th>...</th>\n",
       "      <td>...</td>\n",
       "      <td>...</td>\n",
       "      <td>...</td>\n",
       "      <td>...</td>\n",
       "      <td>...</td>\n",
       "      <td>...</td>\n",
       "      <td>...</td>\n",
       "      <td>...</td>\n",
       "    </tr>\n",
       "    <tr>\n",
       "      <th>2019-12-24</th>\n",
       "      <td>0.156576</td>\n",
       "      <td>0.526441</td>\n",
       "      <td>0.519878</td>\n",
       "      <td>0.727273</td>\n",
       "      <td>0.477280</td>\n",
       "      <td>0</td>\n",
       "      <td>0</td>\n",
       "      <td>1</td>\n",
       "    </tr>\n",
       "    <tr>\n",
       "      <th>2019-12-25</th>\n",
       "      <td>0.158172</td>\n",
       "      <td>0.504520</td>\n",
       "      <td>0.453905</td>\n",
       "      <td>0.727273</td>\n",
       "      <td>0.476746</td>\n",
       "      <td>0</td>\n",
       "      <td>0</td>\n",
       "      <td>1</td>\n",
       "    </tr>\n",
       "    <tr>\n",
       "      <th>2019-12-26</th>\n",
       "      <td>0.159700</td>\n",
       "      <td>0.475611</td>\n",
       "      <td>0.395299</td>\n",
       "      <td>0.727273</td>\n",
       "      <td>0.525453</td>\n",
       "      <td>0</td>\n",
       "      <td>0</td>\n",
       "      <td>1</td>\n",
       "    </tr>\n",
       "    <tr>\n",
       "      <th>2019-12-27</th>\n",
       "      <td>0.175454</td>\n",
       "      <td>0.565530</td>\n",
       "      <td>0.421044</td>\n",
       "      <td>0.818182</td>\n",
       "      <td>0.586624</td>\n",
       "      <td>1</td>\n",
       "      <td>0</td>\n",
       "      <td>0</td>\n",
       "    </tr>\n",
       "    <tr>\n",
       "      <th>2019-12-29</th>\n",
       "      <td>0.177701</td>\n",
       "      <td>0.567630</td>\n",
       "      <td>0.451166</td>\n",
       "      <td>0.818182</td>\n",
       "      <td>0.585169</td>\n",
       "      <td>0</td>\n",
       "      <td>0</td>\n",
       "      <td>1</td>\n",
       "    </tr>\n",
       "  </tbody>\n",
       "</table>\n",
       "<p>503 rows × 8 columns</p>\n",
       "</div>"
      ],
      "text/plain": [
       "               Close       RoC       S%D     PSY12      ASY5 buy sell hold\n",
       "DateTime                                                                  \n",
       "2018-05-22  0.314006  0.480472  0.194738  0.363636  0.479935   0    0    1\n",
       "2018-05-23  0.296319  0.444085  0.198627  0.363636  0.432865   0    0    1\n",
       "2018-05-24  0.299195  0.411007  0.185304  0.363636  0.462282   0    1    0\n",
       "2018-05-25  0.282542  0.349541  0.151715  0.272727  0.400889   0    0    1\n",
       "2018-05-27  0.291667  0.366831  0.125065  0.272727  0.414903   1    0    0\n",
       "...              ...       ...       ...       ...       ...  ..  ...  ...\n",
       "2019-12-24  0.156576  0.526441  0.519878  0.727273  0.477280   0    0    1\n",
       "2019-12-25  0.158172  0.504520  0.453905  0.727273  0.476746   0    0    1\n",
       "2019-12-26  0.159700  0.475611  0.395299  0.727273  0.525453   0    0    1\n",
       "2019-12-27  0.175454  0.565530  0.421044  0.818182  0.586624   1    0    0\n",
       "2019-12-29  0.177701  0.567630  0.451166  0.818182  0.585169   0    0    1\n",
       "\n",
       "[503 rows x 8 columns]"
      ]
     },
     "execution_count": 19,
     "metadata": {},
     "output_type": "execute_result"
    }
   ],
   "source": [
    "df"
   ]
  },
  {
   "cell_type": "code",
   "execution_count": 20,
   "metadata": {},
   "outputs": [],
   "source": [
    "def foofoofoo(lblz):\n",
    "    container = []\n",
    "    for row in lblz:\n",
    "        word = ''\n",
    "        for value in row:\n",
    "            word = word + str(value)\n",
    "        container.append(word)\n",
    "    return container"
   ]
  },
  {
   "cell_type": "code",
   "execution_count": 21,
   "metadata": {},
   "outputs": [],
   "source": [
    "labels = df[[\"buy\", \"sell\", \"hold\"]].to_numpy()"
   ]
  },
  {
   "cell_type": "code",
   "execution_count": 22,
   "metadata": {},
   "outputs": [],
   "source": [
    "labels = foofoofoo(labels)"
   ]
  },
  {
   "cell_type": "code",
   "execution_count": 23,
   "metadata": {
    "scrolled": false
   },
   "outputs": [],
   "source": [
    "forecast_days = 1\n",
    "#df['Label'] = df['Close'].shift(-forecast_days)\n",
    "df_dec.dropna()\n",
    "data = df\n",
    "data = data.dropna(how=\"any\")\n",
    "x = data[df.columns[:5]].to_numpy()\n",
    "y = data[df.columns[-4]].to_numpy()\n",
    "y2 = data[df.columns[-3:]].to_numpy()"
   ]
  },
  {
   "cell_type": "markdown",
   "metadata": {},
   "source": [
    "## Dataset y\n"
   ]
  },
  {
   "cell_type": "code",
   "execution_count": 24,
   "metadata": {},
   "outputs": [],
   "source": [
    "def create_split(x, y):\n",
    "    tss = TimeSeriesSplit(n_splits=5)\n",
    "    for train_index, test_index in tss.split(x):\n",
    "        x_train, x_test = x[train_index], x[test_index]\n",
    "        y_train, y_test = y[train_index], y[test_index]\n",
    "    return x_train, y_train, x_test, y_test"
   ]
  },
  {
   "cell_type": "code",
   "execution_count": 25,
   "metadata": {},
   "outputs": [],
   "source": [
    "x_train, y_train, x_test, y_test = create_split(x, y)\n",
    "x_train_2, y_train_2, x_test_2, y_test_2 = create_split(x, y2)"
   ]
  },
  {
   "cell_type": "code",
   "execution_count": 26,
   "metadata": {},
   "outputs": [],
   "source": [
    "y_test_2 = foofoofoo(y_test_2)\n",
    "y_train_2 = foofoofoo(y_train_2)"
   ]
  },
  {
   "cell_type": "markdown",
   "metadata": {},
   "source": [
    "## Dataset y2"
   ]
  },
  {
   "cell_type": "code",
   "execution_count": 27,
   "metadata": {},
   "outputs": [],
   "source": [
    "#from sklearn.multiclass import OneVsRestClassifier\n",
    "#from sklearn.svm import LinearSVC\n",
    "#OneVsRestClassifier(LinearSVC(random_state=0)).fit(x, y).predict(x)"
   ]
  },
  {
   "cell_type": "code",
   "execution_count": 28,
   "metadata": {},
   "outputs": [],
   "source": [
    "from sklearn.preprocessing import MinMaxScaler"
   ]
  },
  {
   "cell_type": "code",
   "execution_count": 29,
   "metadata": {},
   "outputs": [],
   "source": [
    "scaler = MinMaxScaler(feature_range=(0,1))\n",
    "\n",
    "x_train = scaler.fit_transform(x_train)\n",
    "x_test= scaler.transform(x_test)"
   ]
  },
  {
   "cell_type": "code",
   "execution_count": 30,
   "metadata": {},
   "outputs": [],
   "source": [
    "x = scaler.transform(x)"
   ]
  },
  {
   "cell_type": "markdown",
   "metadata": {},
   "source": [
    "lab_enc = preprocessing.LabelEncoder()\n",
    "encoded = lab_enc.fit_transform(y_train)\n",
    "print(training_scores_encoded)\n",
    "print(utils.multiclass.type_of_target(y_train))\n",
    "print(utils.multiclass.type_of_target(y_train.astype('int')))\n",
    "print(utils.multiclass.type_of_target(training_scores_encoded))"
   ]
  },
  {
   "cell_type": "code",
   "execution_count": 31,
   "metadata": {},
   "outputs": [],
   "source": [
    "from sklearn import datasets\n",
    "from sklearn.model_selection import train_test_split\n",
    "from sklearn.model_selection import GridSearchCV, RandomizedSearchCV\n",
    "from sklearn.metrics import classification_report\n",
    "from sklearn.ensemble import RandomForestClassifier\n",
    "from sklearn.svm import SVC\n",
    "from sklearn.linear_model import LogisticRegression\n",
    "from pprint import pprint\n",
    "from sklearn import metrics"
   ]
  },
  {
   "cell_type": "markdown",
   "metadata": {},
   "source": [
    "# Gridsearch random forest\n",
    "\n",
    "https://towardsdatascience.com/hyperparameter-tuning-the-random-forest-in-python-using-scikit-learn-28d2aa77dd74\n"
   ]
  },
  {
   "cell_type": "markdown",
   "metadata": {},
   "source": [
    "### Functions"
   ]
  },
  {
   "cell_type": "code",
   "execution_count": 32,
   "metadata": {},
   "outputs": [],
   "source": [
    "def random_search(settings):\n",
    "    \n",
    "    # CREATE THE CORRECT MODEL TYPE\n",
    "    model = select_model(settings)\n",
    "\n",
    "    # CREATE THE RANDOMIZED SEARCH CV\n",
    "    rscv = RandomizedSearchCV(estimator=model,\n",
    "                                  param_distributions=settings['random_params'],\n",
    "                                  n_iter=100,\n",
    "                                  cv = 3,\n",
    "                                  verbose=2,\n",
    "                                  random_state=42,\n",
    "                                  n_jobs=-1)\n",
    "\n",
    "    # FIT THE RANDOM SEARCH\n",
    "    rscv.fit(settings[\"x\"], settings[\"y\"])\n",
    "    \n",
    "    # SELECT THE BEST ESTIMATOR\n",
    "    best_random = rscv.best_estimator_\n",
    "\n",
    "    \n",
    "    \n",
    "    return rscvm, rscv.best_params_"
   ]
  },
  {
   "cell_type": "code",
   "execution_count": 33,
   "metadata": {},
   "outputs": [],
   "source": [
    "def grid_search(model, dataset, settings):\n",
    "\n",
    "    \n",
    "    # SELECT MODEL\n",
    "    model = select_model(settings)\n",
    "\n",
    "    # CREATE GRID SEARCH CV\n",
    "    grid_search = GridSearchCV(estimator = model, param_grid = settings[\"grid_params\"], \n",
    "                          cv = settings[\"cv\"], n_jobs = settings[\"n_jobs\"], verbose = 2)\n",
    "    grid_search.fit(dataset[\"x\"], dataset[\"y\"])\n",
    "    best_grid = grid_search.best_estimator_\n",
    "\n",
    "    return best_grid"
   ]
  },
  {
   "cell_type": "code",
   "execution_count": 34,
   "metadata": {},
   "outputs": [],
   "source": [
    "def select_model(settings):\n",
    "    \"\"\"Select a classification model type. \n",
    "    Supported models:\n",
    "    Random Forest Classifier (default)\"\"\"\n",
    "    if(settings[\"model\"] == \"rfc\"):\n",
    "        model = RandomForestClassifier()\n",
    "    else:\n",
    "        model = RandomForestClassifier()\n",
    "    return model"
   ]
  },
  {
   "cell_type": "code",
   "execution_count": 52,
   "metadata": {},
   "outputs": [],
   "source": [
    "from sklearn import preprocessing"
   ]
  },
  {
   "cell_type": "code",
   "execution_count": 61,
   "metadata": {},
   "outputs": [],
   "source": [
    "def grid_search_model(model, dataset, settings):\n",
    "    \"\"\"Runs a grid search on the given model to define the best parameters for the model. \n",
    "    \n",
    "    Parameters:\n",
    "    -----------\n",
    "    model: sklearn model \n",
    "    unfitted model\n",
    "    dataset: dict\n",
    "    Dictionary that contains x_train, y_train, features and labels\n",
    "    \n",
    "    Returns:\n",
    "    --------\n",
    "    model: sklearn model\n",
    "    Same type of model as the input model, with optimized parameters\n",
    "    \"\"\"\n",
    "    # FIT GRIDSEARCH\n",
    "    if (settings[\"scoring\"] == \"roc_auc\"):\n",
    "        grid_search = GridSearchCV(estimator = model, param_grid = settings[\"grid_params\"], \n",
    "                          cv = settings[\"cv\"], n_jobs = settings[\"n_jobs\"], verbose = 2, scoring = settings[\"scoring\"])\n",
    "\n",
    "        y = preprocessing.label_binarize(dataset[\"labels\"], classes=[0, 1, 2])\n",
    "        grid_search.fit(dataset[\"features\"], y)\n",
    "\n",
    "        # PICK OUT THE BEST MODEL FROM GRID SEARCH\n",
    "        model = grid_search.best_estimator_\n",
    "\n",
    "        # RUN MODEL ON BEST PARAMS   \n",
    "        model.fit(dataset[\"x_train\"], dataset[\"y_train\"])\n",
    "\n",
    "        # RETURN MODEL WITH BEST PARAMS    \n",
    "        return model\n",
    "    else:\n",
    "        grid_search = GridSearchCV(estimator = model, param_grid = settings[\"grid_params\"], \n",
    "                          cv = settings[\"cv\"], n_jobs = settings[\"n_jobs\"], verbose = 2)\n",
    "\n",
    "\n",
    "        grid_search.fit(dataset[\"features\"], dataset[\"labels\"])\n",
    "\n",
    "        # PICK OUT THE BEST MODEL FROM GRID SEARCH\n",
    "        model = grid_search.best_estimator_\n",
    "\n",
    "        # RUN MODEL ON BEST PARAMS   \n",
    "        model.fit(dataset[\"x_train\"], dataset[\"y_train\"])\n",
    "\n",
    "        # RETURN MODEL WITH BEST PARAMS    \n",
    "        return model    "
   ]
  },
  {
   "cell_type": "code",
   "execution_count": 62,
   "metadata": {},
   "outputs": [],
   "source": [
    "from sklearn import preprocessing\n",
    "def evaluate(model, test_features, test_labels, encode=True):\n",
    "    \"\"\"Evaluate a classifcation model, for example Random Forest Classification\n",
    "    \n",
    "    Parameters:\n",
    "    model: sklearn classification model\n",
    "    test_features: np.array of features\n",
    "    test_labels: np.array of labels \n",
    "    encode (default=True): boolean, encodes values to int if set to true\n",
    "    \n",
    "    Returns:\n",
    "    accuracy: float, metrics.accuracy_score\n",
    "    precision: float, metrics.precision_score\n",
    "    recall: float, metrics.precision_score\n",
    "    confusion: \n",
    "    \"\"\"\n",
    "    # PREDICT\n",
    "    \n",
    "    # PULL ACCURACY FROM METRICS\n",
    "    try:\n",
    "        predict = model.predict(test_features)\n",
    "        class_report = metrics.classification_report(test_labels, predict)\n",
    "    \n",
    "        predict_proba = model.predict_proba(test_features)\n",
    "        roc_auc = metrics.roc_auc_score(test_labels, predict_proba, multi_class='ovo', average='macro')\n",
    "        \n",
    "        print(class_report)\n",
    "        print(roc_auc)\n",
    "        return \"Double\"\n",
    "    except:\n",
    "        predict = model.predict(test_features)\n",
    "        class_report = metrics.classification_report(test_labels, predict)\n",
    "        \n",
    "        print(class_report)\n",
    "        return \"Single\""
   ]
  },
  {
   "cell_type": "code",
   "execution_count": 37,
   "metadata": {},
   "outputs": [],
   "source": [
    "# C:\\Users\\Alex-\\Desktop\\Beslutsstödssystem\\models-decision-system\\MockPipeline\n",
    "import pickle\n",
    "def load_pickle(path):\n",
    "    return pickle.load(open(path, 'rb'))"
   ]
  },
  {
   "cell_type": "code",
   "execution_count": 38,
   "metadata": {},
   "outputs": [],
   "source": [
    "%matplotlib notebook\n",
    "#new_data = load_pickle(\"cls-dataset.pickle\")\n",
    "x_test = pickle.load(open(\"test-dataset.pickle\", 'rb'))"
   ]
  },
  {
   "cell_type": "code",
   "execution_count": 39,
   "metadata": {},
   "outputs": [],
   "source": [
    "y_test = pd.read_csv(\"sick-dataset.csv\")"
   ]
  },
  {
   "cell_type": "code",
   "execution_count": 40,
   "metadata": {},
   "outputs": [],
   "source": [
    "y_test = y_test[\"label\"]"
   ]
  },
  {
   "cell_type": "code",
   "execution_count": 41,
   "metadata": {},
   "outputs": [],
   "source": [
    "train_data = pd.read_csv(\"train-dataset.csv\")"
   ]
  },
  {
   "cell_type": "code",
   "execution_count": 42,
   "metadata": {},
   "outputs": [],
   "source": [
    "x_train = train_data[train_data.columns[1:4]].to_numpy()"
   ]
  },
  {
   "cell_type": "code",
   "execution_count": 43,
   "metadata": {},
   "outputs": [],
   "source": [
    "y_train = train_data[train_data.columns[4]].to_numpy()"
   ]
  },
  {
   "cell_type": "markdown",
   "metadata": {},
   "source": [
    "# Random search grid"
   ]
  },
  {
   "cell_type": "code",
   "execution_count": 44,
   "metadata": {},
   "outputs": [],
   "source": [
    "x = np.concatenate((x_train, x_test))\n",
    "y = np.concatenate((y_train, y_test))"
   ]
  },
  {
   "cell_type": "code",
   "execution_count": 45,
   "metadata": {},
   "outputs": [],
   "source": [
    "dataset = {\"x_train\": x_train, \n",
    "           \"y_train\": y_train,\n",
    "           \"x_test\": x_test,\n",
    "           \"y_test\": y_test,\n",
    "           \"features\": x, # Full data used in grid searching\n",
    "           \"labels\": y # Full data used in grid searching\n",
    "          }"
   ]
  },
  {
   "cell_type": "code",
   "execution_count": 63,
   "metadata": {},
   "outputs": [],
   "source": [
    "def run_model(model, data, grid_settings):\n",
    "    best_model = grid_search_model(model, data, grid_settings)\n",
    "    print(best_model)\n",
    "    best_model.fit(data[\"x_train\"], data[\"y_train\"])\n",
    "    results = evaluate(best_model, data[\"x_test\"], data[\"y_test\"])\n",
    "    #print(results)\n",
    "    #print(roc_auc)"
   ]
  },
  {
   "cell_type": "markdown",
   "metadata": {},
   "source": [
    "## Random forest"
   ]
  },
  {
   "cell_type": "code",
   "execution_count": 64,
   "metadata": {},
   "outputs": [
    {
     "name": "stdout",
     "output_type": "stream",
     "text": [
      "Fitting 3 folds for each of 192 candidates, totalling 576 fits\n"
     ]
    },
    {
     "name": "stderr",
     "output_type": "stream",
     "text": [
      "[Parallel(n_jobs=-1)]: Using backend LokyBackend with 12 concurrent workers.\n",
      "[Parallel(n_jobs=-1)]: Done  18 tasks      | elapsed:    0.6s\n",
      "[Parallel(n_jobs=-1)]: Done 186 tasks      | elapsed:   14.1s\n",
      "[Parallel(n_jobs=-1)]: Done 389 tasks      | elapsed:   30.9s\n"
     ]
    },
    {
     "name": "stdout",
     "output_type": "stream",
     "text": [
      "RandomForestClassifier(class_weight='balanced', max_depth=100,\n",
      "                       max_features='sqrt', min_samples_leaf=2,\n",
      "                       min_samples_split=10, n_estimators=10)\n",
      "              precision    recall  f1-score   support\n",
      "\n",
      "           0       0.19      0.48      0.27       119\n",
      "           1       0.14      0.13      0.14       114\n",
      "           2       0.57      0.30      0.39       385\n",
      "\n",
      "    accuracy                           0.30       618\n",
      "   macro avg       0.30      0.30      0.27       618\n",
      "weighted avg       0.41      0.30      0.32       618\n",
      "\n",
      "0.4915283976429487\n"
     ]
    },
    {
     "name": "stderr",
     "output_type": "stream",
     "text": [
      "[Parallel(n_jobs=-1)]: Done 576 out of 576 | elapsed:   51.9s finished\n"
     ]
    }
   ],
   "source": [
    "grid_settings = {\n",
    "    \"cv\": 3, # number of folds\n",
    "    \"n_jobs\": -1, # processors to use during grid search\n",
    "    \"scoring\": \"roc_auc\",\n",
    "    'grid_params': { # parameters for grid search (specific to each model)\n",
    "        'n_estimators': [10, 50, 100, 500], # int, default=100\n",
    "        'max_features': ['log2', 'sqrt'], # {“sqrt”, “log2”}, int or float, default=”auto”\n",
    "        'max_depth': [10,100, None], # int, default=None\n",
    "        'min_samples_split': [3, 10], # int or float, default=2\n",
    "        'min_samples_leaf': [2, 4], # int or float, default=1\n",
    "        'bootstrap': [True, False], # bool, default=True\n",
    "        \"class_weight\": [\"balanced\"], # {“balanced”, “balanced_subsample”}, dict or list of dicts, default=None\n",
    "    }\n",
    "}\n",
    "rfc = RandomForestClassifier()\n",
    "run_model(rfc, dataset, grid_settings)"
   ]
  },
  {
   "cell_type": "markdown",
   "metadata": {},
   "source": [
    "## Logistical Regression"
   ]
  },
  {
   "cell_type": "code",
   "execution_count": 70,
   "metadata": {},
   "outputs": [
    {
     "name": "stdout",
     "output_type": "stream",
     "text": [
      "Fitting 3 folds for each of 128 candidates, totalling 384 fits\n"
     ]
    },
    {
     "name": "stderr",
     "output_type": "stream",
     "text": [
      "[Parallel(n_jobs=-1)]: Using backend LokyBackend with 12 concurrent workers.\n",
      "[Parallel(n_jobs=-1)]: Done  17 tasks      | elapsed:    0.0s\n",
      "[Parallel(n_jobs=-1)]: Done 361 out of 384 | elapsed:    1.3s remaining:    0.0s\n",
      "[Parallel(n_jobs=-1)]: Done 384 out of 384 | elapsed:    1.4s finished\n",
      "C:\\ProgramData\\Anaconda3\\lib\\site-packages\\sklearn\\linear_model\\_logistic.py:1320: UserWarning: Setting penalty='none' will ignore the C and l1_ratio parameters\n",
      "  warnings.warn(\n",
      "C:\\ProgramData\\Anaconda3\\lib\\site-packages\\sklearn\\linear_model\\_logistic.py:1320: UserWarning: Setting penalty='none' will ignore the C and l1_ratio parameters\n",
      "  warnings.warn(\n",
      "C:\\ProgramData\\Anaconda3\\lib\\site-packages\\sklearn\\linear_model\\_logistic.py:1320: UserWarning: Setting penalty='none' will ignore the C and l1_ratio parameters\n",
      "  warnings.warn(\n"
     ]
    },
    {
     "name": "stdout",
     "output_type": "stream",
     "text": [
      "LogisticRegression(C=0.1, class_weight='balanced', max_iter=1000,\n",
      "                   multi_class='ovr', penalty='none', random_state=0,\n",
      "                   solver='newton-cg')\n",
      "              precision    recall  f1-score   support\n",
      "\n",
      "           0       0.19      0.60      0.28       119\n",
      "           1       0.21      0.27      0.24       114\n",
      "           2       0.54      0.13      0.21       385\n",
      "\n",
      "    accuracy                           0.24       618\n",
      "   macro avg       0.31      0.33      0.24       618\n",
      "weighted avg       0.41      0.24      0.23       618\n",
      "\n",
      "0.47077998663580267\n"
     ]
    }
   ],
   "source": [
    "grid_settings = {\n",
    "    \"cv\": 3, # number of folds\n",
    "    \"n_jobs\": -1, # processors to use during grid search\n",
    "    \"scoring\": \"nope\",\n",
    "    'grid_params': {\n",
    "        \"C\": [0.1, 1, 10, 100],\n",
    "        \"penalty\": [\"l2\",  \"none\"], # [\"l1\", \"l2\", \"elasticnet\", \"none\"]\n",
    "        \"solver\": [\"newton-cg\", \"lbfgs\", \"sag\", \"saga\"], # [\"newton-cg\", \"lbfgs\", \"liblinear\", \"sag\", \"saga\"], default=’lbfgs’\n",
    "        \"multi_class\": [\"auto\", \"multinomial\", \"ovo\", \"ovr\"], # [‘auto’, ‘ovr’, ‘multinomial’], default=’auto’\n",
    "        \"max_iter\": [1000],\n",
    "        \"random_state\": [0],\n",
    "        \"class_weight\": [\"balanced\"]\n",
    "    }\n",
    "}\n",
    "logreg = LogisticRegression()\n",
    "run_model(logreg, dataset, grid_settings)"
   ]
  },
  {
   "cell_type": "markdown",
   "metadata": {},
   "source": [
    "## SVC"
   ]
  },
  {
   "cell_type": "code",
   "execution_count": null,
   "metadata": {
    "scrolled": false
   },
   "outputs": [],
   "source": [
    "grid_settings = {\n",
    "    \"cv\": 3, # number of folds\n",
    "    \"n_jobs\": -1, # processors to use during grid search\n",
    "    \"grid_params\":{\n",
    "        \"C\": [0.1, 1,10,100],\n",
    "        \"kernel\": [\"linear\", \"rbf\"],\n",
    "        \"degree\": [1,3], #int, default=3\n",
    "        #\"gamma\": [],\n",
    "        \"shrinking\": [True, False],\n",
    "        \"class_weight\": [\"balanced\"],\n",
    "        #\"decision_function_shape\": [\"ovo\", \"ovr\"]\n",
    "    }\n",
    "}\n",
    "model = SVC(probability=True)\n",
    "run_model(model, dataset, grid_settings)"
   ]
  },
  {
   "cell_type": "markdown",
   "metadata": {},
   "source": [
    "## GaussianNB"
   ]
  },
  {
   "cell_type": "code",
   "execution_count": null,
   "metadata": {},
   "outputs": [],
   "source": [
    "from sklearn.naive_bayes import GaussianNB\n",
    "grid_settings = {\n",
    "    \"cv\": 3, # number of folds\n",
    "    \"n_jobs\": -1, # processors to use during grid search\n",
    "    \"grid_params\":{\n",
    "        \"var_smoothing\": [1e-9, 1e-10, 1e-5]\n",
    "    }\n",
    "}\n",
    "model = GaussianNB()\n",
    "run_model(model , dataset, grid_settings)"
   ]
  },
  {
   "cell_type": "markdown",
   "metadata": {},
   "source": [
    "# Complemntary NB"
   ]
  },
  {
   "cell_type": "code",
   "execution_count": null,
   "metadata": {},
   "outputs": [],
   "source": [
    "from sklearn.naive_bayes import ComplementNB\n",
    "grid_settings = {\n",
    "    \"cv\": 3, # number of folds\n",
    "    \"n_jobs\": -1, # processors to use during grid search\n",
    "    \"grid_params\":{\n",
    "\n",
    "        \"alpha\": [0.5, 1],\n",
    "        \"norm\": [True, False],\n",
    "        \n",
    "    }\n",
    "}\n",
    "model = ComplementNB()\n",
    "run_model(model , dataset, grid_settings)"
   ]
  },
  {
   "cell_type": "markdown",
   "metadata": {},
   "source": [
    "# Ridge Classifier"
   ]
  },
  {
   "cell_type": "code",
   "execution_count": null,
   "metadata": {
    "scrolled": true
   },
   "outputs": [],
   "source": [
    "from sklearn.linear_model import RidgeClassifier\n",
    "grid_settings = {\n",
    "    \"cv\": 3, # number of folds\n",
    "    \"n_jobs\": -1, # processors to use during grid search\n",
    "    \"grid_params\":{\n",
    "        \"class_weight\": [\"balanced\"],\n",
    "        \"alpha\": [0.5, 1],        \n",
    "    }\n",
    "}\n",
    "model = RidgeClassifier()\n",
    "run_model(model , dataset, grid_settings)"
   ]
  },
  {
   "cell_type": "markdown",
   "metadata": {},
   "source": [
    "# Linear Discriminant Analysis"
   ]
  },
  {
   "cell_type": "code",
   "execution_count": null,
   "metadata": {},
   "outputs": [],
   "source": [
    "from sklearn.discriminant_analysis import LinearDiscriminantAnalysis\n",
    "grid_settings = {\n",
    "    \"cv\": 3, # number of folds\n",
    "    \"n_jobs\": -1, # processors to use during grid search\n",
    "    \"grid_params\":{\n",
    "        \"solver\": [\"svd\", \"lsqr\", \"eigen\"],\n",
    "        \"shrinkage\": [0.25, 0.50, 0.75, 1]\n",
    "    }\n",
    "}\n",
    "model = LinearDiscriminantAnalysis()\n",
    "run_model(model , dataset, grid_settings)"
   ]
  },
  {
   "cell_type": "markdown",
   "metadata": {},
   "source": [
    "# Quadratic Discriminant Analysis"
   ]
  },
  {
   "cell_type": "code",
   "execution_count": null,
   "metadata": {
    "scrolled": true
   },
   "outputs": [],
   "source": [
    "from sklearn.discriminant_analysis import QuadraticDiscriminantAnalysis\n",
    "grid_settings = {\n",
    "    \"cv\": 3, # number of folds\n",
    "    \"n_jobs\": -1, # processors to use during grid search\n",
    "    \"grid_params\":{\n",
    "        \"reg_param\": [0, 0.25, 0.5, 0.75],\n",
    "        \"tol\": [0.25, 0.50, 0.75, 1]\n",
    "    }\n",
    "}\n",
    "model = QuadraticDiscriminantAnalysis()\n",
    "run_model(model , dataset, grid_settings)"
   ]
  },
  {
   "cell_type": "markdown",
   "metadata": {},
   "source": [
    "# SGD Classifier\n",
    "\n",
    "Very varied results"
   ]
  },
  {
   "cell_type": "code",
   "execution_count": null,
   "metadata": {
    "scrolled": false
   },
   "outputs": [],
   "source": [
    "from sklearn.linear_model import SGDClassifier\n",
    "grid_settings = {\n",
    "    \"cv\": 3, # number of folds\n",
    "    \"n_jobs\": -1, # processors to use during grid search\n",
    "    \"grid_params\":{\n",
    "        \"epsilon\": [0.18],\n",
    "        \"penalty\": [\"l1\"],\n",
    "        \"class_weight\": [\"balanced\", None],\n",
    "        \"early_stopping\": [True, False],\n",
    "        \"eta0\": [0.1,0.5,1],\n",
    "        \"learning_rate\": [\"constant\", \"optimal\", \"invscaling\", \"adaptive\"]\n",
    "    }\n",
    "}\n",
    "model = SGDClassifier()\n",
    "run_model(model , dataset, grid_settings)"
   ]
  },
  {
   "cell_type": "markdown",
   "metadata": {},
   "source": [
    "SGDClassifier(class_weight='balanced', early_stopping=True, epsilon=0.18,\n",
    "              eta0=0.1, learning_rate='invscaling')\n",
    "              precision    recall  f1-score   support\n",
    "\n",
    "           0       0.00      0.00      0.00       119\n",
    "           1       0.22      0.07      0.11       114\n",
    "           2       0.63      0.95      0.76       385\n",
    "\n",
    "    accuracy                           0.61       618\n",
    "   macro avg       0.28      0.34      0.29       618\n",
    "weighted avg       0.43      0.61      0.49       618"
   ]
  },
  {
   "cell_type": "markdown",
   "metadata": {},
   "source": [
    "SGDClassifier(class_weight='balanced', early_stopping=True, epsilon=0.18,\n",
    "              eta0=0.1, learning_rate='invscaling', penalty='l1')\n",
    "              precision    recall  f1-score   support\n",
    "\n",
    "           0       0.00      0.00      0.00       119\n",
    "           1       0.19      0.82      0.31       114\n",
    "           2       0.73      0.24      0.36       385\n",
    "\n",
    "    accuracy                           0.30       618\n",
    "   macro avg       0.31      0.36      0.22       618\n",
    "weighted avg       0.49      0.30      0.28       618"
   ]
  },
  {
   "cell_type": "markdown",
   "metadata": {},
   "source": [
    "# Decision Tree Classifier\n",
    "\n",
    "Splitter = random changes results alot from each run"
   ]
  },
  {
   "cell_type": "code",
   "execution_count": null,
   "metadata": {},
   "outputs": [],
   "source": [
    "from sklearn.tree import DecisionTreeClassifier\n",
    "grid_settings = {\n",
    "    \"cv\": 3, # number of folds\n",
    "    \"n_jobs\": -1, # processors to use during grid search\n",
    "    \"grid_params\":{\n",
    "        \"criterion\": [\"gini\", \"entropy\"],\n",
    "        \"splitter\": [\"best\"],\n",
    "        \"min_samples_split\": [1,2],\n",
    "        \"min_samples_leaf\": [1,2],\n",
    "        \"max_features\": [\"auto\", \"aqrt\", \"log2\", None],\n",
    "        \"class_weight\": [\"balanced\"]\n",
    "    }\n",
    "}\n",
    "model = DecisionTreeClassifier()\n",
    "run_model(model , dataset, grid_settings)"
   ]
  },
  {
   "cell_type": "markdown",
   "metadata": {},
   "source": [
    "## 3-way confusion matrix\n",
    "\n",
    "| | pred buy | pred sell | pred hold |\n",
    "| --------- |:---------:|:---------:|----------:|        \n",
    "| true buy  | | | |\n",
    "| true sell | | | |\n",
    "| true hold | | | |"
   ]
  },
  {
   "cell_type": "markdown",
   "metadata": {},
   "source": [
    "| Tables        | Are           | Cool  |\n",
    "| ------------- |:-------------:| -----:|\n",
    "| col 3 is      | right-aligned | $1600 |\n",
    "| col 2 is      | centered      |   $12 |\n",
    "| zebra stripes | are neat      |    $1 |"
   ]
  }
 ],
 "metadata": {
  "kernelspec": {
   "display_name": "Python 3",
   "language": "python",
   "name": "python3"
  },
  "language_info": {
   "codemirror_mode": {
    "name": "ipython",
    "version": 3
   },
   "file_extension": ".py",
   "mimetype": "text/x-python",
   "name": "python",
   "nbconvert_exporter": "python",
   "pygments_lexer": "ipython3",
   "version": "3.8.3"
  }
 },
 "nbformat": 4,
 "nbformat_minor": 2
}
