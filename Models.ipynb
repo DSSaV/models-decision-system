{
 "cells": [
  {
   "cell_type": "markdown",
   "metadata": {},
   "source": [
    "## Pip installs"
   ]
  },
  {
   "cell_type": "code",
   "execution_count": 1,
   "metadata": {},
   "outputs": [
    {
     "name": "stdout",
     "output_type": "stream",
     "text": [
      "Collecting keras-tcn\n",
      "  Using cached https://files.pythonhosted.org/packages/d4/54/d766211c883eb2bdb5dd4a1aa14e6a4240ae4206d1c799ee3ea2c1531d79/keras-tcn-3.1.1.tar.gz\n",
      "Collecting numpy>=1.18.1 (from keras-tcn)\n",
      "\u001b[31m  Could not find a version that satisfies the requirement numpy>=1.18.1 (from keras-tcn) (from versions: 1.3.0, 1.4.1, 1.5.0, 1.5.1, 1.6.0, 1.6.1, 1.6.2, 1.7.0, 1.7.1, 1.7.2, 1.8.0, 1.8.1, 1.8.2, 1.9.0, 1.9.1, 1.9.2, 1.9.3, 1.10.0.post2, 1.10.1, 1.10.2, 1.10.4, 1.11.0b3, 1.11.0rc1, 1.11.0rc2, 1.11.0, 1.11.1rc1, 1.11.1, 1.11.2rc1, 1.11.2, 1.11.3, 1.12.0b1, 1.12.0rc1, 1.12.0rc2, 1.12.0, 1.12.1rc1, 1.12.1, 1.13.0rc1, 1.13.0rc2, 1.13.0, 1.13.1, 1.13.3, 1.14.0rc1, 1.14.0, 1.14.1, 1.14.2, 1.14.3, 1.14.4, 1.14.5, 1.14.6, 1.15.0rc1, 1.15.0rc2, 1.15.0, 1.15.1, 1.15.2, 1.15.3, 1.15.4, 1.16.0rc1, 1.16.0rc2, 1.16.0, 1.16.1, 1.16.2, 1.16.3, 1.16.4, 1.16.5, 1.16.6)\u001b[0m\n",
      "\u001b[31mNo matching distribution found for numpy>=1.18.1 (from keras-tcn)\u001b[0m\n"
     ]
    }
   ],
   "source": [
    "#TODO: add all pip install links OR create requirements.txt and pip install requirements\n",
    "!pip install keras-tcn"
   ]
  },
  {
   "cell_type": "markdown",
   "metadata": {},
   "source": [
    "## Imports"
   ]
  },
  {
   "cell_type": "code",
   "execution_count": 2,
   "metadata": {},
   "outputs": [
    {
     "name": "stderr",
     "output_type": "stream",
     "text": [
      "Using TensorFlow backend.\n"
     ]
    }
   ],
   "source": [
    "#  IMPORTING LIBRARIES\n",
    "import datetime as dt\n",
    "import numpy as np\n",
    "import pandas as pd\n",
    "import os\n",
    "import warnings\n",
    "warnings.filterwarnings('ignore')\n",
    "\n",
    "from sklearn.linear_model import LinearRegression\n",
    "from sklearn.model_selection import train_test_split\n",
    "from sklearn.model_selection import TimeSeriesSplit\n",
    "from sklearn.preprocessing import MinMaxScaler\n",
    "import sklearn.metrics\n",
    "import sklearn\n",
    "from sklearn import preprocessing\n",
    "\n",
    "from statsmodels.tools.eval_measures import rmse\n",
    "\n",
    "from keras.models import Sequential\n",
    "from keras.layers import Dense, LSTM, Dropout\n",
    "from keras.preprocessing.sequence import TimeseriesGenerator\n",
    "\n",
    "from tcn import TCN"
   ]
  },
  {
   "cell_type": "markdown",
   "metadata": {},
   "source": [
    "## Import Data"
   ]
  },
  {
   "cell_type": "code",
   "execution_count": 3,
   "metadata": {},
   "outputs": [],
   "source": [
    "#  Example import, needs to be updated accordingly...\n",
    "df = pd.read_csv(\"MockData.csv\")"
   ]
  },
  {
   "cell_type": "markdown",
   "metadata": {},
   "source": [
    "## Functions"
   ]
  },
  {
   "cell_type": "code",
   "execution_count": 4,
   "metadata": {},
   "outputs": [],
   "source": [
    "def calculate_Pi(df):\n",
    "    \"\"\"Calculates the prediction result for a series, 1=true and 0=false\"\"\"\n",
    "    \n",
    "    result = (df['Actual'].shift(1) - df['Actual'])*(df['Forecast'].shift(1) - df['Forecast'])\n",
    "    result.where(result <= 0, 1, inplace=True) # .where() returns if false.. hence reversed.\n",
    "    result.where(result > 0, 0, inplace=True)\n",
    "    return result\n",
    "\n",
    "def calculate_hit_ratio(Pi):\n",
    "    \"\"\"Calculates the hit ratio for the prediction series Pi.\"\"\"\n",
    "    \n",
    "    result = (Pi.sum()/ len(Pi))\n",
    "    return result\n",
    "\n",
    "def calculate_rmse(prediction, labels):\n",
    "    \"\"\"Function that calculates the Root Mean Square Error of predctions and labels\"\"\"\n",
    "    \n",
    "    rmse = np.sqrt(np.mean(prediction - labels) **2)\n",
    "    return rmse\n",
    "\n",
    "def calculate_r_squared(prediction, labels):\n",
    "    \"\"\"Function that calculates the R-squared error of predctions and labels\"\"\"\n",
    "    \n",
    "    correlation_matrix = np.corrcoef(prediction, labels)\n",
    "    correlation_xy = correlation_matrix[0,1]\n",
    "    r_squared = correlation_xy**2\n",
    "    #r_squared = sklearn.metrics.r2_score(labels, prediction)\n",
    "    return r_squared"
   ]
  },
  {
   "cell_type": "markdown",
   "metadata": {},
   "source": [
    "## Prediction Models\n",
    "### Linear Regression Model"
   ]
  },
  {
   "cell_type": "code",
   "execution_count": 5,
   "metadata": {},
   "outputs": [],
   "source": [
    "def calculate_lrm_stats(_days, _df):\n",
    "    \"\"\"Function that calculates Hit Ratio, RMSE, R-squared values for forecasted 'days' forward\"\"\"\n",
    "    \n",
    "    forecast_days = _days\n",
    "    _df['Label'] = _df['Close'].shift(-forecast_days)\n",
    "    data = _df\n",
    "    data.dropna(how=\"any\", inplace=True)\n",
    "    X = np.array(data.drop(['Label'],1))\n",
    "    y = np.array(data['Label'])\n",
    "    \n",
    "    tss = TimeSeriesSplit(n_splits=5)\n",
    "    for train_index, test_index in tss.split(X):\n",
    "        X_train, X_test = X[train_index], X[test_index]\n",
    "        y_train, y_test = y[train_index], y[test_index]\n",
    "        \n",
    "    l = LinearRegression()\n",
    "    l.fit(X_train, y_train.reshape(len(y_train)))\n",
    "    \n",
    "    forecast = l.predict(X_test)\n",
    "    n = len(forecast)\n",
    "    df_b_r = pd.DataFrame({\n",
    "        'DateTime':data.index[-n:],\n",
    "        'Forecast':forecast,\n",
    "        'Actual':y_test})\n",
    "    df_b_r.set_index('DateTime', inplace=True)\n",
    "    \n",
    "    Pi = calculate_Pi(df_b_r)\n",
    "    hit_r = calculate_hit_ratio(Pi)\n",
    "    rmse = calculate_rmse(df_b_r.Forecast, df_b_r.Actual)\n",
    "    train_r2 = l.score(X_train, y_train)\n",
    "    test_r2 = l.score(X_test, y_test)\n",
    "    \n",
    "    return (forecast_days, hit_r, rmse, train_r2, test_r2, df_b_r, Pi)"
   ]
  },
  {
   "cell_type": "markdown",
   "metadata": {},
   "source": [
    "### LSTM Model"
   ]
  },
  {
   "cell_type": "code",
   "execution_count": 6,
   "metadata": {},
   "outputs": [],
   "source": [
    "def calculate_lstm_stats(_days, _df, _epochs, _n_features):\n",
    "    \"\"\"Function that calculates LSTM Model statistics\"\"\"\n",
    "    \n",
    "    _batch_size = 16\n",
    "    forecast_days = _days\n",
    "    _df['Label'] = _df['Close'].shift(-forecast_days)\n",
    "    data = _df\n",
    "    data.dropna(how=\"any\", inplace=True)\n",
    "    X = np.array(data.drop(['Label'],1))\n",
    "    y = np.array(data['Label'])\n",
    "    \n",
    "    tss = TimeSeriesSplit(n_splits=5)\n",
    "    for train_index, test_index in tss.split(X):\n",
    "        X_train, X_test = X[train_index], X[test_index]\n",
    "        y_train, y_test = y[train_index], y[test_index]\n",
    "        \n",
    "    n_input = 14\n",
    "    n_features = _n_features\n",
    "    \n",
    "    generator_train = TimeseriesGenerator(X_train, y_train, length = n_input, batch_size=_batch_size)\n",
    "    generator_test = TimeseriesGenerator(X_test, y_test, length = n_input, batch_size=_batch_size)\n",
    "    \n",
    "    model = Sequential()\n",
    "    model.add(LSTM(120, activation='tanh', input_shape=(n_input, n_features)))\n",
    "    model.add(Dropout(0.15)) # prevents overfitting\n",
    "    model.add(Dense(50))\n",
    "    model.add(Dense(40))\n",
    "    model.add(Dense(30))\n",
    "    model.add(Dense(1))\n",
    "    model.compile(optimizer='adam', loss='mse')\n",
    "    model.fit_generator(generator_train, epochs=_epochs)\n",
    "    \n",
    "    lstm_prediction_test = model.predict(generator_test)\n",
    "    lstm_prediction_train = model.predict(generator_train)\n",
    "    \n",
    "    n = len(lstm_prediction_test)\n",
    "    m = len(lstm_prediction_train)\n",
    "    \n",
    "    df_lstm = pd.DataFrame(\n",
    "        {'DateTime':data.index[-n:],\n",
    "         'Forecast':lstm_prediction_test.reshape(n,), \n",
    "         'Actual':y_test[-n:]})\n",
    "    df_lstm.set_index('DateTime', inplace=True)\n",
    "    \n",
    "    Pi = calculate_Pi(df_lstm)\n",
    "    hit_r = calculate_hit_ratio(Pi)\n",
    "    rmse = calculate_rmse(lstm_prediction_test, y_test[-n:])\n",
    "    train_r2 = calculate_r_squared(lstm_prediction_train.reshape(m,), y_train[-m:])\n",
    "    test_r2 = calculate_r_squared(lstm_prediction_test.reshape(n,), y_test[-n:])\n",
    "    \n",
    "    return (forecast_days, hit_r, rmse, train_r2, test_r2, df_lstm, Pi)"
   ]
  },
  {
   "cell_type": "code",
   "execution_count": null,
   "metadata": {},
   "outputs": [],
   "source": []
  },
  {
   "cell_type": "markdown",
   "metadata": {},
   "source": [
    "## Refactored Models\n",
    "Models to refactor:\n",
    "- Linear Regression\n",
    "- LSTM\n",
    "- TCNN\n",
    "- SVR\n",
    "- SVC"
   ]
  },
  {
   "cell_type": "code",
   "execution_count": null,
   "metadata": {},
   "outputs": [],
   "source": [
    "def linear_regression(data, settings):\n",
    "    \"\"\"Creates a linear regression model and predictions.\n",
    "    \n",
    "    Args:\n",
    "        data: pandas.DataFrame.\n",
    "        settings: Dictionary object containing settings parameters.\n",
    "    Returns:\n",
    "        A dictionary containing the linear regression model and predictions.\n",
    "    \"\"\"\n",
    "    \n",
    "    #  VARIABLES\n",
    "    x_train = data['train']['features']\n",
    "    y_train = data['train']['labels']\n",
    "    x_test = data['test']['features']\n",
    "    scaler = data['scaler']\n",
    "    \n",
    "    #  INSTANTIATE MODEL\n",
    "    model = linear.fit(x_train, y_train)\n",
    "    \n",
    "    #  PREDICTIONS\n",
    "    predictions = model.predict(x_test)\n",
    "    \n",
    "    #  DENORMALIZED PREDICTIONS FOR ACTUAL PREDICTION VALUES\n",
    "    denormalized_predictions = scaler.inverse_transform(predictions)\n",
    "    \n",
    "    return {\n",
    "        'model': model,\n",
    "        'predictions': denormalized_predictions\n",
    "    }"
   ]
  },
  {
   "cell_type": "code",
   "execution_count": null,
   "metadata": {},
   "outputs": [],
   "source": [
    "def long_short_term_memory(data, settings):\n",
    "    \"\"\"Creates a Long short-term memory model (LSTM) and predictions.\n",
    "    \n",
    "    Args:\n",
    "        data: pandas.DataFrame.\n",
    "        settings: Dictionary object containing settings parameters.\n",
    "    Returns:\n",
    "        A dictionary containing the LSTM model and predictions.\n",
    "    \"\"\"\n",
    "    \n",
    "    #  VARIABLES\n",
    "    \n",
    "    #  INSTANTIATE MODEL\n",
    "    model = Sequential()\n",
    "    \n",
    "    \n",
    "    denormalized_predictions = \"\"\n",
    "    \n",
    "    return {\n",
    "        'model': model,\n",
    "        'predictions': denormalized_predictions\n",
    "    }"
   ]
  },
  {
   "cell_type": "markdown",
   "metadata": {},
   "source": [
    "## Test Implementation"
   ]
  },
  {
   "cell_type": "code",
   "execution_count": 7,
   "metadata": {},
   "outputs": [],
   "source": [
    "df = df.set_index('DateTime')\n",
    "df_lstm = df\n",
    "df_lrm = df"
   ]
  },
  {
   "cell_type": "code",
   "execution_count": 8,
   "metadata": {},
   "outputs": [],
   "source": [
    "#  Linear Regression Model, forecast 1 day forward\n",
    "LRM_1 = calculate_lrm_stats(1, df_lrm)"
   ]
  },
  {
   "cell_type": "code",
   "execution_count": 9,
   "metadata": {},
   "outputs": [
    {
     "name": "stdout",
     "output_type": "stream",
     "text": [
      "WARNING:tensorflow:From /Users/mattiaskallman1/anaconda3/lib/python3.7/site-packages/tensorflow_core/python/ops/resource_variable_ops.py:1630: calling BaseResourceVariable.__init__ (from tensorflow.python.ops.resource_variable_ops) with constraint is deprecated and will be removed in a future version.\n",
      "Instructions for updating:\n",
      "If using Keras pass *_constraint arguments to layers.\n",
      "WARNING:tensorflow:From /Users/mattiaskallman1/anaconda3/lib/python3.7/site-packages/keras/backend/tensorflow_backend.py:422: The name tf.global_variables is deprecated. Please use tf.compat.v1.global_variables instead.\n",
      "\n",
      "Epoch 1/5\n",
      "161/161 [==============================] - 3s 16ms/step - loss: 0.0123\n",
      "Epoch 2/5\n",
      "161/161 [==============================] - 2s 14ms/step - loss: 0.0019\n",
      "Epoch 3/5\n",
      "161/161 [==============================] - 3s 18ms/step - loss: 0.0033\n",
      "Epoch 4/5\n",
      "161/161 [==============================] - 2s 15ms/step - loss: 0.0017\n",
      "Epoch 5/5\n",
      "161/161 [==============================] - 2s 13ms/step - loss: 0.0031\n"
     ]
    }
   ],
   "source": [
    "#  LSTM Model, forecast 1 day forward\n",
    "LSTM_1 = calculate_lstm_stats(_days=1, _df=df_lstm, _epochs=5, _n_features=5)"
   ]
  },
  {
   "cell_type": "code",
   "execution_count": 10,
   "metadata": {},
   "outputs": [],
   "source": [
    "LRM_1[-2].to_csv(r'LRM_results.csv')\n",
    "LSTM_1[-2].to_csv(r'LSTM_results.csv')"
   ]
  }
 ],
 "metadata": {
  "kernelspec": {
   "display_name": "Python 3",
   "language": "python",
   "name": "python3"
  },
  "language_info": {
   "codemirror_mode": {
    "name": "ipython",
    "version": 3
   },
   "file_extension": ".py",
   "mimetype": "text/x-python",
   "name": "python",
   "nbconvert_exporter": "python",
   "pygments_lexer": "ipython3",
   "version": "3.7.4"
  }
 },
 "nbformat": 4,
 "nbformat_minor": 2
}
