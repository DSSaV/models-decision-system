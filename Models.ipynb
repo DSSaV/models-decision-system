{
 "cells": [
  {
   "cell_type": "markdown",
   "metadata": {},
   "source": [
    "## Imports"
   ]
  },
  {
   "cell_type": "code",
   "execution_count": 1,
   "metadata": {},
   "outputs": [
    {
     "data": {
      "text/html": [
       "        <script type=\"text/javascript\">\n",
       "        window.PlotlyConfig = {MathJaxConfig: 'local'};\n",
       "        if (window.MathJax) {MathJax.Hub.Config({SVG: {font: \"STIX-Web\"}});}\n",
       "        if (typeof require !== 'undefined') {\n",
       "        require.undef(\"plotly\");\n",
       "        requirejs.config({\n",
       "            paths: {\n",
       "                'plotly': ['https://cdn.plot.ly/plotly-latest.min']\n",
       "            }\n",
       "        });\n",
       "        require(['plotly'], function(Plotly) {\n",
       "            window._Plotly = Plotly;\n",
       "        });\n",
       "        }\n",
       "        </script>\n",
       "        "
      ]
     },
     "metadata": {},
     "output_type": "display_data"
    },
    {
     "name": "stderr",
     "output_type": "stream",
     "text": [
      "Using TensorFlow backend.\n"
     ]
    }
   ],
   "source": [
    "#  IMPORTING LIBRARIES\n",
    "import datetime as dt\n",
    "import numpy as np\n",
    "import pandas as pd\n",
    "import os\n",
    "import warnings\n",
    "warnings.filterwarnings('ignore')\n",
    "\n",
    "import plotly\n",
    "import plotly.graph_objs as go\n",
    "from plotly.offline import download_plotlyjs, init_notebook_mode, plot, iplot\n",
    "\n",
    "#  Applying settings to plotly.offline for visualization\n",
    "init_notebook_mode(connected=True)\n",
    "\n",
    "from sklearn.linear_model import LinearRegression\n",
    "from sklearn.model_selection import train_test_split\n",
    "from sklearn.model_selection import TimeSeriesSplit\n",
    "from sklearn.preprocessing import MinMaxScaler\n",
    "import sklearn.metrics\n",
    "\n",
    "import sklearn\n",
    "from sklearn import preprocessing\n",
    "\n",
    "from statsmodels.tools.eval_measures import rmse\n",
    "from keras.models import Sequential\n",
    "from keras.layers import Dense, LSTM, Dropout\n",
    "\n",
    "from keras.preprocessing.sequence import TimeseriesGenerator"
   ]
  },
  {
   "cell_type": "markdown",
   "metadata": {},
   "source": [
    "## Import Data"
   ]
  },
  {
   "cell_type": "code",
   "execution_count": 2,
   "metadata": {},
   "outputs": [],
   "source": [
    "#  Example import, needs to be updated accordingly...\n",
    "df = pd.read_csv(\"MockData.csv\")"
   ]
  },
  {
   "cell_type": "markdown",
   "metadata": {},
   "source": [
    "## Functions"
   ]
  },
  {
   "cell_type": "code",
   "execution_count": 3,
   "metadata": {},
   "outputs": [],
   "source": [
    "def calculate_Pi(df):\n",
    "    \"\"\"Calculates the prediction result for a series, 1=true and 0=false\"\"\"\n",
    "    \n",
    "    result = (df['Actual'].shift(1) - df['Actual'])*(df['Forecast'].shift(1) - df['Forecast'])\n",
    "    result.where(result <= 0, 1, inplace=True) # .where() returns if false.. hence reversed.\n",
    "    result.where(result > 0, 0, inplace=True)\n",
    "    return result\n",
    "\n",
    "def calculate_hit_ratio(Pi):\n",
    "    \"\"\"Calculates the hit ratio for the prediction series Pi.\"\"\"\n",
    "    \n",
    "    result = (Pi.sum()/ len(Pi))\n",
    "    return result\n",
    "\n",
    "def calculate_rmse(prediction, labels):\n",
    "    \"\"\"Function that calculates the Root Mean Square Error of predctions and labels\"\"\"\n",
    "    \n",
    "    rmse = np.sqrt(np.mean(prediction - labels) **2)\n",
    "    return rmse\n",
    "\n",
    "def calculate_r_squared(prediction, labels):\n",
    "    \"\"\"Function that calculates the R-squared error of predctions and labels\"\"\"\n",
    "    \n",
    "    correlation_matrix = np.corrcoef(prediction, labels)\n",
    "    correlation_xy = correlation_matrix[0,1]\n",
    "    r_squared = correlation_xy**2\n",
    "    #r_squared = sklearn.metrics.r2_score(labels, prediction)\n",
    "    return r_squared"
   ]
  },
  {
   "cell_type": "markdown",
   "metadata": {},
   "source": [
    "## Prediction Models\n",
    "### Linear Regression Model"
   ]
  },
  {
   "cell_type": "code",
   "execution_count": 4,
   "metadata": {},
   "outputs": [],
   "source": [
    "def calculate_lrm_stats(_days, _df):\n",
    "    \"\"\"Function that calculates Hit Ratio, RMSE, R-squared values for forecasted 'days' forward\"\"\"\n",
    "    \n",
    "    forecast_days = _days\n",
    "    _df['Label'] = _df['Close'].shift(-forecast_days)\n",
    "    data = _df\n",
    "    data.dropna(how=\"any\", inplace=True)\n",
    "    X = np.array(data.drop(['Label'],1))\n",
    "    y = np.array(data['Label'])\n",
    "    \n",
    "    tss = TimeSeriesSplit(n_splits=5)\n",
    "    for train_index, test_index in tss.split(X):\n",
    "        X_train, X_test = X[train_index], X[test_index]\n",
    "        y_train, y_test = y[train_index], y[test_index]\n",
    "        \n",
    "    l = LinearRegression()\n",
    "    l.fit(X_train, y_train.reshape(len(y_train)))\n",
    "    \n",
    "    forecast = l.predict(X_test)\n",
    "    n = len(forecast)\n",
    "    df_b_r = pd.DataFrame({\n",
    "        'DateTime':data.index[-n:],\n",
    "        'Forecast':forecast,\n",
    "        'Actual':y_test})\n",
    "    df_b_r.set_index('DateTime', inplace=True)\n",
    "    \n",
    "    Pi = calculate_Pi(df_b_r)\n",
    "    hit_r = calculate_hit_ratio(Pi)\n",
    "    rmse = calculate_rmse(df_b_r.Forecast, df_b_r.Actual)\n",
    "    train_r2 = l.score(X_train, y_train)\n",
    "    test_r2 = l.score(X_test, y_test)\n",
    "    \n",
    "    return (forecast_days, hit_r, rmse, train_r2, test_r2, df_b_r, Pi)"
   ]
  },
  {
   "cell_type": "markdown",
   "metadata": {},
   "source": [
    "### LSTM Model"
   ]
  },
  {
   "cell_type": "code",
   "execution_count": 5,
   "metadata": {},
   "outputs": [],
   "source": [
    "def calculate_lstm_stats(_days, _df, _epochs, _n_features):\n",
    "    \"\"\"Function that calculates LSTM Model statistics\"\"\"\n",
    "    \n",
    "    _batch_size = 16\n",
    "    forecast_days = _days\n",
    "    _df['Label'] = _df['Close'].shift(-forecast_days)\n",
    "    data = _df\n",
    "    data.dropna(how=\"any\", inplace=True)\n",
    "    X = np.array(data.drop(['Label'],1))\n",
    "    y = np.array(data['Label'])\n",
    "    \n",
    "    tss = TimeSeriesSplit(n_splits=5)\n",
    "    for train_index, test_index in tss.split(X):\n",
    "        X_train, X_test = X[train_index], X[test_index]\n",
    "        y_train, y_test = y[train_index], y[test_index]\n",
    "        \n",
    "    n_input = 14\n",
    "    n_features = _n_features\n",
    "    \n",
    "    generator_train = TimeseriesGenerator(X_train, y_train, length = n_input, batch_size=_batch_size)\n",
    "    generator_test = TimeseriesGenerator(X_test, y_test, length = n_input, batch_size=_batch_size)\n",
    "    \n",
    "    model = Sequential()\n",
    "    model.add(LSTM(120, activation='tanh', input_shape=(n_input, n_features)))\n",
    "    model.add(Dropout(0.15)) # prevents overfitting\n",
    "    model.add(Dense(50))\n",
    "    model.add(Dense(40))\n",
    "    model.add(Dense(30))\n",
    "    model.add(Dense(1))\n",
    "    model.compile(optimizer='adam', loss='mse')\n",
    "    model.fit_generator(generator_train, epochs=_epochs)\n",
    "    \n",
    "    lstm_prediction_test = model.predict(generator_test)\n",
    "    lstm_prediction_train = model.predict(generator_train)\n",
    "    \n",
    "    n = len(lstm_prediction_test)\n",
    "    m = len(lstm_prediction_train)\n",
    "    \n",
    "    df_lstm = pd.DataFrame(\n",
    "        {'DateTime':data.index[-n:],\n",
    "         'Forecast':lstm_prediction_test.reshape(n,), \n",
    "         'Actual':y_test[-n:]})\n",
    "    df_lstm.set_index('DateTime', inplace=True)\n",
    "    \n",
    "    Pi = calculate_Pi(df_lstm)\n",
    "    hit_r = calculate_hit_ratio(Pi)\n",
    "    rmse = calculate_rmse(lstm_prediction_test, y_test[-n:])\n",
    "    train_r2 = calculate_r_squared(lstm_prediction_train.reshape(m,), y_train[-m:])\n",
    "    test_r2 = calculate_r_squared(lstm_prediction_test.reshape(n,), y_test[-n:])\n",
    "    \n",
    "    return (forecast_days, hit_r, rmse, train_r2, test_r2, df_lstm, Pi)"
   ]
  },
  {
   "cell_type": "markdown",
   "metadata": {},
   "source": [
    "## Decision Models"
   ]
  },
  {
   "cell_type": "code",
   "execution_count": null,
   "metadata": {},
   "outputs": [],
   "source": []
  },
  {
   "cell_type": "markdown",
   "metadata": {},
   "source": [
    "## Implementation"
   ]
  },
  {
   "cell_type": "code",
   "execution_count": 6,
   "metadata": {},
   "outputs": [],
   "source": [
    "df = df.set_index('DateTime')\n",
    "df_lstm = df\n",
    "df_lrm = df"
   ]
  },
  {
   "cell_type": "code",
   "execution_count": 7,
   "metadata": {},
   "outputs": [],
   "source": [
    "#  Linear Regression Model, forecast 1 day forward\n",
    "LRM_1 = calculate_lrm_stats(1, df_lrm)"
   ]
  },
  {
   "cell_type": "code",
   "execution_count": 8,
   "metadata": {},
   "outputs": [
    {
     "data": {
      "text/html": [
       "<div>\n",
       "<style scoped>\n",
       "    .dataframe tbody tr th:only-of-type {\n",
       "        vertical-align: middle;\n",
       "    }\n",
       "\n",
       "    .dataframe tbody tr th {\n",
       "        vertical-align: top;\n",
       "    }\n",
       "\n",
       "    .dataframe thead th {\n",
       "        text-align: right;\n",
       "    }\n",
       "</style>\n",
       "<table border=\"1\" class=\"dataframe\">\n",
       "  <thead>\n",
       "    <tr style=\"text-align: right;\">\n",
       "      <th></th>\n",
       "      <th>Forecast</th>\n",
       "      <th>Actual</th>\n",
       "    </tr>\n",
       "    <tr>\n",
       "      <th>DateTime</th>\n",
       "      <th></th>\n",
       "      <th></th>\n",
       "    </tr>\n",
       "  </thead>\n",
       "  <tbody>\n",
       "    <tr>\n",
       "      <td>2018-05-07</td>\n",
       "      <td>0.347359</td>\n",
       "      <td>0.331828</td>\n",
       "    </tr>\n",
       "    <tr>\n",
       "      <td>2018-05-08</td>\n",
       "      <td>0.332759</td>\n",
       "      <td>0.327243</td>\n",
       "    </tr>\n",
       "    <tr>\n",
       "      <td>2018-05-09</td>\n",
       "      <td>0.328671</td>\n",
       "      <td>0.342300</td>\n",
       "    </tr>\n",
       "    <tr>\n",
       "      <td>2018-05-10</td>\n",
       "      <td>0.343218</td>\n",
       "      <td>0.348099</td>\n",
       "    </tr>\n",
       "    <tr>\n",
       "      <td>2018-05-11</td>\n",
       "      <td>0.348874</td>\n",
       "      <td>0.350998</td>\n",
       "    </tr>\n",
       "    <tr>\n",
       "      <td>...</td>\n",
       "      <td>...</td>\n",
       "      <td>...</td>\n",
       "    </tr>\n",
       "    <tr>\n",
       "      <td>2019-12-25</td>\n",
       "      <td>0.157710</td>\n",
       "      <td>0.159700</td>\n",
       "    </tr>\n",
       "    <tr>\n",
       "      <td>2019-12-26</td>\n",
       "      <td>0.158769</td>\n",
       "      <td>0.175454</td>\n",
       "    </tr>\n",
       "    <tr>\n",
       "      <td>2019-12-27</td>\n",
       "      <td>0.174245</td>\n",
       "      <td>0.177701</td>\n",
       "    </tr>\n",
       "    <tr>\n",
       "      <td>2019-12-29</td>\n",
       "      <td>0.176497</td>\n",
       "      <td>0.182196</td>\n",
       "    </tr>\n",
       "    <tr>\n",
       "      <td>2019-12-30</td>\n",
       "      <td>0.180866</td>\n",
       "      <td>0.188129</td>\n",
       "    </tr>\n",
       "  </tbody>\n",
       "</table>\n",
       "<p>517 rows × 2 columns</p>\n",
       "</div>"
      ],
      "text/plain": [
       "            Forecast    Actual\n",
       "DateTime                      \n",
       "2018-05-07  0.347359  0.331828\n",
       "2018-05-08  0.332759  0.327243\n",
       "2018-05-09  0.328671  0.342300\n",
       "2018-05-10  0.343218  0.348099\n",
       "2018-05-11  0.348874  0.350998\n",
       "...              ...       ...\n",
       "2019-12-25  0.157710  0.159700\n",
       "2019-12-26  0.158769  0.175454\n",
       "2019-12-27  0.174245  0.177701\n",
       "2019-12-29  0.176497  0.182196\n",
       "2019-12-30  0.180866  0.188129\n",
       "\n",
       "[517 rows x 2 columns]"
      ]
     },
     "execution_count": 8,
     "metadata": {},
     "output_type": "execute_result"
    }
   ],
   "source": [
    "LRM_1[-2]"
   ]
  },
  {
   "cell_type": "code",
   "execution_count": null,
   "metadata": {},
   "outputs": [],
   "source": []
  },
  {
   "cell_type": "code",
   "execution_count": 9,
   "metadata": {},
   "outputs": [
    {
     "name": "stdout",
     "output_type": "stream",
     "text": [
      "WARNING:tensorflow:From /Users/mattiaskallman1/anaconda3/lib/python3.7/site-packages/tensorflow_core/python/ops/resource_variable_ops.py:1630: calling BaseResourceVariable.__init__ (from tensorflow.python.ops.resource_variable_ops) with constraint is deprecated and will be removed in a future version.\n",
      "Instructions for updating:\n",
      "If using Keras pass *_constraint arguments to layers.\n",
      "WARNING:tensorflow:From /Users/mattiaskallman1/anaconda3/lib/python3.7/site-packages/keras/backend/tensorflow_backend.py:422: The name tf.global_variables is deprecated. Please use tf.compat.v1.global_variables instead.\n",
      "\n",
      "Epoch 1/5\n",
      "161/161 [==============================] - 3s 17ms/step - loss: 0.0089\n",
      "Epoch 2/5\n",
      "161/161 [==============================] - 2s 13ms/step - loss: 0.0025\n",
      "Epoch 3/5\n",
      "161/161 [==============================] - 2s 13ms/step - loss: 0.0019\n",
      "Epoch 4/5\n",
      "161/161 [==============================] - 2s 14ms/step - loss: 0.0021\n",
      "Epoch 5/5\n",
      "161/161 [==============================] - 2s 14ms/step - loss: 0.0016\n"
     ]
    }
   ],
   "source": [
    "#  LSTM Model, forecast 1 day forward\n",
    "LSTM_1 = calculate_lstm_stats(_days=1, _df=df_lstm, _epochs=5, _n_features=5)"
   ]
  },
  {
   "cell_type": "code",
   "execution_count": 10,
   "metadata": {},
   "outputs": [
    {
     "data": {
      "text/html": [
       "<div>\n",
       "<style scoped>\n",
       "    .dataframe tbody tr th:only-of-type {\n",
       "        vertical-align: middle;\n",
       "    }\n",
       "\n",
       "    .dataframe tbody tr th {\n",
       "        vertical-align: top;\n",
       "    }\n",
       "\n",
       "    .dataframe thead th {\n",
       "        text-align: right;\n",
       "    }\n",
       "</style>\n",
       "<table border=\"1\" class=\"dataframe\">\n",
       "  <thead>\n",
       "    <tr style=\"text-align: right;\">\n",
       "      <th></th>\n",
       "      <th>Forecast</th>\n",
       "      <th>Actual</th>\n",
       "    </tr>\n",
       "    <tr>\n",
       "      <th>DateTime</th>\n",
       "      <th></th>\n",
       "      <th></th>\n",
       "    </tr>\n",
       "  </thead>\n",
       "  <tbody>\n",
       "    <tr>\n",
       "      <td>2018-05-22</td>\n",
       "      <td>0.304455</td>\n",
       "      <td>0.296319</td>\n",
       "    </tr>\n",
       "    <tr>\n",
       "      <td>2018-05-23</td>\n",
       "      <td>0.307196</td>\n",
       "      <td>0.299195</td>\n",
       "    </tr>\n",
       "    <tr>\n",
       "      <td>2018-05-24</td>\n",
       "      <td>0.302512</td>\n",
       "      <td>0.282542</td>\n",
       "    </tr>\n",
       "    <tr>\n",
       "      <td>2018-05-25</td>\n",
       "      <td>0.298367</td>\n",
       "      <td>0.291667</td>\n",
       "    </tr>\n",
       "    <tr>\n",
       "      <td>2018-05-27</td>\n",
       "      <td>0.286308</td>\n",
       "      <td>0.277665</td>\n",
       "    </tr>\n",
       "    <tr>\n",
       "      <td>...</td>\n",
       "      <td>...</td>\n",
       "      <td>...</td>\n",
       "    </tr>\n",
       "    <tr>\n",
       "      <td>2019-12-24</td>\n",
       "      <td>0.146068</td>\n",
       "      <td>0.158172</td>\n",
       "    </tr>\n",
       "    <tr>\n",
       "      <td>2019-12-25</td>\n",
       "      <td>0.144745</td>\n",
       "      <td>0.159700</td>\n",
       "    </tr>\n",
       "    <tr>\n",
       "      <td>2019-12-26</td>\n",
       "      <td>0.143556</td>\n",
       "      <td>0.175454</td>\n",
       "    </tr>\n",
       "    <tr>\n",
       "      <td>2019-12-27</td>\n",
       "      <td>0.143979</td>\n",
       "      <td>0.177701</td>\n",
       "    </tr>\n",
       "    <tr>\n",
       "      <td>2019-12-29</td>\n",
       "      <td>0.153920</td>\n",
       "      <td>0.182196</td>\n",
       "    </tr>\n",
       "  </tbody>\n",
       "</table>\n",
       "<p>503 rows × 2 columns</p>\n",
       "</div>"
      ],
      "text/plain": [
       "            Forecast    Actual\n",
       "DateTime                      \n",
       "2018-05-22  0.304455  0.296319\n",
       "2018-05-23  0.307196  0.299195\n",
       "2018-05-24  0.302512  0.282542\n",
       "2018-05-25  0.298367  0.291667\n",
       "2018-05-27  0.286308  0.277665\n",
       "...              ...       ...\n",
       "2019-12-24  0.146068  0.158172\n",
       "2019-12-25  0.144745  0.159700\n",
       "2019-12-26  0.143556  0.175454\n",
       "2019-12-27  0.143979  0.177701\n",
       "2019-12-29  0.153920  0.182196\n",
       "\n",
       "[503 rows x 2 columns]"
      ]
     },
     "execution_count": 10,
     "metadata": {},
     "output_type": "execute_result"
    }
   ],
   "source": [
    "LSTM_1[-2]"
   ]
  },
  {
   "cell_type": "code",
   "execution_count": 11,
   "metadata": {},
   "outputs": [],
   "source": [
    "LRM_1[-2].to_csv(r'LRM_results.csv')\n",
    "LSTM_1[-2].to_csv(r'LSTM_results.csv')"
   ]
  },
  {
   "cell_type": "code",
   "execution_count": null,
   "metadata": {},
   "outputs": [],
   "source": []
  }
 ],
 "metadata": {
  "kernelspec": {
   "display_name": "Python 3",
   "language": "python",
   "name": "python3"
  },
  "language_info": {
   "codemirror_mode": {
    "name": "ipython",
    "version": 3
   },
   "file_extension": ".py",
   "mimetype": "text/x-python",
   "name": "python",
   "nbconvert_exporter": "python",
   "pygments_lexer": "ipython3",
   "version": "3.7.4"
  }
 },
 "nbformat": 4,
 "nbformat_minor": 2
}
